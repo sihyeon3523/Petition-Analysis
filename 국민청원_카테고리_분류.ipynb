{
 "cells": [
  {
   "cell_type": "markdown",
   "metadata": {
    "id": "DN8TDD_gt0yy"
   },
   "source": [
    "# 국민청원 데이터로 청원 카테고리 분류하기"
   ]
  },
  {
   "cell_type": "markdown",
   "metadata": {
    "id": "e7MNAfcMt0y0"
   },
   "source": [
    "* 청원의 카테고리를 분류해 봅니다."
   ]
  },
  {
   "cell_type": "code",
   "execution_count": 1,
   "metadata": {
    "colab": {
     "base_uri": "https://localhost:8080/",
     "height": 52
    },
    "id": "PHdzuhsQt0y1",
    "outputId": "91fccc00-9cdc-4c99-9cf4-4a18a09fde26"
   },
   "outputs": [
    {
     "name": "stdout",
     "output_type": "stream",
     "text": [
      "0.23.4\n",
      "1.16.4\n"
     ]
    }
   ],
   "source": [
    "# 필요한 모듈들을 불러옵니다.\n",
    "import pandas as pd\n",
    "import numpy as np\n",
    "import re\n",
    "print(pd.__version__)\n",
    "print(np.__version__)"
   ]
  },
  {
   "cell_type": "code",
   "execution_count": 2,
   "metadata": {
    "colab": {
     "base_uri": "https://localhost:8080/",
     "height": 69
    },
    "id": "wCf6Yn3M_S9S",
    "outputId": "757ebc32-47af-4557-dd88-3fdecef2bd50"
   },
   "outputs": [],
   "source": [
    "# 그래프에 retina display 적용\n",
    "%config InlineBackend.figure_format = 'retina'\n",
    "\n"
   ]
  },
  {
   "cell_type": "code",
   "execution_count": 3,
   "metadata": {},
   "outputs": [
    {
     "data": {
      "text/plain": [
       "(395547, 8)"
      ]
     },
     "execution_count": 3,
     "metadata": {},
     "output_type": "execute_result"
    }
   ],
   "source": [
    "# 크롤링해 온 국민청원 데이터를 판다스를 통해 읽어옵니다.\n",
    "petitions = pd.read_csv('petition.csv', parse_dates=['start', 'end'])\n",
    "# 데이터의 크기가 어느정도인지 봅니다.\n",
    "petitions.shape"
   ]
  },
  {
   "cell_type": "code",
   "execution_count": 4,
   "metadata": {},
   "outputs": [
    {
     "data": {
      "text/plain": [
       "(5388, 8)"
      ]
     },
     "execution_count": 4,
     "metadata": {},
     "output_type": "execute_result"
    }
   ],
   "source": [
    "# 전체 데이터 중 투표가 500건 이상인 데이터를 기준으로 가져옵니다.\n",
    "df = petitions.loc[(petitions['votes'] > 500)].copy()\n",
    "df.shape"
   ]
  },
  {
   "cell_type": "code",
   "execution_count": 5,
   "metadata": {},
   "outputs": [
    {
     "data": {
      "text/plain": [
       "인권/성평등         699\n",
       "육아/교육          606\n",
       "안전/환경          526\n",
       "교통/건축/국토       503\n",
       "보건복지           492\n",
       "정치개혁           466\n",
       "기타             444\n",
       "문화/예술/체육/언론    308\n",
       "행정             264\n",
       "외교/통일/국방       261\n",
       "일자리            250\n",
       "경제민주화          191\n",
       "반려동물           160\n",
       "미래              86\n",
       "성장동력            52\n",
       "저출산/고령화대책       44\n",
       "농산어촌            36\n",
       "Name: category, dtype: int64"
      ]
     },
     "execution_count": 5,
     "metadata": {},
     "output_type": "execute_result"
    }
   ],
   "source": [
    "category_count = df['category'].value_counts()\n",
    "category_count"
   ]
  },
  {
   "cell_type": "code",
   "execution_count": 6,
   "metadata": {},
   "outputs": [
    {
     "data": {
      "text/plain": [
       "(395547, 8)"
      ]
     },
     "execution_count": 6,
     "metadata": {},
     "output_type": "execute_result"
    }
   ],
   "source": [
    "# 크롤링해 온 국민청원 데이터를 판다스를 통해 읽어옵니다.\n",
    "petitions = pd.read_csv('petition.csv', parse_dates=['start', 'end'])\n",
    "# 데이터의 크기가 어느정도인지 봅니다.\n",
    "petitions.shape"
   ]
  },
  {
   "cell_type": "code",
   "execution_count": 7,
   "metadata": {
    "colab": {
     "base_uri": "https://localhost:8080/",
     "height": 294
    },
    "id": "ixDZW6f0t0y9",
    "outputId": "47933760-e462-431d-fed7-88c6a9967b41"
   },
   "outputs": [
    {
     "data": {
      "text/html": [
       "<div>\n",
       "<style scoped>\n",
       "    .dataframe tbody tr th:only-of-type {\n",
       "        vertical-align: middle;\n",
       "    }\n",
       "\n",
       "    .dataframe tbody tr th {\n",
       "        vertical-align: top;\n",
       "    }\n",
       "\n",
       "    .dataframe thead th {\n",
       "        text-align: right;\n",
       "    }\n",
       "</style>\n",
       "<table border=\"1\" class=\"dataframe\">\n",
       "  <thead>\n",
       "    <tr style=\"text-align: right;\">\n",
       "      <th></th>\n",
       "      <th>article_id</th>\n",
       "      <th>answered</th>\n",
       "      <th>votes</th>\n",
       "    </tr>\n",
       "  </thead>\n",
       "  <tbody>\n",
       "    <tr>\n",
       "      <th>count</th>\n",
       "      <td>395547.000000</td>\n",
       "      <td>395547.000000</td>\n",
       "      <td>3.955470e+05</td>\n",
       "    </tr>\n",
       "    <tr>\n",
       "      <th>mean</th>\n",
       "      <td>251608.934635</td>\n",
       "      <td>0.000073</td>\n",
       "      <td>1.501188e+02</td>\n",
       "    </tr>\n",
       "    <tr>\n",
       "      <th>std</th>\n",
       "      <td>153219.216242</td>\n",
       "      <td>0.008562</td>\n",
       "      <td>4.802583e+03</td>\n",
       "    </tr>\n",
       "    <tr>\n",
       "      <th>min</th>\n",
       "      <td>21.000000</td>\n",
       "      <td>0.000000</td>\n",
       "      <td>0.000000e+00</td>\n",
       "    </tr>\n",
       "    <tr>\n",
       "      <th>25%</th>\n",
       "      <td>115236.500000</td>\n",
       "      <td>0.000000</td>\n",
       "      <td>2.000000e+00</td>\n",
       "    </tr>\n",
       "    <tr>\n",
       "      <th>50%</th>\n",
       "      <td>253682.000000</td>\n",
       "      <td>0.000000</td>\n",
       "      <td>5.000000e+00</td>\n",
       "    </tr>\n",
       "    <tr>\n",
       "      <th>75%</th>\n",
       "      <td>386137.500000</td>\n",
       "      <td>0.000000</td>\n",
       "      <td>1.500000e+01</td>\n",
       "    </tr>\n",
       "    <tr>\n",
       "      <th>max</th>\n",
       "      <td>517122.000000</td>\n",
       "      <td>1.000000</td>\n",
       "      <td>1.192049e+06</td>\n",
       "    </tr>\n",
       "  </tbody>\n",
       "</table>\n",
       "</div>"
      ],
      "text/plain": [
       "          article_id       answered         votes\n",
       "count  395547.000000  395547.000000  3.955470e+05\n",
       "mean   251608.934635       0.000073  1.501188e+02\n",
       "std    153219.216242       0.008562  4.802583e+03\n",
       "min        21.000000       0.000000  0.000000e+00\n",
       "25%    115236.500000       0.000000  2.000000e+00\n",
       "50%    253682.000000       0.000000  5.000000e+00\n",
       "75%    386137.500000       0.000000  1.500000e+01\n",
       "max    517122.000000       1.000000  1.192049e+06"
      ]
     },
     "execution_count": 7,
     "metadata": {},
     "output_type": "execute_result"
    }
   ],
   "source": [
    "petitions.describe()"
   ]
  },
  {
   "cell_type": "code",
   "execution_count": 8,
   "metadata": {
    "colab": {
     "base_uri": "https://localhost:8080/",
     "height": 35
    },
    "id": "Wd8-AqNut0zA",
    "outputId": "0560eed0-6184-4b11-caf1-b1aedb6f4be4"
   },
   "outputs": [
    {
     "data": {
      "text/plain": [
       "(3359, 8)"
      ]
     },
     "execution_count": 8,
     "metadata": {},
     "output_type": "execute_result"
    }
   ],
   "source": [
    "# 전체 데이터 중 투표가 1000건 이상인 데이터를 기준으로 가져옵니다. 아웃라이어 데이터 제거를 위해 10만건 이상 데이터도 제거합니다.\n",
    "df = petitions.loc[(petitions['votes'] > 1000) & (petitions['votes'] < 100000)].copy()\n",
    "\n",
    "# 수가 줄어들었음을 확인할 수 있습니다.\n",
    "df.shape"
   ]
  },
  {
   "cell_type": "code",
   "execution_count": 9,
   "metadata": {
    "colab": {
     "base_uri": "https://localhost:8080/",
     "height": 329
    },
    "id": "JJYlPg80t0zG",
    "outputId": "b2dc541e-21fc-4440-defb-b8e9fc11b4d4"
   },
   "outputs": [
    {
     "data": {
      "text/plain": [
       "인권/성평등         433\n",
       "육아/교육          402\n",
       "안전/환경          331\n",
       "보건복지           321\n",
       "교통/건축/국토       303\n",
       "정치개혁           271\n",
       "기타             270\n",
       "문화/예술/체육/언론    197\n",
       "외교/통일/국방       161\n",
       "행정             155\n",
       "일자리            154\n",
       "반려동물           118\n",
       "경제민주화          111\n",
       "미래              56\n",
       "성장동력            29\n",
       "저출산/고령화대책       28\n",
       "농산어촌            19\n",
       "Name: category, dtype: int64"
      ]
     },
     "execution_count": 9,
     "metadata": {},
     "output_type": "execute_result"
    }
   ],
   "source": [
    "# 카테고리별 국민청원 수를 확인 해 봅니다. \n",
    "category_count = df['category'].value_counts()\n",
    "category_count"
   ]
  },
  {
   "cell_type": "code",
   "execution_count": 10,
   "metadata": {
    "id": "YkQ2_4c2t0zM"
   },
   "outputs": [],
   "source": [
    "# 예측값과 실제값 비교를 위해 컬럼을 하나 더 생성합니다. 카테고리에 해당되는 칼럼을 똑같이 복사해서 새로운 칼럼을 제작합니다.\n",
    "df['category_pred'] = df['category'].copy()"
   ]
  },
  {
   "cell_type": "code",
   "execution_count": 11,
   "metadata": {
    "colab": {
     "base_uri": "https://localhost:8080/",
     "height": 358
    },
    "id": "3MMJK1mkt0zJ",
    "outputId": "f8870d35-358c-4832-a22f-cda7b30989b7"
   },
   "outputs": [
    {
     "data": {
      "text/plain": [
       "<matplotlib.axes._subplots.AxesSubplot at 0x1034209c4c8>"
      ]
     },
     "execution_count": 11,
     "metadata": {},
     "output_type": "execute_result"
    },
    {
     "data": {
      "image/png": "[encoded data removed]",
      "text/plain": [
       "<Figure size 432x288 with 1 Axes>"
      ]
     },
     "metadata": {
      "image/png": {
       "height": 323,
       "width": 373
      },
      "needs_background": "light"
     },
     "output_type": "display_data"
    }
   ],
   "source": [
    "%matplotlib inline \n",
    "import matplotlib.pyplot as plt\n",
    "\n",
    "# 나눔 바른고딕이 설치되어 있어야 합니다.\n",
    "# 해당 폰트가 없다면 설치된 폰트명으로 지정해 주어야 합니다.\n",
    "plt.rcParams[\"font.family\"] = 'NanumBarunGothic'\n",
    "category_count.plot(kind='bar')"
   ]
  },
  {
   "cell_type": "code",
   "execution_count": 12,
   "metadata": {
    "colab": {
     "base_uri": "https://localhost:8080/",
     "height": 1002
    },
    "id": "m8I3Xs5Bt0zP",
    "outputId": "951e532e-c390-432d-90e9-532866c03c80"
   },
   "outputs": [
    {
     "data": {
      "text/html": [
       "<div>\n",
       "<style scoped>\n",
       "    .dataframe tbody tr th:only-of-type {\n",
       "        vertical-align: middle;\n",
       "    }\n",
       "\n",
       "    .dataframe tbody tr th {\n",
       "        vertical-align: top;\n",
       "    }\n",
       "\n",
       "    .dataframe thead th {\n",
       "        text-align: right;\n",
       "    }\n",
       "</style>\n",
       "<table border=\"1\" class=\"dataframe\">\n",
       "  <thead>\n",
       "    <tr style=\"text-align: right;\">\n",
       "      <th></th>\n",
       "      <th>article_id</th>\n",
       "      <th>start</th>\n",
       "      <th>end</th>\n",
       "      <th>answered</th>\n",
       "      <th>votes</th>\n",
       "      <th>category</th>\n",
       "      <th>title</th>\n",
       "      <th>content</th>\n",
       "      <th>category_pred</th>\n",
       "    </tr>\n",
       "  </thead>\n",
       "  <tbody>\n",
       "    <tr>\n",
       "      <th>7</th>\n",
       "      <td>28</td>\n",
       "      <td>2017-08-19</td>\n",
       "      <td>2017-08-26</td>\n",
       "      <td>0</td>\n",
       "      <td>2137</td>\n",
       "      <td>경제민주화</td>\n",
       "      <td>소액주주를 보호해주십시오</td>\n",
       "      <td>**  존경하옵는 문재인대통령님께\\n저는 중국원양자원이라는 KOSPI상장사의 소액 ...</td>\n",
       "      <td>경제민주화</td>\n",
       "    </tr>\n",
       "    <tr>\n",
       "      <th>21</th>\n",
       "      <td>43</td>\n",
       "      <td>2017-08-19</td>\n",
       "      <td>2017-09-18</td>\n",
       "      <td>0</td>\n",
       "      <td>11293</td>\n",
       "      <td>육아/교육</td>\n",
       "      <td>기간제 교사의 정규직화를 반대합니다.</td>\n",
       "      <td>대통령님, 안녕하세요. 저는 임용을 준비하고 수험생입니다. 처음 기간제 정규직화 된...</td>\n",
       "      <td>육아/교육</td>\n",
       "    </tr>\n",
       "    <tr>\n",
       "      <th>24</th>\n",
       "      <td>46</td>\n",
       "      <td>2017-08-19</td>\n",
       "      <td>2017-09-18</td>\n",
       "      <td>0</td>\n",
       "      <td>1933</td>\n",
       "      <td>육아/교육</td>\n",
       "      <td>기간제교사의 정규직화를 반대합니다.</td>\n",
       "      <td>대통령님, 안녕하세요. 저는 임용을 준비하고 수험생입니다. 처음 기간제 정규직화 된...</td>\n",
       "      <td>육아/교육</td>\n",
       "    </tr>\n",
       "    <tr>\n",
       "      <th>28</th>\n",
       "      <td>50</td>\n",
       "      <td>2017-08-19</td>\n",
       "      <td>2017-10-18</td>\n",
       "      <td>0</td>\n",
       "      <td>1251</td>\n",
       "      <td>일자리</td>\n",
       "      <td>치과위생사 국가고시 날짜 변경 억울합니다</td>\n",
       "      <td>안녕하십니까? 대통령님 간단하게 제소개 부터 하겠습니다. 저는 치위생과 3학년 학생...</td>\n",
       "      <td>일자리</td>\n",
       "    </tr>\n",
       "    <tr>\n",
       "      <th>38</th>\n",
       "      <td>61</td>\n",
       "      <td>2017-08-19</td>\n",
       "      <td>2017-08-26</td>\n",
       "      <td>0</td>\n",
       "      <td>1185</td>\n",
       "      <td>일자리</td>\n",
       "      <td>영어회화전문강사제도는 유지되어야합니다.</td>\n",
       "      <td>1. 영전강의고용안정을 원합니다\\n2.1년단위계약직으로 임신 출산육아 매우 곤란합니...</td>\n",
       "      <td>일자리</td>\n",
       "    </tr>\n",
       "  </tbody>\n",
       "</table>\n",
       "</div>"
      ],
      "text/plain": [
       "    article_id      start        end  answered  votes category  \\\n",
       "7           28 2017-08-19 2017-08-26         0   2137    경제민주화   \n",
       "21          43 2017-08-19 2017-09-18         0  11293    육아/교육   \n",
       "24          46 2017-08-19 2017-09-18         0   1933    육아/교육   \n",
       "28          50 2017-08-19 2017-10-18         0   1251      일자리   \n",
       "38          61 2017-08-19 2017-08-26         0   1185      일자리   \n",
       "\n",
       "                     title                                            content  \\\n",
       "7            소액주주를 보호해주십시오  **  존경하옵는 문재인대통령님께\\n저는 중국원양자원이라는 KOSPI상장사의 소액 ...   \n",
       "21    기간제 교사의 정규직화를 반대합니다.  대통령님, 안녕하세요. 저는 임용을 준비하고 수험생입니다. 처음 기간제 정규직화 된...   \n",
       "24     기간제교사의 정규직화를 반대합니다.  대통령님, 안녕하세요. 저는 임용을 준비하고 수험생입니다. 처음 기간제 정규직화 된...   \n",
       "28  치과위생사 국가고시 날짜 변경 억울합니다  안녕하십니까? 대통령님 간단하게 제소개 부터 하겠습니다. 저는 치위생과 3학년 학생...   \n",
       "38   영어회화전문강사제도는 유지되어야합니다.  1. 영전강의고용안정을 원합니다\\n2.1년단위계약직으로 임신 출산육아 매우 곤란합니...   \n",
       "\n",
       "   category_pred  \n",
       "7          경제민주화  \n",
       "21         육아/교육  \n",
       "24         육아/교육  \n",
       "28           일자리  \n",
       "38           일자리  "
      ]
     },
     "execution_count": 12,
     "metadata": {},
     "output_type": "execute_result"
    }
   ],
   "source": [
    "df.head()"
   ]
  },
  {
   "cell_type": "code",
   "execution_count": 13,
   "metadata": {},
   "outputs": [
    {
     "data": {
      "text/plain": [
       "28"
      ]
     },
     "execution_count": 13,
     "metadata": {},
     "output_type": "execute_result"
    }
   ],
   "source": [
    "# 첫 번째 인덱스를 샘플 데이터로 활용합니다. \n",
    "sample_index = df.iloc[0][0]\n",
    "sample_index"
   ]
  },
  {
   "cell_type": "code",
   "execution_count": 14,
   "metadata": {},
   "outputs": [
    {
     "data": {
      "text/plain": [
       "'치과위생사 국가고시 날짜 변경 억울합니다'"
      ]
     },
     "execution_count": 14,
     "metadata": {},
     "output_type": "execute_result"
    }
   ],
   "source": [
    "sample_title = df['title'][sample_index]\n",
    "sample_title"
   ]
  },
  {
   "cell_type": "code",
   "execution_count": 15,
   "metadata": {},
   "outputs": [
    {
     "data": {
      "text/plain": [
       "'안녕하십니까? 대통령님 간단하게 제소개 부터 하겠습니다. 저는 치위생과 3학년 학생입니다. 다름이 아니라 너무 억울한\\\\n일이 생겨  이렇게 글을 적어봅니다. 저희 3학년들은 올해 아주 중요한 시험이  있었습니다.3년동안 힘들게 고생하여 이제곧\\\\n끝난다.조금만 힘을내자 라는 생각으로 견뎌내고 있었는데 갑자기 어제 과 단톡방의  이내용이 사실이냐면서 한장의 사진을\\\\n보내주었습니다. 그사진은 국시원에서 올린 공지글을 캡쳐한 사진이였습니다.국시원에서 국가고시 날짜가 변경 되었다.\\\\n그러니 이글을  널리퍼트려줘라라는 의미를 가진 내용이였습니다. 그내용을 읽고 너무 황당하고 어이가 없어서 국시원쪽으로 전화를 해보니 자신들은 어쩔수없었다 나라에서 그날 공무원 시험을 봐야한다 하루의 2번 국시를 볼수없다\\\\n그래서 자신들과 보건복지부에서  다시 날짜를 정했는데 그날이 내년 18년 1월 5일이다 라는것입니다.\\\\n그 말을  듣고 더욱 이해할수가 없었습니다. 먼저 그날 시험을 보기로한 국시생은 저희였는데 갑자기 아무런 말도 문자도\\\\n없고 그공지글도 그냥 통보였습니다. 국가에서보는 시험이 일반 초중고 수행평가도 아니고 갑자기 이런식으로  바뀐다는게\\\\n말이 됩니까? 고등학생들이 보는 모의고사,수능도 이런식으로  변경 하지않습니다.  통보로 날짜를 변경하는건  저희\\\\n에비 의료기사들을 무시하는걸로 보입니다. 저희학교 교수님들은 학생들에게 자부심을 가져라 치과위생사라는 직업을 아끼고 사랑하고 자부심을 가져도 되는 직업이니깐  당당 해져도 괜찮다고  말씀하셨습니다. 하지만 저는  그러지 못할꺼같습니다.  아마 저뿐만이아니라 마음 학생들도 자존심도 낮아지고 무시받는다고 생각했을것입니다.\\\\n17년 12월16일날의 시험을 봐야하는  국시생들은 저희 예비 치과위생사들 입니다. 공무원 시험이 갑자기 잡혀서  봐야한다면 다른날로 정하는게 맞지않을까요? 먼저 그날의 시험을 보기로 한 학생들은 저희입니다\\\\n왜 갑자기 저희가 양보해야하고  피해를봐야합니까?  저희국시 앞으로 4달남은상태였고 지금 많은 학생들이 지쳐지만\\\\n12월만 참으면 된다 라는 생각으로  견딘 학생들에게는 1월에 본다는 통보는 너무 가혹합니다.\\\\n제발  원래대로12월 16일날 국시를 볼수 있도록  도와주세요  제발 다시 정정 해주세요.\\\\n부탁드립니다.\\\\n꼭  끝까지  읽어보셨으면 좋겠습니다.'"
      ]
     },
     "execution_count": 15,
     "metadata": {},
     "output_type": "execute_result"
    }
   ],
   "source": [
    "# 전처리 전 샘플 데이터 \n",
    "sample_content = petitions['content'][sample_index]\n",
    "sample_content"
   ]
  },
  {
   "cell_type": "markdown",
   "metadata": {
    "id": "z3HWXdrYt0zc"
   },
   "source": [
    "# 전처리 하기 "
   ]
  },
  {
   "cell_type": "code",
   "execution_count": 16,
   "metadata": {
    "id": "COgoYusHt0zd"
   },
   "outputs": [],
   "source": [
    "# 전처리를 진행하는 함수를 제작합니다. 전처리를 하는 이유는 결측치나 노이즈를 제거해줌으로써 온전한 예측을 진행하기 위해서입니다.\n",
    "def preprocessing(text):\n",
    "    # 우선 개행문자를 제거한다.\n",
    "    text= str(text)\n",
    "    text = re.sub('\\\\\\\\n', ' ', text)\n",
    "    \n",
    "    # 그 다음 한글, 영문만 남기고 모두 제거하도록 합니다. '가'부터 '힣'까지, 'ㅏ' 부터 'ㅣ' 까지, 대소문자 a부터 z까지만 남기고 제거합니다.\n",
    "    text = re.sub('[^가-힣ㄱ-ㅎㅏ-ㅣa-zA-Z]', ' ', text)\n",
    "    return text"
   ]
  },
  {
   "cell_type": "code",
   "execution_count": 17,
   "metadata": {
    "id": "Wdomu75mt0zg"
   },
   "outputs": [],
   "source": [
    "# 예측에 도움이 되지 않는 불용어를 제거하는 함수를 제작합니다.\n",
    "def remove_stopwords(text):\n",
    "    tokens = text.split(' ')\n",
    "    stops = ['수', '현', '있는', '있습니다', '그', '년도', '합니다', '하는', '및', '제', '할', '하고', '더', '대한', '한', '그리고', '월', '저는', '없는', '입니다', '등', '일', '많은', '이런', '것은', '왜','같은', '같습니다', '없습니다', '위해', '한다']\n",
    "    meaningful_words = [w for w in tokens if not w in stops]\n",
    "    return ' '.join(meaningful_words) # stops 가 담기지 않은 문장 내 토큰들은 제거합니다."
   ]
  },
  {
   "cell_type": "code",
   "execution_count": 18,
   "metadata": {
    "id": "dzBqqRz7t0zh"
   },
   "outputs": [],
   "source": [
    "# 위 샘플데이터에 그대로 전처리 적용\n",
    "pre_sample_content = preprocessing(sample_content)"
   ]
  },
  {
   "cell_type": "code",
   "execution_count": 19,
   "metadata": {
    "id": "95yMeIm1t0zj"
   },
   "outputs": [],
   "source": [
    "pre_sample_content = remove_stopwords(pre_sample_content)"
   ]
  },
  {
   "cell_type": "code",
   "execution_count": 20,
   "metadata": {
    "colab": {
     "base_uri": "https://localhost:8080/",
     "height": 55
    },
    "id": "BJfd8GDSt0zl",
    "outputId": "16310d99-4e55-4d24-ec11-217740244b49"
   },
   "outputs": [
    {
     "data": {
      "text/plain": [
       "'안녕하십니까  대통령님 간단하게 제소개 부터 하겠습니다  치위생과  학년 학생입니다  다름이 아니라 너무 억울한 일이 생겨  이렇게 글을 적어봅니다  저희  학년들은 올해 아주 중요한 시험이  있었습니다  년동안 힘들게 고생하여 이제곧 끝난다 조금만 힘을내자 라는 생각으로 견뎌내고 있었는데 갑자기 어제 과 단톡방의  이내용이 사실이냐면서 한장의 사진을 보내주었습니다  그사진은 국시원에서 올린 공지글을 캡쳐한 사진이였습니다 국시원에서 국가고시 날짜가 변경 되었다  그러니 이글을  널리퍼트려줘라라는 의미를 가진 내용이였습니다  그내용을 읽고 너무 황당하고 어이가 없어서 국시원쪽으로 전화를 해보니 자신들은 어쩔수없었다 나라에서 그날 공무원 시험을 봐야한다 하루의  번 국시를 볼수없다 그래서 자신들과 보건복지부에서  다시 날짜를 정했는데 그날이 내년   년   일이다 라는것입니다  말을  듣고 더욱 이해할수가 없었습니다  먼저 그날 시험을 보기로한 국시생은 저희였는데 갑자기 아무런 말도 문자도 없고 그공지글도 그냥 통보였습니다  국가에서보는 시험이 일반 초중고 수행평가도 아니고 갑자기 이런식으로  바뀐다는게 말이 됩니까  고등학생들이 보는 모의고사 수능도 이런식으로  변경 하지않습니다   통보로 날짜를 변경하는건  저희 에비 의료기사들을 무시하는걸로 보입니다  저희학교 교수님들은 학생들에게 자부심을 가져라 치과위생사라는 직업을 아끼고 사랑하고 자부심을 가져도 되는 직업이니깐  당당 해져도 괜찮다고  말씀하셨습니다  하지만  그러지 못할꺼같습니다   아마 저뿐만이아니라 마음 학생들도 자존심도 낮아지고 무시받는다고 생각했을것입니다    년    일날의 시험을 봐야하는  국시생들은 저희 예비 치과위생사들  공무원 시험이 갑자기 잡혀서  봐야한다면 다른날로 정하는게 맞지않을까요  먼저 그날의 시험을 보기로 학생들은 저희입니다 갑자기 저희가 양보해야하고  피해를봐야합니까   저희국시 앞으로  달남은상태였고 지금 학생들이 지쳐지만   월만 참으면 된다 라는 생각으로  견딘 학생들에게는  월에 본다는 통보는 너무 가혹합니다  제발  원래대로    일날 국시를 볼수 있도록  도와주세요  제발 다시 정정 해주세요  부탁드립니다  꼭  끝까지  읽어보셨으면 좋겠습니다 '"
      ]
     },
     "execution_count": 20,
     "metadata": {},
     "output_type": "execute_result"
    }
   ],
   "source": [
    "pre_sample_content"
   ]
  },
  {
   "cell_type": "code",
   "execution_count": 21,
   "metadata": {
    "colab": {
     "base_uri": "https://localhost:8080/",
     "height": 72
    },
    "id": "7GZqVmQQt0zn",
    "outputId": "b35f0127-f5ff-4e04-cf34-3443ef7a09f0"
   },
   "outputs": [
    {
     "name": "stdout",
     "output_type": "stream",
     "text": [
      "Wall time: 418 ms\n"
     ]
    }
   ],
   "source": [
    "# 해당 데이터를 전처리한 뒤 칼럼으로 추가합니다.\n",
    "%time df['content_preprocessing'] = df['content'].apply(preprocessing)"
   ]
  },
  {
   "cell_type": "code",
   "execution_count": 22,
   "metadata": {
    "colab": {
     "base_uri": "https://localhost:8080/",
     "height": 72
    },
    "id": "10tjDPZjt0zq",
    "outputId": "0f300f20-752c-422d-c44f-a30e88368ab7"
   },
   "outputs": [
    {
     "name": "stdout",
     "output_type": "stream",
     "text": [
      "Wall time: 578 ms\n"
     ]
    }
   ],
   "source": [
    "# 해당 데이터의 불용어를 제거한 뒤 칼럼으로 추가합니다.\n",
    "%time df['content_preprocessing2'] = df['content_preprocessing'].apply(remove_stopwords)"
   ]
  },
  {
   "cell_type": "markdown",
   "metadata": {
    "id": "TW7ezgBFt0zs"
   },
   "source": [
    "# 학습세트와 테스트세트 만들기\n",
    "* 학습세트와 테스트세트를 7:3의 비율로 나눠 줍니다."
   ]
  },
  {
   "cell_type": "code",
   "execution_count": 23,
   "metadata": {
    "id": "bwmGTRmrt0zt"
   },
   "outputs": [],
   "source": [
    "# 학습세트와 테스트세트를 7대 3으로 나누어줍니다.\n",
    "df = df.reindex()"
   ]
  },
  {
   "cell_type": "code",
   "execution_count": 24,
   "metadata": {
    "colab": {
     "base_uri": "https://localhost:8080/",
     "height": 35
    },
    "id": "to53_TKAt0zw",
    "outputId": "4254f5e9-6623-47cb-a400-fc5a6f0d1a09"
   },
   "outputs": [
    {
     "data": {
      "text/plain": [
       "(3359, 11)"
      ]
     },
     "execution_count": 24,
     "metadata": {},
     "output_type": "execute_result"
    }
   ],
   "source": [
    "df.shape"
   ]
  },
  {
   "cell_type": "code",
   "execution_count": 25,
   "metadata": {
    "colab": {
     "base_uri": "https://localhost:8080/",
     "height": 35
    },
    "id": "yIIr4nu_t0zy",
    "outputId": "46d04b9f-22e6-4153-ac45-a7115708e591"
   },
   "outputs": [
    {
     "data": {
      "text/plain": [
       "2351"
      ]
     },
     "execution_count": 25,
     "metadata": {},
     "output_type": "execute_result"
    }
   ],
   "source": [
    "split_count = int(df.shape[0] * 0.7) # 2264\n",
    "split_count"
   ]
  },
  {
   "cell_type": "code",
   "execution_count": 26,
   "metadata": {
    "colab": {
     "base_uri": "https://localhost:8080/",
     "height": 35
    },
    "id": "C53UGWANt0z0",
    "outputId": "c83f75a0-890c-43fb-cc7e-c53f8279ca45"
   },
   "outputs": [
    {
     "data": {
      "text/plain": [
       "(2351, 11)"
      ]
     },
     "execution_count": 26,
     "metadata": {},
     "output_type": "execute_result"
    }
   ],
   "source": [
    "df_train = df[:split_count].copy() # 학습세트에 70%를 채워줍니다. \n",
    "df_train.shape"
   ]
  },
  {
   "cell_type": "code",
   "execution_count": 27,
   "metadata": {},
   "outputs": [
    {
     "data": {
      "text/html": [
       "<div>\n",
       "<style scoped>\n",
       "    .dataframe tbody tr th:only-of-type {\n",
       "        vertical-align: middle;\n",
       "    }\n",
       "\n",
       "    .dataframe tbody tr th {\n",
       "        vertical-align: top;\n",
       "    }\n",
       "\n",
       "    .dataframe thead th {\n",
       "        text-align: right;\n",
       "    }\n",
       "</style>\n",
       "<table border=\"1\" class=\"dataframe\">\n",
       "  <thead>\n",
       "    <tr style=\"text-align: right;\">\n",
       "      <th></th>\n",
       "      <th>article_id</th>\n",
       "      <th>start</th>\n",
       "      <th>end</th>\n",
       "      <th>answered</th>\n",
       "      <th>votes</th>\n",
       "      <th>category</th>\n",
       "      <th>title</th>\n",
       "      <th>content</th>\n",
       "      <th>category_pred</th>\n",
       "      <th>content_preprocessing</th>\n",
       "      <th>content_preprocessing2</th>\n",
       "    </tr>\n",
       "  </thead>\n",
       "  <tbody>\n",
       "    <tr>\n",
       "      <th>7</th>\n",
       "      <td>28</td>\n",
       "      <td>2017-08-19</td>\n",
       "      <td>2017-08-26</td>\n",
       "      <td>0</td>\n",
       "      <td>2137</td>\n",
       "      <td>경제민주화</td>\n",
       "      <td>소액주주를 보호해주십시오</td>\n",
       "      <td>**  존경하옵는 문재인대통령님께\\n저는 중국원양자원이라는 KOSPI상장사의 소액 ...</td>\n",
       "      <td>경제민주화</td>\n",
       "      <td>존경하옵는 문재인대통령님께 저는 중국원양자원이라는 KOSPI상장사의 소액 주...</td>\n",
       "      <td>존경하옵는 문재인대통령님께 중국원양자원이라는 KOSPI상장사의 소액 주주입니...</td>\n",
       "    </tr>\n",
       "    <tr>\n",
       "      <th>21</th>\n",
       "      <td>43</td>\n",
       "      <td>2017-08-19</td>\n",
       "      <td>2017-09-18</td>\n",
       "      <td>0</td>\n",
       "      <td>11293</td>\n",
       "      <td>육아/교육</td>\n",
       "      <td>기간제 교사의 정규직화를 반대합니다.</td>\n",
       "      <td>대통령님, 안녕하세요. 저는 임용을 준비하고 수험생입니다. 처음 기간제 정규직화 된...</td>\n",
       "      <td>육아/교육</td>\n",
       "      <td>대통령님  안녕하세요  저는 임용을 준비하고 수험생입니다  처음 기간제 정규직화 된...</td>\n",
       "      <td>대통령님  안녕하세요  임용을 준비하고 수험생입니다  처음 기간제 정규직화 된다고 ...</td>\n",
       "    </tr>\n",
       "    <tr>\n",
       "      <th>24</th>\n",
       "      <td>46</td>\n",
       "      <td>2017-08-19</td>\n",
       "      <td>2017-09-18</td>\n",
       "      <td>0</td>\n",
       "      <td>1933</td>\n",
       "      <td>육아/교육</td>\n",
       "      <td>기간제교사의 정규직화를 반대합니다.</td>\n",
       "      <td>대통령님, 안녕하세요. 저는 임용을 준비하고 수험생입니다. 처음 기간제 정규직화 된...</td>\n",
       "      <td>육아/교육</td>\n",
       "      <td>대통령님  안녕하세요  저는 임용을 준비하고 수험생입니다  처음 기간제 정규직화 된...</td>\n",
       "      <td>대통령님  안녕하세요  임용을 준비하고 수험생입니다  처음 기간제 정규직화 된다고 ...</td>\n",
       "    </tr>\n",
       "    <tr>\n",
       "      <th>28</th>\n",
       "      <td>50</td>\n",
       "      <td>2017-08-19</td>\n",
       "      <td>2017-10-18</td>\n",
       "      <td>0</td>\n",
       "      <td>1251</td>\n",
       "      <td>일자리</td>\n",
       "      <td>치과위생사 국가고시 날짜 변경 억울합니다</td>\n",
       "      <td>안녕하십니까? 대통령님 간단하게 제소개 부터 하겠습니다. 저는 치위생과 3학년 학생...</td>\n",
       "      <td>일자리</td>\n",
       "      <td>안녕하십니까  대통령님 간단하게 제소개 부터 하겠습니다  저는 치위생과  학년 학생...</td>\n",
       "      <td>안녕하십니까  대통령님 간단하게 제소개 부터 하겠습니다  치위생과  학년 학생입니다...</td>\n",
       "    </tr>\n",
       "    <tr>\n",
       "      <th>38</th>\n",
       "      <td>61</td>\n",
       "      <td>2017-08-19</td>\n",
       "      <td>2017-08-26</td>\n",
       "      <td>0</td>\n",
       "      <td>1185</td>\n",
       "      <td>일자리</td>\n",
       "      <td>영어회화전문강사제도는 유지되어야합니다.</td>\n",
       "      <td>1. 영전강의고용안정을 원합니다\\n2.1년단위계약직으로 임신 출산육아 매우 곤란합니...</td>\n",
       "      <td>일자리</td>\n",
       "      <td>영전강의고용안정을 원합니다    년단위계약직으로 임신 출산육아 매우 곤란합니다...</td>\n",
       "      <td>영전강의고용안정을 원합니다    년단위계약직으로 임신 출산육아 매우 곤란합니다...</td>\n",
       "    </tr>\n",
       "  </tbody>\n",
       "</table>\n",
       "</div>"
      ],
      "text/plain": [
       "    article_id      start        end  answered  votes category  \\\n",
       "7           28 2017-08-19 2017-08-26         0   2137    경제민주화   \n",
       "21          43 2017-08-19 2017-09-18         0  11293    육아/교육   \n",
       "24          46 2017-08-19 2017-09-18         0   1933    육아/교육   \n",
       "28          50 2017-08-19 2017-10-18         0   1251      일자리   \n",
       "38          61 2017-08-19 2017-08-26         0   1185      일자리   \n",
       "\n",
       "                     title                                            content  \\\n",
       "7            소액주주를 보호해주십시오  **  존경하옵는 문재인대통령님께\\n저는 중국원양자원이라는 KOSPI상장사의 소액 ...   \n",
       "21    기간제 교사의 정규직화를 반대합니다.  대통령님, 안녕하세요. 저는 임용을 준비하고 수험생입니다. 처음 기간제 정규직화 된...   \n",
       "24     기간제교사의 정규직화를 반대합니다.  대통령님, 안녕하세요. 저는 임용을 준비하고 수험생입니다. 처음 기간제 정규직화 된...   \n",
       "28  치과위생사 국가고시 날짜 변경 억울합니다  안녕하십니까? 대통령님 간단하게 제소개 부터 하겠습니다. 저는 치위생과 3학년 학생...   \n",
       "38   영어회화전문강사제도는 유지되어야합니다.  1. 영전강의고용안정을 원합니다\\n2.1년단위계약직으로 임신 출산육아 매우 곤란합니...   \n",
       "\n",
       "   category_pred                              content_preprocessing  \\\n",
       "7          경제민주화      존경하옵는 문재인대통령님께 저는 중국원양자원이라는 KOSPI상장사의 소액 주...   \n",
       "21         육아/교육  대통령님  안녕하세요  저는 임용을 준비하고 수험생입니다  처음 기간제 정규직화 된...   \n",
       "24         육아/교육  대통령님  안녕하세요  저는 임용을 준비하고 수험생입니다  처음 기간제 정규직화 된...   \n",
       "28           일자리  안녕하십니까  대통령님 간단하게 제소개 부터 하겠습니다  저는 치위생과  학년 학생...   \n",
       "38           일자리     영전강의고용안정을 원합니다    년단위계약직으로 임신 출산육아 매우 곤란합니다...   \n",
       "\n",
       "                               content_preprocessing2  \n",
       "7       존경하옵는 문재인대통령님께 중국원양자원이라는 KOSPI상장사의 소액 주주입니...  \n",
       "21  대통령님  안녕하세요  임용을 준비하고 수험생입니다  처음 기간제 정규직화 된다고 ...  \n",
       "24  대통령님  안녕하세요  임용을 준비하고 수험생입니다  처음 기간제 정규직화 된다고 ...  \n",
       "28  안녕하십니까  대통령님 간단하게 제소개 부터 하겠습니다  치위생과  학년 학생입니다...  \n",
       "38     영전강의고용안정을 원합니다    년단위계약직으로 임신 출산육아 매우 곤란합니다...  "
      ]
     },
     "execution_count": 27,
     "metadata": {},
     "output_type": "execute_result"
    }
   ],
   "source": [
    "# 학습세트의 상위 5개 항목만 출력해봅니다. \n",
    "df_train.head()"
   ]
  },
  {
   "cell_type": "code",
   "execution_count": 28,
   "metadata": {
    "colab": {
     "base_uri": "https://localhost:8080/",
     "height": 35
    },
    "id": "Z_yGqh8gt0z9",
    "outputId": "9772a45a-543e-48b9-f12a-2d5a82299549"
   },
   "outputs": [
    {
     "data": {
      "text/plain": [
       "(1008, 11)"
      ]
     },
     "execution_count": 28,
     "metadata": {},
     "output_type": "execute_result"
    }
   ],
   "source": [
    "df_test = df[split_count:].copy() # 훈련세트에 나머지 30%를 채워줍니다. \n",
    "df_test.shape"
   ]
  },
  {
   "cell_type": "code",
   "execution_count": 29,
   "metadata": {},
   "outputs": [
    {
     "data": {
      "text/html": [
       "<div>\n",
       "<style scoped>\n",
       "    .dataframe tbody tr th:only-of-type {\n",
       "        vertical-align: middle;\n",
       "    }\n",
       "\n",
       "    .dataframe tbody tr th {\n",
       "        vertical-align: top;\n",
       "    }\n",
       "\n",
       "    .dataframe thead th {\n",
       "        text-align: right;\n",
       "    }\n",
       "</style>\n",
       "<table border=\"1\" class=\"dataframe\">\n",
       "  <thead>\n",
       "    <tr style=\"text-align: right;\">\n",
       "      <th></th>\n",
       "      <th>article_id</th>\n",
       "      <th>start</th>\n",
       "      <th>end</th>\n",
       "      <th>answered</th>\n",
       "      <th>votes</th>\n",
       "      <th>category</th>\n",
       "      <th>title</th>\n",
       "      <th>content</th>\n",
       "      <th>category_pred</th>\n",
       "      <th>content_preprocessing</th>\n",
       "      <th>content_preprocessing2</th>\n",
       "    </tr>\n",
       "  </thead>\n",
       "  <tbody>\n",
       "    <tr>\n",
       "      <th>279854</th>\n",
       "      <td>363354</td>\n",
       "      <td>2018-09-02</td>\n",
       "      <td>2018-10-02</td>\n",
       "      <td>0</td>\n",
       "      <td>3830</td>\n",
       "      <td>육아/교육</td>\n",
       "      <td>저출산 고령사회위원회가 제안한 초등학교 저학년 오후 3시 하교 정책 재고 요청</td>\n",
       "      <td>저는 현재 초등학교 19년차 교사입니다. 공주교육대학교에서 초등교육을, 한국교원대학...</td>\n",
       "      <td>육아/교육</td>\n",
       "      <td>저는 현재 초등학교   년차 교사입니다  공주교육대학교에서 초등교육을  한국교원대학...</td>\n",
       "      <td>현재 초등학교   년차 교사입니다  공주교육대학교에서 초등교육을  한국교원대학교대학...</td>\n",
       "    </tr>\n",
       "    <tr>\n",
       "      <th>279887</th>\n",
       "      <td>363401</td>\n",
       "      <td>2018-09-02</td>\n",
       "      <td>2018-10-02</td>\n",
       "      <td>0</td>\n",
       "      <td>5239</td>\n",
       "      <td>성장동력</td>\n",
       "      <td>구글G- city사업을 청라 유치 원안대로 하게 해주세요</td>\n",
       "      <td>대통령님 안녕하십니까?\\n청라주민입니다.\\n최근 g city와 관련하여 말씀드립니다...</td>\n",
       "      <td>성장동력</td>\n",
       "      <td>대통령님 안녕하십니까  청라주민입니다  최근 g city와 관련하여 말씀드립니다  ...</td>\n",
       "      <td>대통령님 안녕하십니까  청라주민입니다  최근 g city와 관련하여 말씀드립니다  ...</td>\n",
       "    </tr>\n",
       "    <tr>\n",
       "      <th>279918</th>\n",
       "      <td>363440</td>\n",
       "      <td>2018-09-02</td>\n",
       "      <td>2018-10-02</td>\n",
       "      <td>0</td>\n",
       "      <td>2544</td>\n",
       "      <td>육아/교육</td>\n",
       "      <td>양육비 미지급 사건에 대한 대책마련 청원</td>\n",
       "      <td>법률사무소 지청 정훈태 변호사입니다.\\n미혼모나 부부가 이혼할 경우 양육비부담자가 ...</td>\n",
       "      <td>육아/교육</td>\n",
       "      <td>법률사무소 지청 정훈태 변호사입니다  미혼모나 부부가 이혼할 경우 양육비부담자가 양...</td>\n",
       "      <td>법률사무소 지청 정훈태 변호사입니다  미혼모나 부부가 이혼할 경우 양육비부담자가 양...</td>\n",
       "    </tr>\n",
       "    <tr>\n",
       "      <th>279982</th>\n",
       "      <td>363533</td>\n",
       "      <td>2018-09-02</td>\n",
       "      <td>2018-10-02</td>\n",
       "      <td>0</td>\n",
       "      <td>1655</td>\n",
       "      <td>기타</td>\n",
       "      <td>스포츠토토(베트맨) 국민 피 빨아먹는 짓 중단하게 해주세요</td>\n",
       "      <td>현재 한국의 스포츠토토는 10년이 훌쩍 지난 것으로 알고 있습니다. 하지만 최근에 ...</td>\n",
       "      <td>기타</td>\n",
       "      <td>현재 한국의 스포츠토토는   년이 훌쩍 지난 것으로 알고 있습니다  하지만 최근에 ...</td>\n",
       "      <td>현재 한국의 스포츠토토는   년이 훌쩍 지난 것으로 알고  하지만 최근에 베트맨인지...</td>\n",
       "    </tr>\n",
       "    <tr>\n",
       "      <th>280324</th>\n",
       "      <td>364001</td>\n",
       "      <td>2018-09-03</td>\n",
       "      <td>2018-10-03</td>\n",
       "      <td>0</td>\n",
       "      <td>1446</td>\n",
       "      <td>외교/통일/국방</td>\n",
       "      <td>강명구 평화마라토너의 북한 입국을 위한 정부의 지원을 청원합니다</td>\n",
       "      <td>한반도 평화의 전령, 강명구 평화마라토너는 꼭 1년 전 네덜란드 헤이그 이준열사 기...</td>\n",
       "      <td>외교/통일/국방</td>\n",
       "      <td>한반도 평화의 전령  강명구 평화마라토너는 꼭  년 전 네덜란드 헤이그 이준열사 기...</td>\n",
       "      <td>한반도 평화의 전령  강명구 평화마라토너는 꼭  년 전 네덜란드 헤이그 이준열사 기...</td>\n",
       "    </tr>\n",
       "  </tbody>\n",
       "</table>\n",
       "</div>"
      ],
      "text/plain": [
       "        article_id      start        end  answered  votes  category  \\\n",
       "279854      363354 2018-09-02 2018-10-02         0   3830     육아/교육   \n",
       "279887      363401 2018-09-02 2018-10-02         0   5239      성장동력   \n",
       "279918      363440 2018-09-02 2018-10-02         0   2544     육아/교육   \n",
       "279982      363533 2018-09-02 2018-10-02         0   1655        기타   \n",
       "280324      364001 2018-09-03 2018-10-03         0   1446  외교/통일/국방   \n",
       "\n",
       "                                              title  \\\n",
       "279854  저출산 고령사회위원회가 제안한 초등학교 저학년 오후 3시 하교 정책 재고 요청   \n",
       "279887              구글G- city사업을 청라 유치 원안대로 하게 해주세요   \n",
       "279918                       양육비 미지급 사건에 대한 대책마련 청원   \n",
       "279982             스포츠토토(베트맨) 국민 피 빨아먹는 짓 중단하게 해주세요   \n",
       "280324          강명구 평화마라토너의 북한 입국을 위한 정부의 지원을 청원합니다   \n",
       "\n",
       "                                                  content category_pred  \\\n",
       "279854  저는 현재 초등학교 19년차 교사입니다. 공주교육대학교에서 초등교육을, 한국교원대학...         육아/교육   \n",
       "279887  대통령님 안녕하십니까?\\n청라주민입니다.\\n최근 g city와 관련하여 말씀드립니다...          성장동력   \n",
       "279918  법률사무소 지청 정훈태 변호사입니다.\\n미혼모나 부부가 이혼할 경우 양육비부담자가 ...         육아/교육   \n",
       "279982  현재 한국의 스포츠토토는 10년이 훌쩍 지난 것으로 알고 있습니다. 하지만 최근에 ...            기타   \n",
       "280324  한반도 평화의 전령, 강명구 평화마라토너는 꼭 1년 전 네덜란드 헤이그 이준열사 기...      외교/통일/국방   \n",
       "\n",
       "                                    content_preprocessing  \\\n",
       "279854  저는 현재 초등학교   년차 교사입니다  공주교육대학교에서 초등교육을  한국교원대학...   \n",
       "279887  대통령님 안녕하십니까  청라주민입니다  최근 g city와 관련하여 말씀드립니다  ...   \n",
       "279918  법률사무소 지청 정훈태 변호사입니다  미혼모나 부부가 이혼할 경우 양육비부담자가 양...   \n",
       "279982  현재 한국의 스포츠토토는   년이 훌쩍 지난 것으로 알고 있습니다  하지만 최근에 ...   \n",
       "280324  한반도 평화의 전령  강명구 평화마라토너는 꼭  년 전 네덜란드 헤이그 이준열사 기...   \n",
       "\n",
       "                                   content_preprocessing2  \n",
       "279854  현재 초등학교   년차 교사입니다  공주교육대학교에서 초등교육을  한국교원대학교대학...  \n",
       "279887  대통령님 안녕하십니까  청라주민입니다  최근 g city와 관련하여 말씀드립니다  ...  \n",
       "279918  법률사무소 지청 정훈태 변호사입니다  미혼모나 부부가 이혼할 경우 양육비부담자가 양...  \n",
       "279982  현재 한국의 스포츠토토는   년이 훌쩍 지난 것으로 알고  하지만 최근에 베트맨인지...  \n",
       "280324  한반도 평화의 전령  강명구 평화마라토너는 꼭  년 전 네덜란드 헤이그 이준열사 기...  "
      ]
     },
     "execution_count": 29,
     "metadata": {},
     "output_type": "execute_result"
    }
   ],
   "source": [
    "# 테스트세트의 상위 5개 항목만 출력해봅니다. \n",
    "df_test.head()"
   ]
  },
  {
   "cell_type": "markdown",
   "metadata": {
    "id": "iXQ4-fp8t00F"
   },
   "source": [
    "## 카테고리 "
   ]
  },
  {
   "cell_type": "code",
   "execution_count": 30,
   "metadata": {
    "colab": {
     "base_uri": "https://localhost:8080/",
     "height": 1595
    },
    "id": "l17Ky-xOt00F",
    "outputId": "364d6134-2d31-4cef-eb73-ee8a497d1b03"
   },
   "outputs": [
    {
     "data": {
      "text/html": [
       "<div>\n",
       "<style scoped>\n",
       "    .dataframe tbody tr th:only-of-type {\n",
       "        vertical-align: middle;\n",
       "    }\n",
       "\n",
       "    .dataframe tbody tr th {\n",
       "        vertical-align: top;\n",
       "    }\n",
       "\n",
       "    .dataframe thead th {\n",
       "        text-align: right;\n",
       "    }\n",
       "</style>\n",
       "<table border=\"1\" class=\"dataframe\">\n",
       "  <thead>\n",
       "    <tr style=\"text-align: right;\">\n",
       "      <th></th>\n",
       "      <th>category_x</th>\n",
       "      <th>category_y</th>\n",
       "    </tr>\n",
       "  </thead>\n",
       "  <tbody>\n",
       "    <tr>\n",
       "      <th>인권/성평등</th>\n",
       "      <td>308</td>\n",
       "      <td>0.131008</td>\n",
       "    </tr>\n",
       "    <tr>\n",
       "      <th>육아/교육</th>\n",
       "      <td>273</td>\n",
       "      <td>0.116121</td>\n",
       "    </tr>\n",
       "    <tr>\n",
       "      <th>안전/환경</th>\n",
       "      <td>229</td>\n",
       "      <td>0.097405</td>\n",
       "    </tr>\n",
       "    <tr>\n",
       "      <th>보건복지</th>\n",
       "      <td>224</td>\n",
       "      <td>0.095279</td>\n",
       "    </tr>\n",
       "    <tr>\n",
       "      <th>정치개혁</th>\n",
       "      <td>219</td>\n",
       "      <td>0.093152</td>\n",
       "    </tr>\n",
       "    <tr>\n",
       "      <th>기타</th>\n",
       "      <td>184</td>\n",
       "      <td>0.078265</td>\n",
       "    </tr>\n",
       "    <tr>\n",
       "      <th>교통/건축/국토</th>\n",
       "      <td>170</td>\n",
       "      <td>0.072310</td>\n",
       "    </tr>\n",
       "    <tr>\n",
       "      <th>문화/예술/체육/언론</th>\n",
       "      <td>146</td>\n",
       "      <td>0.062101</td>\n",
       "    </tr>\n",
       "    <tr>\n",
       "      <th>행정</th>\n",
       "      <td>122</td>\n",
       "      <td>0.051893</td>\n",
       "    </tr>\n",
       "    <tr>\n",
       "      <th>외교/통일/국방</th>\n",
       "      <td>112</td>\n",
       "      <td>0.047639</td>\n",
       "    </tr>\n",
       "    <tr>\n",
       "      <th>일자리</th>\n",
       "      <td>105</td>\n",
       "      <td>0.044662</td>\n",
       "    </tr>\n",
       "    <tr>\n",
       "      <th>반려동물</th>\n",
       "      <td>88</td>\n",
       "      <td>0.037431</td>\n",
       "    </tr>\n",
       "    <tr>\n",
       "      <th>경제민주화</th>\n",
       "      <td>81</td>\n",
       "      <td>0.034453</td>\n",
       "    </tr>\n",
       "    <tr>\n",
       "      <th>미래</th>\n",
       "      <td>38</td>\n",
       "      <td>0.016163</td>\n",
       "    </tr>\n",
       "    <tr>\n",
       "      <th>성장동력</th>\n",
       "      <td>21</td>\n",
       "      <td>0.008932</td>\n",
       "    </tr>\n",
       "    <tr>\n",
       "      <th>저출산/고령화대책</th>\n",
       "      <td>18</td>\n",
       "      <td>0.007656</td>\n",
       "    </tr>\n",
       "    <tr>\n",
       "      <th>농산어촌</th>\n",
       "      <td>13</td>\n",
       "      <td>0.005530</td>\n",
       "    </tr>\n",
       "  </tbody>\n",
       "</table>\n",
       "</div>"
      ],
      "text/plain": [
       "             category_x  category_y\n",
       "인권/성평등              308    0.131008\n",
       "육아/교육               273    0.116121\n",
       "안전/환경               229    0.097405\n",
       "보건복지                224    0.095279\n",
       "정치개혁                219    0.093152\n",
       "기타                  184    0.078265\n",
       "교통/건축/국토            170    0.072310\n",
       "문화/예술/체육/언론         146    0.062101\n",
       "행정                  122    0.051893\n",
       "외교/통일/국방            112    0.047639\n",
       "일자리                 105    0.044662\n",
       "반려동물                 88    0.037431\n",
       "경제민주화                81    0.034453\n",
       "미래                   38    0.016163\n",
       "성장동력                 21    0.008932\n",
       "저출산/고령화대책            18    0.007656\n",
       "농산어촌                 13    0.005530"
      ]
     },
     "execution_count": 30,
     "metadata": {},
     "output_type": "execute_result"
    }
   ],
   "source": [
    "# 학습세트의 모습을 테스트세트의 카테고리, 그리고 해당 카테고리의 비율로 이루어진 데이터로 만듭니다.\n",
    "df_train_category_value = pd.DataFrame(df_train['category'].value_counts())\n",
    "df_train_category_percent = pd.DataFrame(df_train['category'].value_counts(normalize=True))\n",
    "df_train_category_value.merge(df_train_category_percent, left_index=True, right_index=True)"
   ]
  },
  {
   "cell_type": "code",
   "execution_count": 31,
   "metadata": {
    "colab": {
     "base_uri": "https://localhost:8080/",
     "height": 1595
    },
    "id": "Ejqr2j0Rt00I",
    "outputId": "df36e207-434f-4f95-8a92-bf9a93ff54f9"
   },
   "outputs": [
    {
     "data": {
      "text/html": [
       "<div>\n",
       "<style scoped>\n",
       "    .dataframe tbody tr th:only-of-type {\n",
       "        vertical-align: middle;\n",
       "    }\n",
       "\n",
       "    .dataframe tbody tr th {\n",
       "        vertical-align: top;\n",
       "    }\n",
       "\n",
       "    .dataframe thead th {\n",
       "        text-align: right;\n",
       "    }\n",
       "</style>\n",
       "<table border=\"1\" class=\"dataframe\">\n",
       "  <thead>\n",
       "    <tr style=\"text-align: right;\">\n",
       "      <th></th>\n",
       "      <th>category_x</th>\n",
       "      <th>category_y</th>\n",
       "    </tr>\n",
       "  </thead>\n",
       "  <tbody>\n",
       "    <tr>\n",
       "      <th>교통/건축/국토</th>\n",
       "      <td>133</td>\n",
       "      <td>0.131944</td>\n",
       "    </tr>\n",
       "    <tr>\n",
       "      <th>육아/교육</th>\n",
       "      <td>129</td>\n",
       "      <td>0.127976</td>\n",
       "    </tr>\n",
       "    <tr>\n",
       "      <th>인권/성평등</th>\n",
       "      <td>125</td>\n",
       "      <td>0.124008</td>\n",
       "    </tr>\n",
       "    <tr>\n",
       "      <th>안전/환경</th>\n",
       "      <td>102</td>\n",
       "      <td>0.101190</td>\n",
       "    </tr>\n",
       "    <tr>\n",
       "      <th>보건복지</th>\n",
       "      <td>97</td>\n",
       "      <td>0.096230</td>\n",
       "    </tr>\n",
       "    <tr>\n",
       "      <th>기타</th>\n",
       "      <td>86</td>\n",
       "      <td>0.085317</td>\n",
       "    </tr>\n",
       "    <tr>\n",
       "      <th>정치개혁</th>\n",
       "      <td>52</td>\n",
       "      <td>0.051587</td>\n",
       "    </tr>\n",
       "    <tr>\n",
       "      <th>문화/예술/체육/언론</th>\n",
       "      <td>51</td>\n",
       "      <td>0.050595</td>\n",
       "    </tr>\n",
       "    <tr>\n",
       "      <th>외교/통일/국방</th>\n",
       "      <td>49</td>\n",
       "      <td>0.048611</td>\n",
       "    </tr>\n",
       "    <tr>\n",
       "      <th>일자리</th>\n",
       "      <td>49</td>\n",
       "      <td>0.048611</td>\n",
       "    </tr>\n",
       "    <tr>\n",
       "      <th>행정</th>\n",
       "      <td>33</td>\n",
       "      <td>0.032738</td>\n",
       "    </tr>\n",
       "    <tr>\n",
       "      <th>반려동물</th>\n",
       "      <td>30</td>\n",
       "      <td>0.029762</td>\n",
       "    </tr>\n",
       "    <tr>\n",
       "      <th>경제민주화</th>\n",
       "      <td>30</td>\n",
       "      <td>0.029762</td>\n",
       "    </tr>\n",
       "    <tr>\n",
       "      <th>미래</th>\n",
       "      <td>18</td>\n",
       "      <td>0.017857</td>\n",
       "    </tr>\n",
       "    <tr>\n",
       "      <th>저출산/고령화대책</th>\n",
       "      <td>10</td>\n",
       "      <td>0.009921</td>\n",
       "    </tr>\n",
       "    <tr>\n",
       "      <th>성장동력</th>\n",
       "      <td>8</td>\n",
       "      <td>0.007937</td>\n",
       "    </tr>\n",
       "    <tr>\n",
       "      <th>농산어촌</th>\n",
       "      <td>6</td>\n",
       "      <td>0.005952</td>\n",
       "    </tr>\n",
       "  </tbody>\n",
       "</table>\n",
       "</div>"
      ],
      "text/plain": [
       "             category_x  category_y\n",
       "교통/건축/국토            133    0.131944\n",
       "육아/교육               129    0.127976\n",
       "인권/성평등              125    0.124008\n",
       "안전/환경               102    0.101190\n",
       "보건복지                 97    0.096230\n",
       "기타                   86    0.085317\n",
       "정치개혁                 52    0.051587\n",
       "문화/예술/체육/언론          51    0.050595\n",
       "외교/통일/국방             49    0.048611\n",
       "일자리                  49    0.048611\n",
       "행정                   33    0.032738\n",
       "반려동물                 30    0.029762\n",
       "경제민주화                30    0.029762\n",
       "미래                   18    0.017857\n",
       "저출산/고령화대책            10    0.009921\n",
       "성장동력                  8    0.007937\n",
       "농산어촌                  6    0.005952"
      ]
     },
     "execution_count": 31,
     "metadata": {},
     "output_type": "execute_result"
    }
   ],
   "source": [
    "# 테스트세트의 모습을 위와 동일하게 제작합니다.\n",
    "df_test_category_value = pd.DataFrame(df_test['category'].value_counts())\n",
    "df_test_category_percent = pd.DataFrame(df_test['category'].value_counts(normalize=True))\n",
    "df_test_category_value.merge(df_test_category_percent, left_index=True, right_index=True)"
   ]
  },
  {
   "cell_type": "code",
   "execution_count": 32,
   "metadata": {
    "colab": {
     "base_uri": "https://localhost:8080/",
     "height": 701
    },
    "id": "-z-keU8zt00K",
    "outputId": "4f53def2-c4ed-4ca3-a885-1b0e2b2dec58"
   },
   "outputs": [
    {
     "data": {
      "text/plain": [
       "<matplotlib.axes._subplots.AxesSubplot at 0x103035d3108>"
      ]
     },
     "execution_count": 32,
     "metadata": {},
     "output_type": "execute_result"
    },
    {
     "data": {
      "image/png": "[encoded data removed]",
      "text/plain": [
       "<Figure size 432x288 with 1 Axes>"
      ]
     },
     "metadata": {
      "image/png": {
       "height": 323,
       "width": 373
      },
      "needs_background": "light"
     },
     "output_type": "display_data"
    },
    {
     "data": {
      "image/png": "[encoded data removed]",
      "text/plain": [
       "<Figure size 432x288 with 1 Axes>"
      ]
     },
     "metadata": {
      "image/png": {
       "height": 323,
       "width": 373
      },
      "needs_background": "light"
     },
     "output_type": "display_data"
    }
   ],
   "source": [
    "# 그리고 두 세트를 bar plot으로 출력합니다.\n",
    "df_train_category_value.plot(kind='bar')\n",
    "df_test_category_value.plot(kind='bar')"
   ]
  },
  {
   "cell_type": "markdown",
   "metadata": {
    "id": "lXbYgIwzt00M"
   },
   "source": [
    "# 단어 벡터화 하기"
   ]
  },
  {
   "cell_type": "code",
   "execution_count": 33,
   "metadata": {
    "colab": {
     "base_uri": "https://localhost:8080/",
     "height": 141
    },
    "id": "A8wDI1vht00M",
    "outputId": "f52d51fe-a49d-4541-88ab-cf8d4ede29ac"
   },
   "outputs": [
    {
     "data": {
      "text/plain": [
       "CountVectorizer(analyzer='word', binary=False, decode_error='strict',\n",
       "                dtype=<class 'numpy.int64'>, encoding='utf-8', input='content',\n",
       "                lowercase=True, max_df=1.0, max_features=2000, min_df=2,\n",
       "                ngram_range=(1, 3), preprocessor=None, stop_words=None,\n",
       "                strip_accents=None, token_pattern='(?u)\\\\b\\\\w\\\\w+\\\\b',\n",
       "                tokenizer=None, vocabulary=None)"
      ]
     },
     "execution_count": 33,
     "metadata": {},
     "output_type": "execute_result"
    }
   ],
   "source": [
    "# 학습과 분류를 시키기 위해 먼저 벡터화를 하기로 합니다. 학습이나 분류 전에 텍스트는 컴퓨터가 알아먹을 수 없으므로 벡터화를 진행합니다. (vectorizer를 생성합니다.)\n",
    "from sklearn.feature_extraction.text import CountVectorizer\n",
    "\n",
    "vectorizer = CountVectorizer(analyzer = 'word', # 캐릭터 단위로 벡터화 할 수도 있습니다.\n",
    "                             tokenizer = None, # 토크나이저를 따로 지정해 줄 수도 있습니다.\n",
    "                             preprocessor = None, # 전처리 도구\n",
    "                             stop_words = None, # 불용어 nltk등의 도구를 사용할 수도 있습니다.\n",
    "                             min_df = 2, # 토큰이 나타날 최소 문서 개수로 오타나 자주 나오지 않는 특수한 전문용어 제거에 좋다. \n",
    "                             ngram_range=(1, 3), # BOW의 단위를 1~3개로 지정합니다.\n",
    "                             max_features = 2000 # 만들 피처의 수, 단어의 수가 된다.\n",
    "                            )\n",
    "vectorizer"
   ]
  },
  {
   "cell_type": "code",
   "execution_count": 34,
   "metadata": {
    "colab": {
     "base_uri": "https://localhost:8080/",
     "height": 72
    },
    "id": "DbyBKIFEt00P",
    "outputId": "269980d2-7e32-4daf-e8d1-3a7070abe5a2"
   },
   "outputs": [
    {
     "name": "stdout",
     "output_type": "stream",
     "text": [
      "Wall time: 6.39 s\n"
     ]
    },
    {
     "data": {
      "text/plain": [
       "(2351, 2000)"
      ]
     },
     "execution_count": 34,
     "metadata": {},
     "output_type": "execute_result"
    }
   ],
   "source": [
    "%%time \n",
    "# 학습세트와 테스트세트를 CounterVectorizer를 이용해 벡터 정규화합니다(fit -> Transform). 정규화하는 이유는 Feature들 끼리 다른 스케일을 통일 시켜주는 역할을 합니다. \n",
    "train_feature_vector = vectorizer.fit_transform(df_train['content_preprocessing2'])\n",
    "train_feature_vector.shape"
   ]
  },
  {
   "cell_type": "code",
   "execution_count": 35,
   "metadata": {
    "colab": {
     "base_uri": "https://localhost:8080/",
     "height": 72
    },
    "id": "XqPkzrgWt00R",
    "outputId": "9772e1fb-44f8-4856-eeb8-92904c2501ff"
   },
   "outputs": [
    {
     "name": "stdout",
     "output_type": "stream",
     "text": [
      "Wall time: 3.28 s\n"
     ]
    },
    {
     "data": {
      "text/plain": [
       "(1008, 2000)"
      ]
     },
     "execution_count": 35,
     "metadata": {},
     "output_type": "execute_result"
    }
   ],
   "source": [
    "%%time \n",
    "test_feature_vector = vectorizer.fit_transform(df_test['content_preprocessing2'])\n",
    "test_feature_vector.shape"
   ]
  },
  {
   "cell_type": "code",
   "execution_count": 36,
   "metadata": {
    "colab": {
     "base_uri": "https://localhost:8080/",
     "height": 228
    },
    "id": "Sgdf7tQnt00U",
    "outputId": "a70a8129-9162-4562-f106-0037d877c1a6"
   },
   "outputs": [
    {
     "name": "stdout",
     "output_type": "stream",
     "text": [
      "2000\n"
     ]
    },
    {
     "data": {
      "text/plain": [
       "['aid',\n",
       " 'article',\n",
       " 'articleview',\n",
       " 'articleview html',\n",
       " 'articleview html idxno',\n",
       " 'a는',\n",
       " 'a의',\n",
       " 'cctv',\n",
       " 'cctv를',\n",
       " 'cj']"
      ]
     },
     "execution_count": 36,
     "metadata": {},
     "output_type": "execute_result"
    }
   ],
   "source": [
    "vocab = vectorizer.get_feature_names()\n",
    "print(len(vocab))\n",
    "vocab[:10]"
   ]
  },
  {
   "cell_type": "code",
   "execution_count": 37,
   "metadata": {
    "colab": {
     "base_uri": "https://localhost:8080/",
     "height": 250
    },
    "id": "FnQYvfWAt00W",
    "outputId": "5a8589e6-1eac-4c71-e592-48d8d898d587"
   },
   "outputs": [
    {
     "data": {
      "text/html": [
       "<div>\n",
       "<style scoped>\n",
       "    .dataframe tbody tr th:only-of-type {\n",
       "        vertical-align: middle;\n",
       "    }\n",
       "\n",
       "    .dataframe tbody tr th {\n",
       "        vertical-align: top;\n",
       "    }\n",
       "\n",
       "    .dataframe thead th {\n",
       "        text-align: right;\n",
       "    }\n",
       "</style>\n",
       "<table border=\"1\" class=\"dataframe\">\n",
       "  <thead>\n",
       "    <tr style=\"text-align: right;\">\n",
       "      <th></th>\n",
       "      <th>aid</th>\n",
       "      <th>article</th>\n",
       "      <th>articleview</th>\n",
       "      <th>articleview html</th>\n",
       "      <th>articleview html idxno</th>\n",
       "      <th>a는</th>\n",
       "      <th>a의</th>\n",
       "      <th>cctv</th>\n",
       "      <th>cctv를</th>\n",
       "      <th>cj</th>\n",
       "      <th>...</th>\n",
       "      <th>후에</th>\n",
       "      <th>훨씬</th>\n",
       "      <th>희망을</th>\n",
       "      <th>힘든</th>\n",
       "      <th>힘들게</th>\n",
       "      <th>힘들고</th>\n",
       "      <th>힘들어</th>\n",
       "      <th>힘없는</th>\n",
       "      <th>힘을</th>\n",
       "      <th>힘이</th>\n",
       "    </tr>\n",
       "  </thead>\n",
       "  <tbody>\n",
       "    <tr>\n",
       "      <th>0</th>\n",
       "      <td>102</td>\n",
       "      <td>93</td>\n",
       "      <td>59</td>\n",
       "      <td>80</td>\n",
       "      <td>63</td>\n",
       "      <td>63</td>\n",
       "      <td>41</td>\n",
       "      <td>183</td>\n",
       "      <td>176</td>\n",
       "      <td>85</td>\n",
       "      <td>...</td>\n",
       "      <td>77</td>\n",
       "      <td>64</td>\n",
       "      <td>147</td>\n",
       "      <td>85</td>\n",
       "      <td>40</td>\n",
       "      <td>44</td>\n",
       "      <td>40</td>\n",
       "      <td>38</td>\n",
       "      <td>94</td>\n",
       "      <td>70</td>\n",
       "    </tr>\n",
       "  </tbody>\n",
       "</table>\n",
       "<p>1 rows × 2000 columns</p>\n",
       "</div>"
      ],
      "text/plain": [
       "   aid  article  articleview  articleview html  articleview html idxno  a는  \\\n",
       "0  102       93           59                80                      63  63   \n",
       "\n",
       "   a의  cctv  cctv를  cj ...  후에  훨씬  희망을  힘든  힘들게  힘들고  힘들어  힘없는  힘을  힘이  \n",
       "0  41   183    176  85 ...  77  64  147  85   40   44   40   38  94  70  \n",
       "\n",
       "[1 rows x 2000 columns]"
      ]
     },
     "execution_count": 37,
     "metadata": {},
     "output_type": "execute_result"
    }
   ],
   "source": [
    "dist = np.sum(train_feature_vector, axis=0)\n",
    "\n",
    "pd.DataFrame(dist, columns=vocab)"
   ]
  },
  {
   "cell_type": "code",
   "execution_count": 38,
   "metadata": {
    "colab": {
     "base_uri": "https://localhost:8080/",
     "height": 72
    },
    "id": "zoMQQvcft00Y",
    "outputId": "b844a496-f248-4b63-f100-2045ee5ec270"
   },
   "outputs": [
    {
     "data": {
      "text/plain": [
       "TfidfTransformer(norm='l2', smooth_idf=False, sublinear_tf=False, use_idf=True)"
      ]
     },
     "execution_count": 38,
     "metadata": {},
     "output_type": "execute_result"
    }
   ],
   "source": [
    "# 추가로 TF-IDF 를 이용해 벡터 정규화를 진행합니다. TF-IDF은 통계적 수치 중 하나인데, TF(단어 빈도수)와 IDF(역 - 문서 빈도수)를 곱한 값이다. 이 점수가 높은 단어일 수록 다른 문서에는 많지 않고 해당 문서에서 자주 등장하는 단어를 의미합니다. 반대로 단어의 중요도가 낮다는 것은 하나의 문서에서 많이 나오지 않고 다른 문서에서 자주 등장하는 단어라는 의미를 갖습니다.\n",
    "from sklearn.feature_extraction.text import TfidfTransformer # TF-IDF로 가중치를 먹여 벡터를 정규화 합니다. (간단하게 한다)\n",
    "transformer = TfidfTransformer(smooth_idf=False) # 피처를 만들 때 0으로 나오는 항목에 대해 작은 값을 더해서(스무딩을 해서) 피처를 만들지 아니면 그냥 생성할지를 결정합니다. 결국 이 코드에서는 그냥 생성하는 것으로 결정(False)\n",
    "transformer"
   ]
  },
  {
   "cell_type": "code",
   "execution_count": 39,
   "metadata": {
    "colab": {
     "base_uri": "https://localhost:8080/",
     "height": 72
    },
    "id": "X5YduNwHt00b",
    "outputId": "df12ef9c-39fc-470e-93ee-7924851efb2d"
   },
   "outputs": [
    {
     "name": "stdout",
     "output_type": "stream",
     "text": [
      "Wall time: 23 ms\n"
     ]
    },
    {
     "data": {
      "text/plain": [
       "(2351, 2000)"
      ]
     },
     "execution_count": 39,
     "metadata": {},
     "output_type": "execute_result"
    }
   ],
   "source": [
    "%%time \n",
    "train_feature_tfidf = transformer.fit_transform(train_feature_vector)\n",
    "train_feature_tfidf.shape"
   ]
  },
  {
   "cell_type": "code",
   "execution_count": 40,
   "metadata": {
    "colab": {
     "base_uri": "https://localhost:8080/",
     "height": 72
    },
    "id": "4YMLzW_Ut00d",
    "outputId": "f0e1172c-bd55-4319-f71c-b941ba72b5b5"
   },
   "outputs": [
    {
     "name": "stdout",
     "output_type": "stream",
     "text": [
      "Wall time: 14 ms\n"
     ]
    },
    {
     "data": {
      "text/plain": [
       "(1008, 2000)"
      ]
     },
     "execution_count": 40,
     "metadata": {},
     "output_type": "execute_result"
    }
   ],
   "source": [
    "%%time \n",
    "test_feature_tfidf = transformer.fit_transform(test_feature_vector)\n",
    "test_feature_tfidf.shape"
   ]
  },
  {
   "cell_type": "code",
   "execution_count": 41,
   "metadata": {
    "colab": {
     "base_uri": "https://localhost:8080/",
     "height": 55
    },
    "id": "3fneDxSBt00i",
    "outputId": "a5209427-abff-4560-c8ff-3756e8df85d5"
   },
   "outputs": [
    {
     "data": {
      "text/plain": [
       "(1008, 2000)"
      ]
     },
     "execution_count": 41,
     "metadata": {},
     "output_type": "execute_result"
    }
   ],
   "source": [
    "test_feature_tfidf.shape"
   ]
  },
  {
   "cell_type": "markdown",
   "metadata": {
    "id": "eRmOcniRt00m"
   },
   "source": [
    "# 랜덤 포레스트로 학습시키기\n",
    "* 공식문서 : http://scikit-learn.org/stable/modules/generated/sklearn.ensemble.RandomForestClassifier.html"
   ]
  },
  {
   "cell_type": "code",
   "execution_count": 42,
   "metadata": {
    "colab": {
     "base_uri": "https://localhost:8080/",
     "height": 139
    },
    "id": "xSEe8bUFt00m",
    "outputId": "2c6bf8b7-f84d-4eff-aa62-3bb3ffa318e0"
   },
   "outputs": [
    {
     "data": {
      "text/plain": [
       "RandomForestClassifier(bootstrap=True, ccp_alpha=0.0, class_weight=None,\n",
       "                       criterion='gini', max_depth=None, max_features='auto',\n",
       "                       max_leaf_nodes=None, max_samples=None,\n",
       "                       min_impurity_decrease=0.0, min_impurity_split=None,\n",
       "                       min_samples_leaf=1, min_samples_split=2,\n",
       "                       min_weight_fraction_leaf=0.0, n_estimators=100,\n",
       "                       n_jobs=-1, oob_score=False, random_state=2018, verbose=0,\n",
       "                       warm_start=False)"
      ]
     },
     "execution_count": 42,
     "metadata": {},
     "output_type": "execute_result"
    }
   ],
   "source": [
    "from sklearn.ensemble import RandomForestClassifier\n",
    "\n",
    "# 랜덤포레스트 분류기를 사용해서 분류를 합니다. \n",
    "forest = RandomForestClassifier(\n",
    "    n_estimators = 100, n_jobs = -1, random_state=2018)\n",
    "forest"
   ]
  },
  {
   "cell_type": "code",
   "execution_count": 43,
   "metadata": {
    "colab": {
     "base_uri": "https://localhost:8080/",
     "height": 52
    },
    "id": "jXmfdPoDt00r",
    "outputId": "1a81cb60-af38-422d-9e3e-1725197009d6"
   },
   "outputs": [
    {
     "name": "stdout",
     "output_type": "stream",
     "text": [
      "Wall time: 947 ms\n"
     ]
    }
   ],
   "source": [
    "# 학습에 사용할 y_label 을 넣어줍니다.\n",
    "# 어떤 분야의 청원인지 예측할 것이기 때문에 category를 넣어줍니다.\n",
    "y_label = df_train['category']\n",
    "%time forest = forest.fit(train_feature_tfidf, y_label)"
   ]
  },
  {
   "cell_type": "markdown",
   "metadata": {
    "id": "M9u6sKOet00v"
   },
   "source": [
    "# 학습이 잘 되었는지 평가하기"
   ]
  },
  {
   "cell_type": "code",
   "execution_count": 44,
   "metadata": {
    "colab": {
     "base_uri": "https://localhost:8080/",
     "height": 69
    },
    "id": "-CIOuMRCt00v",
    "outputId": "f3da3715-ab66-4796-fab0-9380f7303af6"
   },
   "outputs": [
    {
     "name": "stdout",
     "output_type": "stream",
     "text": [
      "Wall time: 5.35 s\n"
     ]
    },
    {
     "data": {
      "text/plain": [
       "array([0.42038217, 0.38723404, 0.41276596, 0.42553191, 0.38723404])"
      ]
     },
     "execution_count": 44,
     "metadata": {},
     "output_type": "execute_result"
    }
   ],
   "source": [
    "# 이제 학습이 잘 되었는 지를 확인합니다. 성능지표는 교차검증(cross-validation)을 통한 accuracy를 확인할 것입니다. 교차검증이란, 선택한 비율만큼 훈련세트와 테스트세트를 분할하여 표본을 만들어준 뒤, 이 표본을 교차하면서 검증하는 모델 평가 방법입니다.\n",
    "# K-fold 교차검증이란, 데이터를 K개로 쪼개어 하나는 검증 데이터, 나머지(k-1)는 훈련 데이터로 사용되며 검증이 끝나면 검증 데이터를 쪼갠 다른 데이터로 교체 후 검증하는 것을 K번 반복하는 것입니다. 그리고 K번의 성능을 평균으로 구합니다.\n",
    "from sklearn.model_selection import KFold\n",
    "from sklearn.model_selection import cross_val_score\n",
    "k_fold = KFold(n_splits=5, shuffle=True, random_state=0)\n",
    "\n",
    "scoring = 'accuracy'\n",
    "# cross_val_score 의 파라미터는 (모델명, 훈련데이터, 타겟, cv(k-flod), options)입니다.\n",
    "%time score = cross_val_score(forest, train_feature_vector, y_label, cv=k_fold, n_jobs=-1, scoring=scoring)\n",
    "score"
   ]
  },
  {
   "cell_type": "code",
   "execution_count": 45,
   "metadata": {
    "colab": {
     "base_uri": "https://localhost:8080/",
     "height": 35
    },
    "id": "Tnzp0LHEt00y",
    "outputId": "fae48884-b64c-4d8b-c11f-d6e9e24eb532"
   },
   "outputs": [
    {
     "data": {
      "text/plain": [
       "40.66"
      ]
     },
     "execution_count": 45,
     "metadata": {},
     "output_type": "execute_result"
    }
   ],
   "source": [
    "# 성능지표를 평균으로 뽑고 이를 백분율로 나오게끔 수치를 뽑아봅니다.\n",
    "round(np.mean(score)*100,2)\n",
    "# 높지 않은 성능지표가 나왔습니다. "
   ]
  },
  {
   "cell_type": "markdown",
   "metadata": {
    "id": "nqJ8PZ8Nt006"
   },
   "source": [
    "# 예측"
   ]
  },
  {
   "cell_type": "code",
   "execution_count": 46,
   "metadata": {
    "colab": {
     "base_uri": "https://localhost:8080/",
     "height": 35
    },
    "id": "fgbYa1kbt007",
    "outputId": "28ceb92c-d08c-4d42-d010-c13ea621f3df"
   },
   "outputs": [
    {
     "data": {
      "text/plain": [
       "array(['육아/교육', '육아/교육', '인권/성평등'], dtype=object)"
      ]
     },
     "execution_count": 46,
     "metadata": {},
     "output_type": "execute_result"
    }
   ],
   "source": [
    "# 고찰하기 위해 테스트 데이터를 넣고 예측합니다.\n",
    "y_pred = forest.predict(test_feature_vector)\n",
    "y_pred[:3]"
   ]
  },
  {
   "cell_type": "code",
   "execution_count": 47,
   "metadata": {
    "colab": {
     "base_uri": "https://localhost:8080/",
     "height": 35
    },
    "id": "ZIkjk2RMt00-",
    "outputId": "93561e39-3d02-4fd1-d5e7-e17e27524975"
   },
   "outputs": [
    {
     "data": {
      "text/plain": [
       "(1008,)"
      ]
     },
     "execution_count": 47,
     "metadata": {},
     "output_type": "execute_result"
    }
   ],
   "source": [
    "y_pred.shape"
   ]
  },
  {
   "cell_type": "code",
   "execution_count": 48,
   "metadata": {
    "colab": {
     "base_uri": "https://localhost:8080/",
     "height": 202
    },
    "id": "TF6oSPTNt01A",
    "outputId": "52068fc6-3c95-4cb5-c7e7-c2ca7d19da91"
   },
   "outputs": [
    {
     "data": {
      "text/html": [
       "<div>\n",
       "<style scoped>\n",
       "    .dataframe tbody tr th:only-of-type {\n",
       "        vertical-align: middle;\n",
       "    }\n",
       "\n",
       "    .dataframe tbody tr th {\n",
       "        vertical-align: top;\n",
       "    }\n",
       "\n",
       "    .dataframe thead th {\n",
       "        text-align: right;\n",
       "    }\n",
       "</style>\n",
       "<table border=\"1\" class=\"dataframe\">\n",
       "  <thead>\n",
       "    <tr style=\"text-align: right;\">\n",
       "      <th></th>\n",
       "      <th>category_pred</th>\n",
       "    </tr>\n",
       "  </thead>\n",
       "  <tbody>\n",
       "    <tr>\n",
       "      <th>0</th>\n",
       "      <td>육아/교육</td>\n",
       "    </tr>\n",
       "    <tr>\n",
       "      <th>1</th>\n",
       "      <td>육아/교육</td>\n",
       "    </tr>\n",
       "    <tr>\n",
       "      <th>2</th>\n",
       "      <td>인권/성평등</td>\n",
       "    </tr>\n",
       "    <tr>\n",
       "      <th>3</th>\n",
       "      <td>육아/교육</td>\n",
       "    </tr>\n",
       "    <tr>\n",
       "      <th>4</th>\n",
       "      <td>보건복지</td>\n",
       "    </tr>\n",
       "  </tbody>\n",
       "</table>\n",
       "</div>"
      ],
      "text/plain": [
       "  category_pred\n",
       "0         육아/교육\n",
       "1         육아/교육\n",
       "2        인권/성평등\n",
       "3         육아/교육\n",
       "4          보건복지"
      ]
     },
     "execution_count": 48,
     "metadata": {},
     "output_type": "execute_result"
    }
   ],
   "source": [
    "# 예측 결과를 저장하기 위해 데이터프레임에 담아 줍니다.\n",
    "output = pd.DataFrame(data={'category_pred':y_pred})\n",
    "output.head()"
   ]
  },
  {
   "cell_type": "code",
   "execution_count": 49,
   "metadata": {
    "colab": {
     "base_uri": "https://localhost:8080/",
     "height": 277
    },
    "id": "MOiHATeJt01D",
    "outputId": "a4a57a94-aeb1-4df4-a9a9-86321176f93d"
   },
   "outputs": [
    {
     "data": {
      "text/plain": [
       "육아/교육          209\n",
       "인권/성평등         166\n",
       "보건복지           157\n",
       "정치개혁           108\n",
       "안전/환경           87\n",
       "교통/건축/국토        80\n",
       "경제민주화           63\n",
       "반려동물            51\n",
       "기타              30\n",
       "문화/예술/체육/언론     26\n",
       "외교/통일/국방        16\n",
       "일자리              6\n",
       "행정               5\n",
       "저출산/고령화대책        3\n",
       "미래               1\n",
       "Name: category_pred, dtype: int64"
      ]
     },
     "execution_count": 49,
     "metadata": {},
     "output_type": "execute_result"
    }
   ],
   "source": [
    "# 0과 1이 어떻게 집계 되었는지 확인합니다.\n",
    "# 실제 데이터에는 답변 대상 건이 있는데 없는 것으로 예측되었\n",
    "output['category_pred'].value_counts()"
   ]
  },
  {
   "cell_type": "code",
   "execution_count": 50,
   "metadata": {
    "id": "1jrfcS9Pt01G"
   },
   "outputs": [],
   "source": [
    "# 테스트 데이터에 위에 예측한 값을 칼럼으로 추가하고, 예측값과 같으면 1, 다르면 0을 나타내는 칼럼을 또 하나 추가합니다.\n",
    "df_test['category_pred'] = y_pred"
   ]
  },
  {
   "cell_type": "code",
   "execution_count": 51,
   "metadata": {
    "colab": {
     "base_uri": "https://localhost:8080/",
     "height": 967
    },
    "id": "H7Ukpi7Yt01H",
    "outputId": "c650c826-1287-4d86-9b2d-221cae4985f6"
   },
   "outputs": [
    {
     "data": {
      "text/html": [
       "<div>\n",
       "<style scoped>\n",
       "    .dataframe tbody tr th:only-of-type {\n",
       "        vertical-align: middle;\n",
       "    }\n",
       "\n",
       "    .dataframe tbody tr th {\n",
       "        vertical-align: top;\n",
       "    }\n",
       "\n",
       "    .dataframe thead th {\n",
       "        text-align: right;\n",
       "    }\n",
       "</style>\n",
       "<table border=\"1\" class=\"dataframe\">\n",
       "  <thead>\n",
       "    <tr style=\"text-align: right;\">\n",
       "      <th></th>\n",
       "      <th>article_id</th>\n",
       "      <th>start</th>\n",
       "      <th>end</th>\n",
       "      <th>answered</th>\n",
       "      <th>votes</th>\n",
       "      <th>category</th>\n",
       "      <th>title</th>\n",
       "      <th>content</th>\n",
       "      <th>category_pred</th>\n",
       "      <th>content_preprocessing</th>\n",
       "      <th>content_preprocessing2</th>\n",
       "      <th>pred_diff</th>\n",
       "    </tr>\n",
       "  </thead>\n",
       "  <tbody>\n",
       "    <tr>\n",
       "      <th>279854</th>\n",
       "      <td>363354</td>\n",
       "      <td>2018-09-02</td>\n",
       "      <td>2018-10-02</td>\n",
       "      <td>0</td>\n",
       "      <td>3830</td>\n",
       "      <td>육아/교육</td>\n",
       "      <td>저출산 고령사회위원회가 제안한 초등학교 저학년 오후 3시 하교 정책 재고 요청</td>\n",
       "      <td>저는 현재 초등학교 19년차 교사입니다. 공주교육대학교에서 초등교육을, 한국교원대학...</td>\n",
       "      <td>육아/교육</td>\n",
       "      <td>저는 현재 초등학교   년차 교사입니다  공주교육대학교에서 초등교육을  한국교원대학...</td>\n",
       "      <td>현재 초등학교   년차 교사입니다  공주교육대학교에서 초등교육을  한국교원대학교대학...</td>\n",
       "      <td>1</td>\n",
       "    </tr>\n",
       "    <tr>\n",
       "      <th>279887</th>\n",
       "      <td>363401</td>\n",
       "      <td>2018-09-02</td>\n",
       "      <td>2018-10-02</td>\n",
       "      <td>0</td>\n",
       "      <td>5239</td>\n",
       "      <td>성장동력</td>\n",
       "      <td>구글G- city사업을 청라 유치 원안대로 하게 해주세요</td>\n",
       "      <td>대통령님 안녕하십니까?\\n청라주민입니다.\\n최근 g city와 관련하여 말씀드립니다...</td>\n",
       "      <td>육아/교육</td>\n",
       "      <td>대통령님 안녕하십니까  청라주민입니다  최근 g city와 관련하여 말씀드립니다  ...</td>\n",
       "      <td>대통령님 안녕하십니까  청라주민입니다  최근 g city와 관련하여 말씀드립니다  ...</td>\n",
       "      <td>0</td>\n",
       "    </tr>\n",
       "    <tr>\n",
       "      <th>279918</th>\n",
       "      <td>363440</td>\n",
       "      <td>2018-09-02</td>\n",
       "      <td>2018-10-02</td>\n",
       "      <td>0</td>\n",
       "      <td>2544</td>\n",
       "      <td>육아/교육</td>\n",
       "      <td>양육비 미지급 사건에 대한 대책마련 청원</td>\n",
       "      <td>법률사무소 지청 정훈태 변호사입니다.\\n미혼모나 부부가 이혼할 경우 양육비부담자가 ...</td>\n",
       "      <td>인권/성평등</td>\n",
       "      <td>법률사무소 지청 정훈태 변호사입니다  미혼모나 부부가 이혼할 경우 양육비부담자가 양...</td>\n",
       "      <td>법률사무소 지청 정훈태 변호사입니다  미혼모나 부부가 이혼할 경우 양육비부담자가 양...</td>\n",
       "      <td>0</td>\n",
       "    </tr>\n",
       "    <tr>\n",
       "      <th>279982</th>\n",
       "      <td>363533</td>\n",
       "      <td>2018-09-02</td>\n",
       "      <td>2018-10-02</td>\n",
       "      <td>0</td>\n",
       "      <td>1655</td>\n",
       "      <td>기타</td>\n",
       "      <td>스포츠토토(베트맨) 국민 피 빨아먹는 짓 중단하게 해주세요</td>\n",
       "      <td>현재 한국의 스포츠토토는 10년이 훌쩍 지난 것으로 알고 있습니다. 하지만 최근에 ...</td>\n",
       "      <td>육아/교육</td>\n",
       "      <td>현재 한국의 스포츠토토는   년이 훌쩍 지난 것으로 알고 있습니다  하지만 최근에 ...</td>\n",
       "      <td>현재 한국의 스포츠토토는   년이 훌쩍 지난 것으로 알고  하지만 최근에 베트맨인지...</td>\n",
       "      <td>0</td>\n",
       "    </tr>\n",
       "    <tr>\n",
       "      <th>280324</th>\n",
       "      <td>364001</td>\n",
       "      <td>2018-09-03</td>\n",
       "      <td>2018-10-03</td>\n",
       "      <td>0</td>\n",
       "      <td>1446</td>\n",
       "      <td>외교/통일/국방</td>\n",
       "      <td>강명구 평화마라토너의 북한 입국을 위한 정부의 지원을 청원합니다</td>\n",
       "      <td>한반도 평화의 전령, 강명구 평화마라토너는 꼭 1년 전 네덜란드 헤이그 이준열사 기...</td>\n",
       "      <td>보건복지</td>\n",
       "      <td>한반도 평화의 전령  강명구 평화마라토너는 꼭  년 전 네덜란드 헤이그 이준열사 기...</td>\n",
       "      <td>한반도 평화의 전령  강명구 평화마라토너는 꼭  년 전 네덜란드 헤이그 이준열사 기...</td>\n",
       "      <td>0</td>\n",
       "    </tr>\n",
       "  </tbody>\n",
       "</table>\n",
       "</div>"
      ],
      "text/plain": [
       "        article_id      start        end  answered  votes  category  \\\n",
       "279854      363354 2018-09-02 2018-10-02         0   3830     육아/교육   \n",
       "279887      363401 2018-09-02 2018-10-02         0   5239      성장동력   \n",
       "279918      363440 2018-09-02 2018-10-02         0   2544     육아/교육   \n",
       "279982      363533 2018-09-02 2018-10-02         0   1655        기타   \n",
       "280324      364001 2018-09-03 2018-10-03         0   1446  외교/통일/국방   \n",
       "\n",
       "                                              title  \\\n",
       "279854  저출산 고령사회위원회가 제안한 초등학교 저학년 오후 3시 하교 정책 재고 요청   \n",
       "279887              구글G- city사업을 청라 유치 원안대로 하게 해주세요   \n",
       "279918                       양육비 미지급 사건에 대한 대책마련 청원   \n",
       "279982             스포츠토토(베트맨) 국민 피 빨아먹는 짓 중단하게 해주세요   \n",
       "280324          강명구 평화마라토너의 북한 입국을 위한 정부의 지원을 청원합니다   \n",
       "\n",
       "                                                  content category_pred  \\\n",
       "279854  저는 현재 초등학교 19년차 교사입니다. 공주교육대학교에서 초등교육을, 한국교원대학...         육아/교육   \n",
       "279887  대통령님 안녕하십니까?\\n청라주민입니다.\\n최근 g city와 관련하여 말씀드립니다...         육아/교육   \n",
       "279918  법률사무소 지청 정훈태 변호사입니다.\\n미혼모나 부부가 이혼할 경우 양육비부담자가 ...        인권/성평등   \n",
       "279982  현재 한국의 스포츠토토는 10년이 훌쩍 지난 것으로 알고 있습니다. 하지만 최근에 ...         육아/교육   \n",
       "280324  한반도 평화의 전령, 강명구 평화마라토너는 꼭 1년 전 네덜란드 헤이그 이준열사 기...          보건복지   \n",
       "\n",
       "                                    content_preprocessing  \\\n",
       "279854  저는 현재 초등학교   년차 교사입니다  공주교육대학교에서 초등교육을  한국교원대학...   \n",
       "279887  대통령님 안녕하십니까  청라주민입니다  최근 g city와 관련하여 말씀드립니다  ...   \n",
       "279918  법률사무소 지청 정훈태 변호사입니다  미혼모나 부부가 이혼할 경우 양육비부담자가 양...   \n",
       "279982  현재 한국의 스포츠토토는   년이 훌쩍 지난 것으로 알고 있습니다  하지만 최근에 ...   \n",
       "280324  한반도 평화의 전령  강명구 평화마라토너는 꼭  년 전 네덜란드 헤이그 이준열사 기...   \n",
       "\n",
       "                                   content_preprocessing2  pred_diff  \n",
       "279854  현재 초등학교   년차 교사입니다  공주교육대학교에서 초등교육을  한국교원대학교대학...          1  \n",
       "279887  대통령님 안녕하십니까  청라주민입니다  최근 g city와 관련하여 말씀드립니다  ...          0  \n",
       "279918  법률사무소 지청 정훈태 변호사입니다  미혼모나 부부가 이혼할 경우 양육비부담자가 양...          0  \n",
       "279982  현재 한국의 스포츠토토는   년이 훌쩍 지난 것으로 알고  하지만 최근에 베트맨인지...          0  \n",
       "280324  한반도 평화의 전령  강명구 평화마라토너는 꼭  년 전 네덜란드 헤이그 이준열사 기...          0  "
      ]
     },
     "execution_count": 51,
     "metadata": {},
     "output_type": "execute_result"
    }
   ],
   "source": [
    "df_test['pred_diff'] = 0\n",
    "df_test['pred_diff'] = (df_test['category'] == df_test['category_pred'] ) == 1\n",
    "df_test['pred_diff'] = df_test['pred_diff'].astype(int)\n",
    "df_test.head()"
   ]
  },
  {
   "cell_type": "code",
   "execution_count": 52,
   "metadata": {
    "colab": {
     "base_uri": "https://localhost:8080/",
     "height": 69
    },
    "id": "nXmjvRFRt01I",
    "outputId": "bd439278-4334-42c8-a4fe-ff213a92d649"
   },
   "outputs": [
    {
     "data": {
      "text/plain": [
       "0    825\n",
       "1    183\n",
       "Name: pred_diff, dtype: int64"
      ]
     },
     "execution_count": 52,
     "metadata": {},
     "output_type": "execute_result"
    }
   ],
   "source": [
    "# 맞게 예측한 청원은 1, 틀린 예측은 0으로 표기해서 확인을 해봅니다. \n",
    "pred_diff = df_test['pred_diff'].value_counts()\n",
    "pred_diff"
   ]
  },
  {
   "cell_type": "code",
   "execution_count": 53,
   "metadata": {
    "colab": {
     "base_uri": "https://localhost:8080/",
     "height": 35
    },
    "id": "UZ6tVFBPt01J",
    "outputId": "be9fc098-5edb-45d9-d62c-d13ff8f79875"
   },
   "outputs": [
    {
     "name": "stdout",
     "output_type": "stream",
     "text": [
      "전체 1008건의 데이터 중 183건 예측\n"
     ]
    }
   ],
   "source": [
    "print('전체 {}건의 데이터 중 {}건 예측'.format(y_pred.shape[0], pred_diff[1]))"
   ]
  },
  {
   "cell_type": "code",
   "execution_count": 54,
   "metadata": {
    "colab": {
     "base_uri": "https://localhost:8080/",
     "height": 35
    },
    "id": "rVg3paKyt01O",
    "outputId": "fa07ffbb-493c-4532-c9e8-53187b899536"
   },
   "outputs": [
    {
     "name": "stdout",
     "output_type": "stream",
     "text": [
      "예측 비율 18.154761904761905\n"
     ]
    }
   ],
   "source": [
    "# 예측이 성공한 비율을 확인해봅니다.\n",
    "acc = ( pred_diff[1] / y_pred.shape[0] )*100 \n",
    "print('예측 비율 {}'.format(acc))"
   ]
  },
  {
   "cell_type": "code",
   "execution_count": 55,
   "metadata": {
    "colab": {
     "base_uri": "https://localhost:8080/",
     "height": 1175
    },
    "id": "SM9-2Jzpt01P",
    "outputId": "eea66e03-c3ea-4ae4-f6b9-d7ea91104de1"
   },
   "outputs": [
    {
     "data": {
      "text/html": [
       "<div>\n",
       "<style scoped>\n",
       "    .dataframe tbody tr th:only-of-type {\n",
       "        vertical-align: middle;\n",
       "    }\n",
       "\n",
       "    .dataframe tbody tr th {\n",
       "        vertical-align: top;\n",
       "    }\n",
       "\n",
       "    .dataframe thead th {\n",
       "        text-align: right;\n",
       "    }\n",
       "</style>\n",
       "<table border=\"1\" class=\"dataframe\">\n",
       "  <thead>\n",
       "    <tr style=\"text-align: right;\">\n",
       "      <th></th>\n",
       "      <th>article_id</th>\n",
       "      <th>start</th>\n",
       "      <th>end</th>\n",
       "      <th>answered</th>\n",
       "      <th>votes</th>\n",
       "      <th>category</th>\n",
       "      <th>title</th>\n",
       "      <th>content</th>\n",
       "      <th>category_pred</th>\n",
       "      <th>content_preprocessing</th>\n",
       "      <th>content_preprocessing2</th>\n",
       "      <th>pred_diff</th>\n",
       "    </tr>\n",
       "  </thead>\n",
       "  <tbody>\n",
       "    <tr>\n",
       "      <th>279854</th>\n",
       "      <td>363354</td>\n",
       "      <td>2018-09-02</td>\n",
       "      <td>2018-10-02</td>\n",
       "      <td>0</td>\n",
       "      <td>3830</td>\n",
       "      <td>육아/교육</td>\n",
       "      <td>저출산 고령사회위원회가 제안한 초등학교 저학년 오후 3시 하교 정책 재고 요청</td>\n",
       "      <td>저는 현재 초등학교 19년차 교사입니다. 공주교육대학교에서 초등교육을, 한국교원대학...</td>\n",
       "      <td>육아/교육</td>\n",
       "      <td>저는 현재 초등학교   년차 교사입니다  공주교육대학교에서 초등교육을  한국교원대학...</td>\n",
       "      <td>현재 초등학교   년차 교사입니다  공주교육대학교에서 초등교육을  한국교원대학교대학...</td>\n",
       "      <td>1</td>\n",
       "    </tr>\n",
       "    <tr>\n",
       "      <th>281476</th>\n",
       "      <td>365511</td>\n",
       "      <td>2018-09-04</td>\n",
       "      <td>2018-10-04</td>\n",
       "      <td>0</td>\n",
       "      <td>2203</td>\n",
       "      <td>인권/성평등</td>\n",
       "      <td>양성평등 징병제를 청원합니다.</td>\n",
       "      <td>남성이 당하는 성차별에 대해서는 사회적으로 둔감한 경향이 있습니다.\\n대한민국에서 ...</td>\n",
       "      <td>인권/성평등</td>\n",
       "      <td>남성이 당하는 성차별에 대해서는 사회적으로 둔감한 경향이 있습니다  대한민국에서 현...</td>\n",
       "      <td>남성이 당하는 성차별에 대해서는 사회적으로 둔감한 경향이  대한민국에서 현재 남성들...</td>\n",
       "      <td>1</td>\n",
       "    </tr>\n",
       "    <tr>\n",
       "      <th>281965</th>\n",
       "      <td>366156</td>\n",
       "      <td>2018-09-04</td>\n",
       "      <td>2018-10-04</td>\n",
       "      <td>0</td>\n",
       "      <td>12243</td>\n",
       "      <td>육아/교육</td>\n",
       "      <td>유은혜 교육부장관 후보 자격 논란에 대한 현직교사의 읍소</td>\n",
       "      <td>안녕하세요, 13년차 현직 초등교사입니다.\\n최근 논란이 되고 있는 유은혜 교육부 ...</td>\n",
       "      <td>육아/교육</td>\n",
       "      <td>안녕하세요    년차 현직 초등교사입니다  최근 논란이 되고 있는 유은혜 교육부 장...</td>\n",
       "      <td>안녕하세요    년차 현직 초등교사입니다  최근 논란이 되고 유은혜 교육부 장관 후...</td>\n",
       "      <td>1</td>\n",
       "    </tr>\n",
       "    <tr>\n",
       "      <th>283027</th>\n",
       "      <td>367570</td>\n",
       "      <td>2018-09-05</td>\n",
       "      <td>2018-10-05</td>\n",
       "      <td>0</td>\n",
       "      <td>2601</td>\n",
       "      <td>육아/교육</td>\n",
       "      <td>대통령님 어린이집 잡아 죽이니 기분 좋습니까?</td>\n",
       "      <td>어린이집 원장 남편입니다.\\n힘들게 시작한 어린이집 문 닫아야 하네요\\n아이들을 안...</td>\n",
       "      <td>육아/교육</td>\n",
       "      <td>어린이집 원장 남편입니다  힘들게 시작한 어린이집 문 닫아야 하네요 아이들을 안전하...</td>\n",
       "      <td>어린이집 원장 남편입니다  힘들게 시작한 어린이집 문 닫아야 하네요 아이들을 안전하...</td>\n",
       "      <td>1</td>\n",
       "    </tr>\n",
       "    <tr>\n",
       "      <th>283450</th>\n",
       "      <td>368121</td>\n",
       "      <td>2018-09-05</td>\n",
       "      <td>2018-10-05</td>\n",
       "      <td>0</td>\n",
       "      <td>2612</td>\n",
       "      <td>육아/교육</td>\n",
       "      <td>**공업고등학교에 대한 강력하고 엄중한 수사를 간곡히 청원합니다.</td>\n",
       "      <td>안녕하십니까? 저는 대구에 거주하고 있는 한 시민으로 평소 사회적인 문제와 교육 분...</td>\n",
       "      <td>육아/교육</td>\n",
       "      <td>안녕하십니까  저는 대구에 거주하고 있는 한 시민으로 평소 사회적인 문제와 교육 분...</td>\n",
       "      <td>안녕하십니까  대구에 거주하고 시민으로 평소 사회적인 문제와 교육 분야에 관심이 많...</td>\n",
       "      <td>1</td>\n",
       "    </tr>\n",
       "  </tbody>\n",
       "</table>\n",
       "</div>"
      ],
      "text/plain": [
       "        article_id      start        end  answered  votes category  \\\n",
       "279854      363354 2018-09-02 2018-10-02         0   3830    육아/교육   \n",
       "281476      365511 2018-09-04 2018-10-04         0   2203   인권/성평등   \n",
       "281965      366156 2018-09-04 2018-10-04         0  12243    육아/교육   \n",
       "283027      367570 2018-09-05 2018-10-05         0   2601    육아/교육   \n",
       "283450      368121 2018-09-05 2018-10-05         0   2612    육아/교육   \n",
       "\n",
       "                                              title  \\\n",
       "279854  저출산 고령사회위원회가 제안한 초등학교 저학년 오후 3시 하교 정책 재고 요청   \n",
       "281476                             양성평등 징병제를 청원합니다.   \n",
       "281965              유은혜 교육부장관 후보 자격 논란에 대한 현직교사의 읍소   \n",
       "283027                    대통령님 어린이집 잡아 죽이니 기분 좋습니까?   \n",
       "283450         **공업고등학교에 대한 강력하고 엄중한 수사를 간곡히 청원합니다.   \n",
       "\n",
       "                                                  content category_pred  \\\n",
       "279854  저는 현재 초등학교 19년차 교사입니다. 공주교육대학교에서 초등교육을, 한국교원대학...         육아/교육   \n",
       "281476  남성이 당하는 성차별에 대해서는 사회적으로 둔감한 경향이 있습니다.\\n대한민국에서 ...        인권/성평등   \n",
       "281965  안녕하세요, 13년차 현직 초등교사입니다.\\n최근 논란이 되고 있는 유은혜 교육부 ...         육아/교육   \n",
       "283027  어린이집 원장 남편입니다.\\n힘들게 시작한 어린이집 문 닫아야 하네요\\n아이들을 안...         육아/교육   \n",
       "283450  안녕하십니까? 저는 대구에 거주하고 있는 한 시민으로 평소 사회적인 문제와 교육 분...         육아/교육   \n",
       "\n",
       "                                    content_preprocessing  \\\n",
       "279854  저는 현재 초등학교   년차 교사입니다  공주교육대학교에서 초등교육을  한국교원대학...   \n",
       "281476  남성이 당하는 성차별에 대해서는 사회적으로 둔감한 경향이 있습니다  대한민국에서 현...   \n",
       "281965  안녕하세요    년차 현직 초등교사입니다  최근 논란이 되고 있는 유은혜 교육부 장...   \n",
       "283027  어린이집 원장 남편입니다  힘들게 시작한 어린이집 문 닫아야 하네요 아이들을 안전하...   \n",
       "283450  안녕하십니까  저는 대구에 거주하고 있는 한 시민으로 평소 사회적인 문제와 교육 분...   \n",
       "\n",
       "                                   content_preprocessing2  pred_diff  \n",
       "279854  현재 초등학교   년차 교사입니다  공주교육대학교에서 초등교육을  한국교원대학교대학...          1  \n",
       "281476  남성이 당하는 성차별에 대해서는 사회적으로 둔감한 경향이  대한민국에서 현재 남성들...          1  \n",
       "281965  안녕하세요    년차 현직 초등교사입니다  최근 논란이 되고 유은혜 교육부 장관 후...          1  \n",
       "283027  어린이집 원장 남편입니다  힘들게 시작한 어린이집 문 닫아야 하네요 아이들을 안전하...          1  \n",
       "283450  안녕하십니까  대구에 거주하고 시민으로 평소 사회적인 문제와 교육 분야에 관심이 많...          1  "
      ]
     },
     "execution_count": 55,
     "metadata": {},
     "output_type": "execute_result"
    }
   ],
   "source": [
    "# 예측이 된 것과 안 된 것을 비교하기 위해 먼저 제대로 예측한 카테고리 데이터와 예측이 안 된 데이터를 변수로 만들어 담습니다.\n",
    "predict_correct = df_test.loc[df_test['pred_diff'] == 1]\n",
    "predict_correct.head()"
   ]
  },
  {
   "cell_type": "code",
   "execution_count": 56,
   "metadata": {
    "colab": {
     "base_uri": "https://localhost:8080/",
     "height": 950
    },
    "id": "V9uZ4X5Dt01R",
    "outputId": "d428d27d-7037-44ab-e4dd-a8aaa34d6f27"
   },
   "outputs": [
    {
     "data": {
      "text/html": [
       "<div>\n",
       "<style scoped>\n",
       "    .dataframe tbody tr th:only-of-type {\n",
       "        vertical-align: middle;\n",
       "    }\n",
       "\n",
       "    .dataframe tbody tr th {\n",
       "        vertical-align: top;\n",
       "    }\n",
       "\n",
       "    .dataframe thead th {\n",
       "        text-align: right;\n",
       "    }\n",
       "</style>\n",
       "<table border=\"1\" class=\"dataframe\">\n",
       "  <thead>\n",
       "    <tr style=\"text-align: right;\">\n",
       "      <th></th>\n",
       "      <th>article_id</th>\n",
       "      <th>start</th>\n",
       "      <th>end</th>\n",
       "      <th>answered</th>\n",
       "      <th>votes</th>\n",
       "      <th>category</th>\n",
       "      <th>title</th>\n",
       "      <th>content</th>\n",
       "      <th>category_pred</th>\n",
       "      <th>content_preprocessing</th>\n",
       "      <th>content_preprocessing2</th>\n",
       "      <th>pred_diff</th>\n",
       "    </tr>\n",
       "  </thead>\n",
       "  <tbody>\n",
       "    <tr>\n",
       "      <th>279887</th>\n",
       "      <td>363401</td>\n",
       "      <td>2018-09-02</td>\n",
       "      <td>2018-10-02</td>\n",
       "      <td>0</td>\n",
       "      <td>5239</td>\n",
       "      <td>성장동력</td>\n",
       "      <td>구글G- city사업을 청라 유치 원안대로 하게 해주세요</td>\n",
       "      <td>대통령님 안녕하십니까?\\n청라주민입니다.\\n최근 g city와 관련하여 말씀드립니다...</td>\n",
       "      <td>육아/교육</td>\n",
       "      <td>대통령님 안녕하십니까  청라주민입니다  최근 g city와 관련하여 말씀드립니다  ...</td>\n",
       "      <td>대통령님 안녕하십니까  청라주민입니다  최근 g city와 관련하여 말씀드립니다  ...</td>\n",
       "      <td>0</td>\n",
       "    </tr>\n",
       "    <tr>\n",
       "      <th>279918</th>\n",
       "      <td>363440</td>\n",
       "      <td>2018-09-02</td>\n",
       "      <td>2018-10-02</td>\n",
       "      <td>0</td>\n",
       "      <td>2544</td>\n",
       "      <td>육아/교육</td>\n",
       "      <td>양육비 미지급 사건에 대한 대책마련 청원</td>\n",
       "      <td>법률사무소 지청 정훈태 변호사입니다.\\n미혼모나 부부가 이혼할 경우 양육비부담자가 ...</td>\n",
       "      <td>인권/성평등</td>\n",
       "      <td>법률사무소 지청 정훈태 변호사입니다  미혼모나 부부가 이혼할 경우 양육비부담자가 양...</td>\n",
       "      <td>법률사무소 지청 정훈태 변호사입니다  미혼모나 부부가 이혼할 경우 양육비부담자가 양...</td>\n",
       "      <td>0</td>\n",
       "    </tr>\n",
       "    <tr>\n",
       "      <th>279982</th>\n",
       "      <td>363533</td>\n",
       "      <td>2018-09-02</td>\n",
       "      <td>2018-10-02</td>\n",
       "      <td>0</td>\n",
       "      <td>1655</td>\n",
       "      <td>기타</td>\n",
       "      <td>스포츠토토(베트맨) 국민 피 빨아먹는 짓 중단하게 해주세요</td>\n",
       "      <td>현재 한국의 스포츠토토는 10년이 훌쩍 지난 것으로 알고 있습니다. 하지만 최근에 ...</td>\n",
       "      <td>육아/교육</td>\n",
       "      <td>현재 한국의 스포츠토토는   년이 훌쩍 지난 것으로 알고 있습니다  하지만 최근에 ...</td>\n",
       "      <td>현재 한국의 스포츠토토는   년이 훌쩍 지난 것으로 알고  하지만 최근에 베트맨인지...</td>\n",
       "      <td>0</td>\n",
       "    </tr>\n",
       "    <tr>\n",
       "      <th>280324</th>\n",
       "      <td>364001</td>\n",
       "      <td>2018-09-03</td>\n",
       "      <td>2018-10-03</td>\n",
       "      <td>0</td>\n",
       "      <td>1446</td>\n",
       "      <td>외교/통일/국방</td>\n",
       "      <td>강명구 평화마라토너의 북한 입국을 위한 정부의 지원을 청원합니다</td>\n",
       "      <td>한반도 평화의 전령, 강명구 평화마라토너는 꼭 1년 전 네덜란드 헤이그 이준열사 기...</td>\n",
       "      <td>보건복지</td>\n",
       "      <td>한반도 평화의 전령  강명구 평화마라토너는 꼭  년 전 네덜란드 헤이그 이준열사 기...</td>\n",
       "      <td>한반도 평화의 전령  강명구 평화마라토너는 꼭  년 전 네덜란드 헤이그 이준열사 기...</td>\n",
       "      <td>0</td>\n",
       "    </tr>\n",
       "    <tr>\n",
       "      <th>280401</th>\n",
       "      <td>364094</td>\n",
       "      <td>2018-09-03</td>\n",
       "      <td>2018-10-03</td>\n",
       "      <td>0</td>\n",
       "      <td>12393</td>\n",
       "      <td>교통/건축/국토</td>\n",
       "      <td>문재인 대통령님, 약속을 지켜주세요..</td>\n",
       "      <td>문재인 대통령님 약속을 지켜 주세요..\\n대통령님께서는 2016년에 우리 입주민들과...</td>\n",
       "      <td>육아/교육</td>\n",
       "      <td>문재인 대통령님 약속을 지켜 주세요   대통령님께서는     년에 우리 입주민들과 ...</td>\n",
       "      <td>문재인 대통령님 약속을 지켜 주세요   대통령님께서는     년에 우리 입주민들과 ...</td>\n",
       "      <td>0</td>\n",
       "    </tr>\n",
       "  </tbody>\n",
       "</table>\n",
       "</div>"
      ],
      "text/plain": [
       "        article_id      start        end  answered  votes  category  \\\n",
       "279887      363401 2018-09-02 2018-10-02         0   5239      성장동력   \n",
       "279918      363440 2018-09-02 2018-10-02         0   2544     육아/교육   \n",
       "279982      363533 2018-09-02 2018-10-02         0   1655        기타   \n",
       "280324      364001 2018-09-03 2018-10-03         0   1446  외교/통일/국방   \n",
       "280401      364094 2018-09-03 2018-10-03         0  12393  교통/건축/국토   \n",
       "\n",
       "                                      title  \\\n",
       "279887      구글G- city사업을 청라 유치 원안대로 하게 해주세요   \n",
       "279918               양육비 미지급 사건에 대한 대책마련 청원   \n",
       "279982     스포츠토토(베트맨) 국민 피 빨아먹는 짓 중단하게 해주세요   \n",
       "280324  강명구 평화마라토너의 북한 입국을 위한 정부의 지원을 청원합니다   \n",
       "280401                문재인 대통령님, 약속을 지켜주세요..   \n",
       "\n",
       "                                                  content category_pred  \\\n",
       "279887  대통령님 안녕하십니까?\\n청라주민입니다.\\n최근 g city와 관련하여 말씀드립니다...         육아/교육   \n",
       "279918  법률사무소 지청 정훈태 변호사입니다.\\n미혼모나 부부가 이혼할 경우 양육비부담자가 ...        인권/성평등   \n",
       "279982  현재 한국의 스포츠토토는 10년이 훌쩍 지난 것으로 알고 있습니다. 하지만 최근에 ...         육아/교육   \n",
       "280324  한반도 평화의 전령, 강명구 평화마라토너는 꼭 1년 전 네덜란드 헤이그 이준열사 기...          보건복지   \n",
       "280401  문재인 대통령님 약속을 지켜 주세요..\\n대통령님께서는 2016년에 우리 입주민들과...         육아/교육   \n",
       "\n",
       "                                    content_preprocessing  \\\n",
       "279887  대통령님 안녕하십니까  청라주민입니다  최근 g city와 관련하여 말씀드립니다  ...   \n",
       "279918  법률사무소 지청 정훈태 변호사입니다  미혼모나 부부가 이혼할 경우 양육비부담자가 양...   \n",
       "279982  현재 한국의 스포츠토토는   년이 훌쩍 지난 것으로 알고 있습니다  하지만 최근에 ...   \n",
       "280324  한반도 평화의 전령  강명구 평화마라토너는 꼭  년 전 네덜란드 헤이그 이준열사 기...   \n",
       "280401  문재인 대통령님 약속을 지켜 주세요   대통령님께서는     년에 우리 입주민들과 ...   \n",
       "\n",
       "                                   content_preprocessing2  pred_diff  \n",
       "279887  대통령님 안녕하십니까  청라주민입니다  최근 g city와 관련하여 말씀드립니다  ...          0  \n",
       "279918  법률사무소 지청 정훈태 변호사입니다  미혼모나 부부가 이혼할 경우 양육비부담자가 양...          0  \n",
       "279982  현재 한국의 스포츠토토는   년이 훌쩍 지난 것으로 알고  하지만 최근에 베트맨인지...          0  \n",
       "280324  한반도 평화의 전령  강명구 평화마라토너는 꼭  년 전 네덜란드 헤이그 이준열사 기...          0  \n",
       "280401  문재인 대통령님 약속을 지켜 주세요   대통령님께서는     년에 우리 입주민들과 ...          0  "
      ]
     },
     "execution_count": 56,
     "metadata": {},
     "output_type": "execute_result"
    }
   ],
   "source": [
    "predict_incorrect = df_test.loc[df_test['pred_diff'] == 0].copy()\n",
    "predict_incorrect.head()"
   ]
  },
  {
   "cell_type": "code",
   "execution_count": 57,
   "metadata": {
    "colab": {
     "base_uri": "https://localhost:8080/",
     "height": 329
    },
    "id": "19dauZBlt01T",
    "outputId": "7a27412f-578e-45e0-a832-5e7ba8bd4fb2"
   },
   "outputs": [
    {
     "data": {
      "text/plain": [
       "교통/건축/국토       122\n",
       "안전/환경           87\n",
       "기타              80\n",
       "인권/성평등          79\n",
       "육아/교육           72\n",
       "보건복지            72\n",
       "문화/예술/체육/언론     49\n",
       "외교/통일/국방        47\n",
       "일자리             46\n",
       "정치개혁            37\n",
       "행정              33\n",
       "반려동물            30\n",
       "경제민주화           29\n",
       "미래              18\n",
       "저출산/고령화대책       10\n",
       "성장동력             8\n",
       "농산어촌             6\n",
       "Name: category, dtype: int64"
      ]
     },
     "execution_count": 57,
     "metadata": {},
     "output_type": "execute_result"
    }
   ],
   "source": [
    "# 항목 당 잘못 예측된 경우를 찾아봅니다.\n",
    "predict_incorrect_value = predict_incorrect['category'].value_counts()\n",
    "predict_incorrect_value"
   ]
  },
  {
   "cell_type": "code",
   "execution_count": 58,
   "metadata": {
    "colab": {
     "base_uri": "https://localhost:8080/",
     "height": 358
    },
    "id": "kzW0yPVzt01V",
    "outputId": "4421625f-5bd3-4ee7-8009-cfaeae18cec6"
   },
   "outputs": [
    {
     "data": {
      "text/plain": [
       "<matplotlib.axes._subplots.AxesSubplot at 0x10310e6f0c8>"
      ]
     },
     "execution_count": 58,
     "metadata": {},
     "output_type": "execute_result"
    },
    {
     "data": {
      "image/png": "[encoded data removed]",
      "text/plain": [
       "<Figure size 432x288 with 1 Axes>"
      ]
     },
     "metadata": {
      "image/png": {
       "height": 323,
       "width": 373
      },
      "needs_background": "light"
     },
     "output_type": "display_data"
    }
   ],
   "source": [
    "# 잘못 예측한 데이터를 bar-plot으로 뽑아보면 교통/건축/국토 항목이 제일 많습니다.\n",
    "predict_incorrect_value.plot(kind='bar')"
   ]
  },
  {
   "cell_type": "markdown",
   "metadata": {
    "id": "2MX3Uafzt01Y"
   },
   "source": [
    "# 왜 예측의 정확도가 낮을까요?\n",
    "* 청원을 입력하는 사람마다 카테고리 분류 기준이 정확하지 않은 것 같습니다.\n",
    "* 기타로 예측한 분류도 특정 카테고리로 분류해도 될 것으로 보여집니다."
   ]
  },
  {
   "cell_type": "code",
   "execution_count": 59,
   "metadata": {
    "colab": {
     "base_uri": "https://localhost:8080/",
     "height": 1883
    },
    "id": "CIT34Dj3t01Z",
    "outputId": "5ba98cab-8fa3-4560-8fd3-ecd4f4597073"
   },
   "outputs": [
    {
     "data": {
      "text/html": [
       "<div>\n",
       "<style scoped>\n",
       "    .dataframe tbody tr th:only-of-type {\n",
       "        vertical-align: middle;\n",
       "    }\n",
       "\n",
       "    .dataframe tbody tr th {\n",
       "        vertical-align: top;\n",
       "    }\n",
       "\n",
       "    .dataframe thead th {\n",
       "        text-align: right;\n",
       "    }\n",
       "</style>\n",
       "<table border=\"1\" class=\"dataframe\">\n",
       "  <thead>\n",
       "    <tr style=\"text-align: right;\">\n",
       "      <th></th>\n",
       "      <th>category</th>\n",
       "      <th>category_pred</th>\n",
       "      <th>title</th>\n",
       "      <th>content</th>\n",
       "    </tr>\n",
       "  </thead>\n",
       "  <tbody>\n",
       "    <tr>\n",
       "      <th>279887</th>\n",
       "      <td>성장동력</td>\n",
       "      <td>육아/교육</td>\n",
       "      <td>구글G- city사업을 청라 유치 원안대로 하게 해주세요</td>\n",
       "      <td>대통령님 안녕하십니까?\\n청라주민입니다.\\n최근 g city와 관련하여 말씀드립니다...</td>\n",
       "    </tr>\n",
       "    <tr>\n",
       "      <th>279918</th>\n",
       "      <td>육아/교육</td>\n",
       "      <td>인권/성평등</td>\n",
       "      <td>양육비 미지급 사건에 대한 대책마련 청원</td>\n",
       "      <td>법률사무소 지청 정훈태 변호사입니다.\\n미혼모나 부부가 이혼할 경우 양육비부담자가 ...</td>\n",
       "    </tr>\n",
       "    <tr>\n",
       "      <th>279982</th>\n",
       "      <td>기타</td>\n",
       "      <td>육아/교육</td>\n",
       "      <td>스포츠토토(베트맨) 국민 피 빨아먹는 짓 중단하게 해주세요</td>\n",
       "      <td>현재 한국의 스포츠토토는 10년이 훌쩍 지난 것으로 알고 있습니다. 하지만 최근에 ...</td>\n",
       "    </tr>\n",
       "    <tr>\n",
       "      <th>280324</th>\n",
       "      <td>외교/통일/국방</td>\n",
       "      <td>보건복지</td>\n",
       "      <td>강명구 평화마라토너의 북한 입국을 위한 정부의 지원을 청원합니다</td>\n",
       "      <td>한반도 평화의 전령, 강명구 평화마라토너는 꼭 1년 전 네덜란드 헤이그 이준열사 기...</td>\n",
       "    </tr>\n",
       "    <tr>\n",
       "      <th>280401</th>\n",
       "      <td>교통/건축/국토</td>\n",
       "      <td>육아/교육</td>\n",
       "      <td>문재인 대통령님, 약속을 지켜주세요..</td>\n",
       "      <td>문재인 대통령님 약속을 지켜 주세요..\\n대통령님께서는 2016년에 우리 입주민들과...</td>\n",
       "    </tr>\n",
       "    <tr>\n",
       "      <th>280432</th>\n",
       "      <td>교통/건축/국토</td>\n",
       "      <td>안전/환경</td>\n",
       "      <td>현기차에바가루 개선안해줘요?</td>\n",
       "      <td>얘기들차만타면 기침하고 눈도 아플뿐더러 눈에 통증과 가려움 폐를 쿡쿡찌르는듯한 아픔...</td>\n",
       "    </tr>\n",
       "    <tr>\n",
       "      <th>280506</th>\n",
       "      <td>교통/건축/국토</td>\n",
       "      <td>보건복지</td>\n",
       "      <td>국토부는 고양시 추가 공공택지 아파트 공급을 철회하고  자족도시, 기업도시로 되도록...</td>\n",
       "      <td>서울집값 잡기용이라는 방향부터 잘못된 목적에 따라 추석 전에 발표가 예정된 수도권 ...</td>\n",
       "    </tr>\n",
       "    <tr>\n",
       "      <th>280724</th>\n",
       "      <td>인권/성평등</td>\n",
       "      <td>육아/교육</td>\n",
       "      <td>일본군성노예제 피해자를 더 이상 힘들게 하지 말고 하루빨리 화해치유재단을 해산하여 ...</td>\n",
       "      <td>정부에서 지난 1월 9일 2015한일합의 후속조치 마련계획을 발표하고 8개월 동안 ...</td>\n",
       "    </tr>\n",
       "    <tr>\n",
       "      <th>280777</th>\n",
       "      <td>정치개혁</td>\n",
       "      <td>안전/환경</td>\n",
       "      <td>고양시 공무원  차안에  90분  감금한  행안부 감사관  파면 구속 청원합니다</td>\n",
       "      <td>언론 보도에    지난  8. 30일 고양시   공무원을   감사나온  행안부  감...</td>\n",
       "    </tr>\n",
       "    <tr>\n",
       "      <th>281804</th>\n",
       "      <td>육아/교육</td>\n",
       "      <td>문화/예술/체육/언론</td>\n",
       "      <td>어린이집 원장이 도둑년입니까?</td>\n",
       "      <td>군대 빼고 다들어오는 지도점검이며 온갖 감사에도 버텼습니다..\\n말도 안되는 서류들...</td>\n",
       "    </tr>\n",
       "  </tbody>\n",
       "</table>\n",
       "</div>"
      ],
      "text/plain": [
       "        category category_pred  \\\n",
       "279887      성장동력         육아/교육   \n",
       "279918     육아/교육        인권/성평등   \n",
       "279982        기타         육아/교육   \n",
       "280324  외교/통일/국방          보건복지   \n",
       "280401  교통/건축/국토         육아/교육   \n",
       "280432  교통/건축/국토         안전/환경   \n",
       "280506  교통/건축/국토          보건복지   \n",
       "280724    인권/성평등         육아/교육   \n",
       "280777      정치개혁         안전/환경   \n",
       "281804     육아/교육   문화/예술/체육/언론   \n",
       "\n",
       "                                                    title  \\\n",
       "279887                    구글G- city사업을 청라 유치 원안대로 하게 해주세요   \n",
       "279918                             양육비 미지급 사건에 대한 대책마련 청원   \n",
       "279982                   스포츠토토(베트맨) 국민 피 빨아먹는 짓 중단하게 해주세요   \n",
       "280324                강명구 평화마라토너의 북한 입국을 위한 정부의 지원을 청원합니다   \n",
       "280401                              문재인 대통령님, 약속을 지켜주세요..   \n",
       "280432                                    현기차에바가루 개선안해줘요?   \n",
       "280506  국토부는 고양시 추가 공공택지 아파트 공급을 철회하고  자족도시, 기업도시로 되도록...   \n",
       "280724  일본군성노예제 피해자를 더 이상 힘들게 하지 말고 하루빨리 화해치유재단을 해산하여 ...   \n",
       "280777       고양시 공무원  차안에  90분  감금한  행안부 감사관  파면 구속 청원합니다   \n",
       "281804                                   어린이집 원장이 도둑년입니까?   \n",
       "\n",
       "                                                  content  \n",
       "279887  대통령님 안녕하십니까?\\n청라주민입니다.\\n최근 g city와 관련하여 말씀드립니다...  \n",
       "279918  법률사무소 지청 정훈태 변호사입니다.\\n미혼모나 부부가 이혼할 경우 양육비부담자가 ...  \n",
       "279982  현재 한국의 스포츠토토는 10년이 훌쩍 지난 것으로 알고 있습니다. 하지만 최근에 ...  \n",
       "280324  한반도 평화의 전령, 강명구 평화마라토너는 꼭 1년 전 네덜란드 헤이그 이준열사 기...  \n",
       "280401  문재인 대통령님 약속을 지켜 주세요..\\n대통령님께서는 2016년에 우리 입주민들과...  \n",
       "280432  얘기들차만타면 기침하고 눈도 아플뿐더러 눈에 통증과 가려움 폐를 쿡쿡찌르는듯한 아픔...  \n",
       "280506  서울집값 잡기용이라는 방향부터 잘못된 목적에 따라 추석 전에 발표가 예정된 수도권 ...  \n",
       "280724  정부에서 지난 1월 9일 2015한일합의 후속조치 마련계획을 발표하고 8개월 동안 ...  \n",
       "280777  언론 보도에    지난  8. 30일 고양시   공무원을   감사나온  행안부  감...  \n",
       "281804  군대 빼고 다들어오는 지도점검이며 온갖 감사에도 버텼습니다..\\n말도 안되는 서류들...  "
      ]
     },
     "execution_count": 59,
     "metadata": {},
     "output_type": "execute_result"
    }
   ],
   "source": [
    "\n",
    "predict_incorrect[['category', 'category_pred', 'title', 'content']].head(10)"
   ]
  },
  {
   "cell_type": "code",
   "execution_count": 60,
   "metadata": {
    "colab": {
     "base_uri": "https://localhost:8080/",
     "height": 1814
    },
    "id": "vE8eaLzkt01c",
    "outputId": "f98799be-0b48-40e9-fb30-ec2cca9bc021"
   },
   "outputs": [
    {
     "data": {
      "text/html": [
       "<div>\n",
       "<style scoped>\n",
       "    .dataframe tbody tr th:only-of-type {\n",
       "        vertical-align: middle;\n",
       "    }\n",
       "\n",
       "    .dataframe tbody tr th {\n",
       "        vertical-align: top;\n",
       "    }\n",
       "\n",
       "    .dataframe thead th {\n",
       "        text-align: right;\n",
       "    }\n",
       "</style>\n",
       "<table border=\"1\" class=\"dataframe\">\n",
       "  <thead>\n",
       "    <tr style=\"text-align: right;\">\n",
       "      <th></th>\n",
       "      <th>category</th>\n",
       "      <th>category_pred</th>\n",
       "      <th>title</th>\n",
       "      <th>content</th>\n",
       "    </tr>\n",
       "  </thead>\n",
       "  <tbody>\n",
       "    <tr>\n",
       "      <th>279982</th>\n",
       "      <td>기타</td>\n",
       "      <td>육아/교육</td>\n",
       "      <td>스포츠토토(베트맨) 국민 피 빨아먹는 짓 중단하게 해주세요</td>\n",
       "      <td>현재 한국의 스포츠토토는 10년이 훌쩍 지난 것으로 알고 있습니다. 하지만 최근에 ...</td>\n",
       "    </tr>\n",
       "    <tr>\n",
       "      <th>287766</th>\n",
       "      <td>기타</td>\n",
       "      <td>보건복지</td>\n",
       "      <td>대대적인 사기극에 휘말린것 같습니다.</td>\n",
       "      <td>대대적익 사기극에 휘말린거같아 민원드립니다.\\n피해 본사람만해도 수백명입니다.\\n리...</td>\n",
       "    </tr>\n",
       "    <tr>\n",
       "      <th>288502</th>\n",
       "      <td>기타</td>\n",
       "      <td>보건복지</td>\n",
       "      <td>의료사고로피눈물을흘리는사연들주세요</td>\n",
       "      <td>진   정   서\\n수 신 : 문재인 대통령님\\n참 조 : 비서실장님\\n발 신 : ...</td>\n",
       "    </tr>\n",
       "    <tr>\n",
       "      <th>289388</th>\n",
       "      <td>기타</td>\n",
       "      <td>반려동물</td>\n",
       "      <td>유투버 이환의 유튜브활동을 금지해주세요.</td>\n",
       "      <td>온갖 잘못을 저지르고도 반성하기는 커녕 당당히 영상을 올리는 추악한 이환의 유투버 ...</td>\n",
       "    </tr>\n",
       "    <tr>\n",
       "      <th>292008</th>\n",
       "      <td>기타</td>\n",
       "      <td>교통/건축/국토</td>\n",
       "      <td>방시혁에게 피드백을 요구합니다.</td>\n",
       "      <td>우익 여혐인 아키모토 야스시와 협엽한 빅히트 엔터테이먼트 방시혁에게 피드백을 요구합...</td>\n",
       "    </tr>\n",
       "    <tr>\n",
       "      <th>292734</th>\n",
       "      <td>기타</td>\n",
       "      <td>인권/성평등</td>\n",
       "      <td>서울대학병원  4개월영아 의료사고사망사건!</td>\n",
       "      <td>이글을 꼭 읽어주시기 부탁드립니다!\\n안녕하세여 여러분\\n바쁘시더라도  제 억울한 ...</td>\n",
       "    </tr>\n",
       "    <tr>\n",
       "      <th>295331</th>\n",
       "      <td>기타</td>\n",
       "      <td>정치개혁</td>\n",
       "      <td>자한당 심재철 의원실의 정부 예산정보 무단 열람을 철저히 조사하라!</td>\n",
       "      <td>기재부는 자한당 심재철 의원실이 정부와 청와대 등 국가기관이 사용하는 시스템에 들어...</td>\n",
       "    </tr>\n",
       "    <tr>\n",
       "      <th>295592</th>\n",
       "      <td>기타</td>\n",
       "      <td>보건복지</td>\n",
       "      <td>동물원 폐지해주세요.</td>\n",
       "      <td>안녕하세요. 저는 대전에 거주하고 있는 한 학생입니다. 오늘 대전 동물원에서 탈출한...</td>\n",
       "    </tr>\n",
       "    <tr>\n",
       "      <th>297847</th>\n",
       "      <td>기타</td>\n",
       "      <td>정치개혁</td>\n",
       "      <td>더이상 경기도의 중산층을 수탈하여 서울의 상류층을 살찌우는 정책을 펴지 말기 바랍니다.</td>\n",
       "      <td>이번 9.21 부동산 대책에 실망한 사람입니다.\\n지금 경기도는 막대한 미분양 물량...</td>\n",
       "    </tr>\n",
       "    <tr>\n",
       "      <th>297986</th>\n",
       "      <td>기타</td>\n",
       "      <td>보건복지</td>\n",
       "      <td>김종천 의전비서관 제명을 해주세요</td>\n",
       "      <td>이번 9월 평양 방문으로 고생하신 대통령님께 다시한번 감사의 말씀을 드립니다.\\n하...</td>\n",
       "    </tr>\n",
       "  </tbody>\n",
       "</table>\n",
       "</div>"
      ],
      "text/plain": [
       "       category category_pred  \\\n",
       "279982       기타         육아/교육   \n",
       "287766       기타          보건복지   \n",
       "288502       기타          보건복지   \n",
       "289388       기타          반려동물   \n",
       "292008       기타      교통/건축/국토   \n",
       "292734       기타        인권/성평등   \n",
       "295331       기타          정치개혁   \n",
       "295592       기타          보건복지   \n",
       "297847       기타          정치개혁   \n",
       "297986       기타          보건복지   \n",
       "\n",
       "                                                   title  \\\n",
       "279982                  스포츠토토(베트맨) 국민 피 빨아먹는 짓 중단하게 해주세요   \n",
       "287766                              대대적인 사기극에 휘말린것 같습니다.   \n",
       "288502                                의료사고로피눈물을흘리는사연들주세요   \n",
       "289388                            유투버 이환의 유튜브활동을 금지해주세요.   \n",
       "292008                                 방시혁에게 피드백을 요구합니다.   \n",
       "292734                           서울대학병원  4개월영아 의료사고사망사건!   \n",
       "295331             자한당 심재철 의원실의 정부 예산정보 무단 열람을 철저히 조사하라!   \n",
       "295592                                       동물원 폐지해주세요.   \n",
       "297847  더이상 경기도의 중산층을 수탈하여 서울의 상류층을 살찌우는 정책을 펴지 말기 바랍니다.   \n",
       "297986                                김종천 의전비서관 제명을 해주세요   \n",
       "\n",
       "                                                  content  \n",
       "279982  현재 한국의 스포츠토토는 10년이 훌쩍 지난 것으로 알고 있습니다. 하지만 최근에 ...  \n",
       "287766  대대적익 사기극에 휘말린거같아 민원드립니다.\\n피해 본사람만해도 수백명입니다.\\n리...  \n",
       "288502  진   정   서\\n수 신 : 문재인 대통령님\\n참 조 : 비서실장님\\n발 신 : ...  \n",
       "289388  온갖 잘못을 저지르고도 반성하기는 커녕 당당히 영상을 올리는 추악한 이환의 유투버 ...  \n",
       "292008  우익 여혐인 아키모토 야스시와 협엽한 빅히트 엔터테이먼트 방시혁에게 피드백을 요구합...  \n",
       "292734  이글을 꼭 읽어주시기 부탁드립니다!\\n안녕하세여 여러분\\n바쁘시더라도  제 억울한 ...  \n",
       "295331  기재부는 자한당 심재철 의원실이 정부와 청와대 등 국가기관이 사용하는 시스템에 들어...  \n",
       "295592  안녕하세요. 저는 대전에 거주하고 있는 한 학생입니다. 오늘 대전 동물원에서 탈출한...  \n",
       "297847  이번 9.21 부동산 대책에 실망한 사람입니다.\\n지금 경기도는 막대한 미분양 물량...  \n",
       "297986  이번 9월 평양 방문으로 고생하신 대통령님께 다시한번 감사의 말씀을 드립니다.\\n하...  "
      ]
     },
     "execution_count": 60,
     "metadata": {},
     "output_type": "execute_result"
    }
   ],
   "source": [
    "# 원래 데이터 중 기타로 분류되었으나 분류기가 다르게 예측한 청원을 확인합니다. \n",
    "predict_incorrect_etc = predict_incorrect.loc[predict_incorrect['category'] == '기타'].copy()\n",
    "predict_incorrect_etc[['category', 'category_pred', 'title', 'content']].head(10)\n",
    "\n",
    "# 밑을 보면 기타로 분류되었지만 사실상 예측된 카테고리 분류는 다른 쪽으로 된 것을 확인할 수 있습니다. "
   ]
  },
  {
   "cell_type": "code",
   "execution_count": null,
   "metadata": {},
   "outputs": [],
   "source": []
  }
 ],
 "metadata": {
  "colab": {
   "collapsed_sections": [
    "z3HWXdrYt0zc",
    "TW7ezgBFt0zs",
    "iXQ4-fp8t00F",
    "lXbYgIwzt00M",
    "eRmOcniRt00m",
    "M9u6sKOet00v",
    "nqJ8PZ8Nt006",
    "2MX3Uafzt01Y",
    "qtBaHB1Bt01c"
   ],
   "name": "05 국민청원 카테고리 분류",
   "provenance": []
  },
  "kernelspec": {
   "display_name": "Python 3",
   "language": "python",
   "name": "python3"
  },
  "language_info": {
   "codemirror_mode": {
    "name": "ipython",
    "version": 3
   },
   "file_extension": ".py",
   "mimetype": "text/x-python",
   "name": "python",
   "nbconvert_exporter": "python",
   "pygments_lexer": "ipython3",
   "version": "3.7.7"
  }
 },
 "nbformat": 4,
 "nbformat_minor": 1
}
