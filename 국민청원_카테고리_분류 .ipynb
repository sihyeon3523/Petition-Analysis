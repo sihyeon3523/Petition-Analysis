{
 "cells": [
  {
   "cell_type": "markdown",
   "metadata": {
    "id": "DN8TDD_gt0yy"
   },
   "source": [
    "# 국민청원 데이터로 청원 카테고리 분류하기"
   ]
  },
  {
   "cell_type": "markdown",
   "metadata": {
    "id": "e7MNAfcMt0y0"
   },
   "source": [
    "* 청원의 카테고리를 분류해 봅니다."
   ]
  },
  {
   "cell_type": "code",
   "execution_count": 2,
   "metadata": {
    "colab": {
     "base_uri": "https://localhost:8080/",
     "height": 52
    },
    "id": "PHdzuhsQt0y1",
    "outputId": "91fccc00-9cdc-4c99-9cf4-4a18a09fde26"
   },
   "outputs": [
    {
     "name": "stdout",
     "output_type": "stream",
     "text": [
      "0.23.4\n",
      "1.16.4\n"
     ]
    }
   ],
   "source": [
    "# 필요한 모듈들을 불러옵니다.\n",
    "import pandas as pd\n",
    "import numpy as np\n",
    "import re\n",
    "print(pd.__version__)\n",
    "print(np.__version__)"
   ]
  },
  {
   "cell_type": "code",
   "execution_count": 5,
   "metadata": {
    "colab": {
     "base_uri": "https://localhost:8080/",
     "height": 69
    },
    "id": "wCf6Yn3M_S9S",
    "outputId": "757ebc32-47af-4557-dd88-3fdecef2bd50"
   },
   "outputs": [],
   "source": [
    "# 그래프에 retina display 적용\n",
    "%config InlineBackend.figure_format = 'retina'\n",
    "\n"
   ]
  },
  {
   "cell_type": "code",
   "execution_count": 7,
   "metadata": {},
   "outputs": [
    {
     "data": {
      "text/plain": [
       "(395547, 8)"
      ]
     },
     "execution_count": 7,
     "metadata": {},
     "output_type": "execute_result"
    }
   ],
   "source": [
    "# 크롤링해 온 국민청원 데이터를 판다스를 통해 읽어옵니다.\n",
    "petitions = pd.read_csv('petition.csv', parse_dates=['start', 'end'])\n",
    "# 데이터의 크기가 어느정도인지 봅니다.\n",
    "petitions.shape"
   ]
  },
  {
   "cell_type": "code",
   "execution_count": 8,
   "metadata": {},
   "outputs": [
    {
     "data": {
      "text/plain": [
       "(5388, 8)"
      ]
     },
     "execution_count": 8,
     "metadata": {},
     "output_type": "execute_result"
    }
   ],
   "source": [
    "# 전체 데이터 중 투표가 500건 이상인 데이터를 기준으로 가져옵니다.\n",
    "df = petitions.loc[(petitions['votes'] > 500)].copy()\n",
    "df.shape"
   ]
  },
  {
   "cell_type": "code",
   "execution_count": 9,
   "metadata": {},
   "outputs": [
    {
     "data": {
      "text/plain": [
       "인권/성평등         699\n",
       "육아/교육          606\n",
       "안전/환경          526\n",
       "교통/건축/국토       503\n",
       "보건복지           492\n",
       "정치개혁           466\n",
       "기타             444\n",
       "문화/예술/체육/언론    308\n",
       "행정             264\n",
       "외교/통일/국방       261\n",
       "일자리            250\n",
       "경제민주화          191\n",
       "반려동물           160\n",
       "미래              86\n",
       "성장동력            52\n",
       "저출산/고령화대책       44\n",
       "농산어촌            36\n",
       "Name: category, dtype: int64"
      ]
     },
     "execution_count": 9,
     "metadata": {},
     "output_type": "execute_result"
    }
   ],
   "source": [
    "category_count = df['category'].value_counts()\n",
    "category_count"
   ]
  },
  {
   "cell_type": "code",
   "execution_count": 14,
   "metadata": {},
   "outputs": [
    {
     "data": {
      "text/plain": [
       "(377756, 8)"
      ]
     },
     "execution_count": 14,
     "metadata": {},
     "output_type": "execute_result"
    }
   ],
   "source": [
    "# 크롤링해 온 국민청원 데이터를 판다스를 통해 읽어옵니다.\n",
    "petitions = pd.read_csv('petition.csv', parse_dates=['start', 'end'])\n",
    "# 데이터의 크기가 어느정도인지 봅니다.\n",
    "petitions.shape"
   ]
  },
  {
   "cell_type": "code",
   "execution_count": 15,
   "metadata": {
    "colab": {
     "base_uri": "https://localhost:8080/",
     "height": 294
    },
    "id": "ixDZW6f0t0y9",
    "outputId": "47933760-e462-431d-fed7-88c6a9967b41"
   },
   "outputs": [
    {
     "data": {
      "text/html": [
       "<div>\n",
       "<style scoped>\n",
       "    .dataframe tbody tr th:only-of-type {\n",
       "        vertical-align: middle;\n",
       "    }\n",
       "\n",
       "    .dataframe tbody tr th {\n",
       "        vertical-align: top;\n",
       "    }\n",
       "\n",
       "    .dataframe thead th {\n",
       "        text-align: right;\n",
       "    }\n",
       "</style>\n",
       "<table border=\"1\" class=\"dataframe\">\n",
       "  <thead>\n",
       "    <tr style=\"text-align: right;\">\n",
       "      <th></th>\n",
       "      <th>article_id</th>\n",
       "      <th>answered</th>\n",
       "      <th>votes</th>\n",
       "    </tr>\n",
       "  </thead>\n",
       "  <tbody>\n",
       "    <tr>\n",
       "      <th>count</th>\n",
       "      <td>377756.000000</td>\n",
       "      <td>377756.000000</td>\n",
       "      <td>3.777560e+05</td>\n",
       "    </tr>\n",
       "    <tr>\n",
       "      <th>mean</th>\n",
       "      <td>239703.455924</td>\n",
       "      <td>0.000077</td>\n",
       "      <td>1.514069e+02</td>\n",
       "    </tr>\n",
       "    <tr>\n",
       "      <th>std</th>\n",
       "      <td>146382.863480</td>\n",
       "      <td>0.008761</td>\n",
       "      <td>4.842551e+03</td>\n",
       "    </tr>\n",
       "    <tr>\n",
       "      <th>min</th>\n",
       "      <td>21.000000</td>\n",
       "      <td>0.000000</td>\n",
       "      <td>0.000000e+00</td>\n",
       "    </tr>\n",
       "    <tr>\n",
       "      <th>25%</th>\n",
       "      <td>108933.750000</td>\n",
       "      <td>0.000000</td>\n",
       "      <td>1.000000e+00</td>\n",
       "    </tr>\n",
       "    <tr>\n",
       "      <th>50%</th>\n",
       "      <td>237637.000000</td>\n",
       "      <td>0.000000</td>\n",
       "      <td>5.000000e+00</td>\n",
       "    </tr>\n",
       "    <tr>\n",
       "      <th>75%</th>\n",
       "      <td>367937.250000</td>\n",
       "      <td>0.000000</td>\n",
       "      <td>1.500000e+01</td>\n",
       "    </tr>\n",
       "    <tr>\n",
       "      <th>max</th>\n",
       "      <td>492043.000000</td>\n",
       "      <td>1.000000</td>\n",
       "      <td>1.192049e+06</td>\n",
       "    </tr>\n",
       "  </tbody>\n",
       "</table>\n",
       "</div>"
      ],
      "text/plain": [
       "          article_id       answered         votes\n",
       "count  377756.000000  377756.000000  3.777560e+05\n",
       "mean   239703.455924       0.000077  1.514069e+02\n",
       "std    146382.863480       0.008761  4.842551e+03\n",
       "min        21.000000       0.000000  0.000000e+00\n",
       "25%    108933.750000       0.000000  1.000000e+00\n",
       "50%    237637.000000       0.000000  5.000000e+00\n",
       "75%    367937.250000       0.000000  1.500000e+01\n",
       "max    492043.000000       1.000000  1.192049e+06"
      ]
     },
     "execution_count": 15,
     "metadata": {},
     "output_type": "execute_result"
    }
   ],
   "source": [
    "petitions.describe()"
   ]
  },
  {
   "cell_type": "code",
   "execution_count": 16,
   "metadata": {
    "colab": {
     "base_uri": "https://localhost:8080/",
     "height": 35
    },
    "id": "Wd8-AqNut0zA",
    "outputId": "0560eed0-6184-4b11-caf1-b1aedb6f4be4"
   },
   "outputs": [
    {
     "data": {
      "text/plain": [
       "(3235, 8)"
      ]
     },
     "execution_count": 16,
     "metadata": {},
     "output_type": "execute_result"
    }
   ],
   "source": [
    "# 전체 데이터 중 투표가 1000건 이상인 데이터를 기준으로 가져옵니다. 아웃라이어 데이터 제거를 위해 10만건 이상 데이터도 제거합니다.\n",
    "df = petitions.loc[(petitions['votes'] > 1000) & (petitions['votes'] < 100000)].copy()\n",
    "\n",
    "# 수가 줄어들었음을 확인할 수 있습니다.\n",
    "df.shape"
   ]
  },
  {
   "cell_type": "code",
   "execution_count": 17,
   "metadata": {
    "colab": {
     "base_uri": "https://localhost:8080/",
     "height": 329
    },
    "id": "JJYlPg80t0zG",
    "outputId": "b2dc541e-21fc-4440-defb-b8e9fc11b4d4"
   },
   "outputs": [
    {
     "data": {
      "text/plain": [
       "인권/성평등         422\n",
       "육아/교육          389\n",
       "안전/환경          318\n",
       "보건복지           314\n",
       "교통/건축/국토       288\n",
       "정치개혁           264\n",
       "기타             254\n",
       "문화/예술/체육/언론    189\n",
       "외교/통일/국방       156\n",
       "일자리            151\n",
       "행정             148\n",
       "반려동물           111\n",
       "경제민주화          107\n",
       "미래              52\n",
       "성장동력            28\n",
       "저출산/고령화대책       26\n",
       "농산어촌            18\n",
       "Name: category, dtype: int64"
      ]
     },
     "execution_count": 17,
     "metadata": {},
     "output_type": "execute_result"
    }
   ],
   "source": [
    "# 카테고리별 국민청원 수를 확인 해 봅니다. \n",
    "category_count = df['category'].value_counts()\n",
    "category_count"
   ]
  },
  {
   "cell_type": "code",
   "execution_count": 13,
   "metadata": {
    "colab": {
     "base_uri": "https://localhost:8080/",
     "height": 358
    },
    "id": "3MMJK1mkt0zJ",
    "outputId": "f8870d35-358c-4832-a22f-cda7b30989b7"
   },
   "outputs": [
    {
     "data": {
      "text/plain": [
       "<matplotlib.axes._subplots.AxesSubplot at 0x216117191c8>"
      ]
     },
     "execution_count": 13,
     "metadata": {},
     "output_type": "execute_result"
    },
    {
     "data": {
      "image/png": "[encoded data removed]",
      "text/plain": [
       "<Figure size 432x288 with 1 Axes>"
      ]
     },
     "metadata": {
      "image/png": {
       "height": 323,
       "width": 373
      },
      "needs_background": "light"
     },
     "output_type": "display_data"
    }
   ],
   "source": [
    "# 카테고리를 'bar' plot으로 시각화합니다.\n",
    "%matplotlib inline \n",
    "plt.rcParams['font.family'] = \"NanumBarunGothic\"\n",
    "category_count.plot(kind='bar')"
   ]
  },
  {
   "cell_type": "code",
   "execution_count": 14,
   "metadata": {
    "id": "YkQ2_4c2t0zM"
   },
   "outputs": [],
   "source": [
    "# 예측값과 실제값 비교를 위해 컬럼을 하나 더 생성합니다. 카테고리에 해당되는 칼럼을 똑같이 복사해서 새로운 칼럼을 제작합니다.\n",
    "df['category_pred'] = df['category'].copy()"
   ]
  },
  {
   "cell_type": "code",
   "execution_count": 15,
   "metadata": {
    "colab": {
     "base_uri": "https://localhost:8080/",
     "height": 1002
    },
    "id": "m8I3Xs5Bt0zP",
    "outputId": "951e532e-c390-432d-90e9-532866c03c80"
   },
   "outputs": [
    {
     "data": {
      "text/html": [
       "<div>\n",
       "<style scoped>\n",
       "    .dataframe tbody tr th:only-of-type {\n",
       "        vertical-align: middle;\n",
       "    }\n",
       "\n",
       "    .dataframe tbody tr th {\n",
       "        vertical-align: top;\n",
       "    }\n",
       "\n",
       "    .dataframe thead th {\n",
       "        text-align: right;\n",
       "    }\n",
       "</style>\n",
       "<table border=\"1\" class=\"dataframe\">\n",
       "  <thead>\n",
       "    <tr style=\"text-align: right;\">\n",
       "      <th></th>\n",
       "      <th>article_id</th>\n",
       "      <th>start</th>\n",
       "      <th>end</th>\n",
       "      <th>answered</th>\n",
       "      <th>votes</th>\n",
       "      <th>category</th>\n",
       "      <th>title</th>\n",
       "      <th>content</th>\n",
       "      <th>category_pred</th>\n",
       "    </tr>\n",
       "  </thead>\n",
       "  <tbody>\n",
       "    <tr>\n",
       "      <th>7</th>\n",
       "      <td>28</td>\n",
       "      <td>2017-08-19</td>\n",
       "      <td>2017-08-26</td>\n",
       "      <td>0</td>\n",
       "      <td>2137</td>\n",
       "      <td>경제민주화</td>\n",
       "      <td>소액주주를 보호해주십시오</td>\n",
       "      <td>**  존경하옵는 문재인대통령님께\\n저는 중국원양자원이라는 KOSPI상장사의 소액 ...</td>\n",
       "      <td>경제민주화</td>\n",
       "    </tr>\n",
       "    <tr>\n",
       "      <th>13</th>\n",
       "      <td>34</td>\n",
       "      <td>2017-08-19</td>\n",
       "      <td>2017-09-18</td>\n",
       "      <td>0</td>\n",
       "      <td>679</td>\n",
       "      <td>기타</td>\n",
       "      <td>『국가유공자 등 예우 및 지원에 관한법률』상「6.25전몰군경 자녀수당」의 불합리한 ...</td>\n",
       "      <td>(현황)\\n우리들 아버지께서는 67여년전 북의 남침으로 조국이 위기에 처했을 때 젊...</td>\n",
       "      <td>기타</td>\n",
       "    </tr>\n",
       "    <tr>\n",
       "      <th>21</th>\n",
       "      <td>43</td>\n",
       "      <td>2017-08-19</td>\n",
       "      <td>2017-09-18</td>\n",
       "      <td>0</td>\n",
       "      <td>11293</td>\n",
       "      <td>육아/교육</td>\n",
       "      <td>기간제 교사의 정규직화를 반대합니다.</td>\n",
       "      <td>대통령님, 안녕하세요. 저는 임용을 준비하고 수험생입니다. 처음 기간제 정규직화 된...</td>\n",
       "      <td>육아/교육</td>\n",
       "    </tr>\n",
       "    <tr>\n",
       "      <th>24</th>\n",
       "      <td>46</td>\n",
       "      <td>2017-08-19</td>\n",
       "      <td>2017-09-18</td>\n",
       "      <td>0</td>\n",
       "      <td>1933</td>\n",
       "      <td>육아/교육</td>\n",
       "      <td>기간제교사의 정규직화를 반대합니다.</td>\n",
       "      <td>대통령님, 안녕하세요. 저는 임용을 준비하고 수험생입니다. 처음 기간제 정규직화 된...</td>\n",
       "      <td>육아/교육</td>\n",
       "    </tr>\n",
       "    <tr>\n",
       "      <th>28</th>\n",
       "      <td>50</td>\n",
       "      <td>2017-08-19</td>\n",
       "      <td>2017-10-18</td>\n",
       "      <td>0</td>\n",
       "      <td>1251</td>\n",
       "      <td>일자리</td>\n",
       "      <td>치과위생사 국가고시 날짜 변경 억울합니다</td>\n",
       "      <td>안녕하십니까? 대통령님 간단하게 제소개 부터 하겠습니다. 저는 치위생과 3학년 학생...</td>\n",
       "      <td>일자리</td>\n",
       "    </tr>\n",
       "  </tbody>\n",
       "</table>\n",
       "</div>"
      ],
      "text/plain": [
       "    article_id      start        end  answered  votes category  \\\n",
       "7           28 2017-08-19 2017-08-26         0   2137    경제민주화   \n",
       "13          34 2017-08-19 2017-09-18         0    679       기타   \n",
       "21          43 2017-08-19 2017-09-18         0  11293    육아/교육   \n",
       "24          46 2017-08-19 2017-09-18         0   1933    육아/교육   \n",
       "28          50 2017-08-19 2017-10-18         0   1251      일자리   \n",
       "\n",
       "                                                title  \\\n",
       "7                                       소액주주를 보호해주십시오   \n",
       "13  『국가유공자 등 예우 및 지원에 관한법률』상「6.25전몰군경 자녀수당」의 불합리한 ...   \n",
       "21                               기간제 교사의 정규직화를 반대합니다.   \n",
       "24                                기간제교사의 정규직화를 반대합니다.   \n",
       "28                             치과위생사 국가고시 날짜 변경 억울합니다   \n",
       "\n",
       "                                              content category_pred  \n",
       "7   **  존경하옵는 문재인대통령님께\\n저는 중국원양자원이라는 KOSPI상장사의 소액 ...         경제민주화  \n",
       "13  (현황)\\n우리들 아버지께서는 67여년전 북의 남침으로 조국이 위기에 처했을 때 젊...            기타  \n",
       "21  대통령님, 안녕하세요. 저는 임용을 준비하고 수험생입니다. 처음 기간제 정규직화 된...         육아/교육  \n",
       "24  대통령님, 안녕하세요. 저는 임용을 준비하고 수험생입니다. 처음 기간제 정규직화 된...         육아/교육  \n",
       "28  안녕하십니까? 대통령님 간단하게 제소개 부터 하겠습니다. 저는 치위생과 3학년 학생...           일자리  "
      ]
     },
     "execution_count": 15,
     "metadata": {},
     "output_type": "execute_result"
    }
   ],
   "source": [
    "df.head()"
   ]
  },
  {
   "cell_type": "code",
   "execution_count": 16,
   "metadata": {},
   "outputs": [
    {
     "data": {
      "text/plain": [
       "28"
      ]
     },
     "execution_count": 16,
     "metadata": {},
     "output_type": "execute_result"
    }
   ],
   "source": [
    "# 첫 번째 인덱스를 샘플 데이터로 활용합니다. \n",
    "sample_index = df.iloc[0][0]\n",
    "sample_index"
   ]
  },
  {
   "cell_type": "code",
   "execution_count": 17,
   "metadata": {},
   "outputs": [
    {
     "data": {
      "text/plain": [
       "'치과위생사 국가고시 날짜 변경 억울합니다'"
      ]
     },
     "execution_count": 17,
     "metadata": {},
     "output_type": "execute_result"
    }
   ],
   "source": [
    "sample_title = df['title'][sample_index]\n",
    "sample_title"
   ]
  },
  {
   "cell_type": "code",
   "execution_count": 18,
   "metadata": {},
   "outputs": [
    {
     "data": {
      "text/plain": [
       "'안녕하십니까? 대통령님 간단하게 제소개 부터 하겠습니다. 저는 치위생과 3학년 학생입니다. 다름이 아니라 너무 억울한\\\\n일이 생겨  이렇게 글을 적어봅니다. 저희 3학년들은 올해 아주 중요한 시험이  있었습니다.3년동안 힘들게 고생하여 이제곧\\\\n끝난다.조금만 힘을내자 라는 생각으로 견뎌내고 있었는데 갑자기 어제 과 단톡방의  이내용이 사실이냐면서 한장의 사진을\\\\n보내주었습니다. 그사진은 국시원에서 올린 공지글을 캡쳐한 사진이였습니다.국시원에서 국가고시 날짜가 변경 되었다.\\\\n그러니 이글을  널리퍼트려줘라라는 의미를 가진 내용이였습니다. 그내용을 읽고 너무 황당하고 어이가 없어서 국시원쪽으로 전화를 해보니 자신들은 어쩔수없었다 나라에서 그날 공무원 시험을 봐야한다 하루의 2번 국시를 볼수없다\\\\n그래서 자신들과 보건복지부에서  다시 날짜를 정했는데 그날이 내년 18년 1월 5일이다 라는것입니다.\\\\n그 말을  듣고 더욱 이해할수가 없었습니다. 먼저 그날 시험을 보기로한 국시생은 저희였는데 갑자기 아무런 말도 문자도\\\\n없고 그공지글도 그냥 통보였습니다. 국가에서보는 시험이 일반 초중고 수행평가도 아니고 갑자기 이런식으로  바뀐다는게\\\\n말이 됩니까? 고등학생들이 보는 모의고사,수능도 이런식으로  변경 하지않습니다.  통보로 날짜를 변경하는건  저희\\\\n에비 의료기사들을 무시하는걸로 보입니다. 저희학교 교수님들은 학생들에게 자부심을 가져라 치과위생사라는 직업을 아끼고 사랑하고 자부심을 가져도 되는 직업이니깐  당당 해져도 괜찮다고  말씀하셨습니다. 하지만 저는  그러지 못할꺼같습니다.  아마 저뿐만이아니라 마음 학생들도 자존심도 낮아지고 무시받는다고 생각했을것입니다.\\\\n17년 12월16일날의 시험을 봐야하는  국시생들은 저희 예비 치과위생사들 입니다. 공무원 시험이 갑자기 잡혀서  봐야한다면 다른날로 정하는게 맞지않을까요? 먼저 그날의 시험을 보기로 한 학생들은 저희입니다\\\\n왜 갑자기 저희가 양보해야하고  피해를봐야합니까?  저희국시 앞으로 4달남은상태였고 지금 많은 학생들이 지쳐지만\\\\n12월만 참으면 된다 라는 생각으로  견딘 학생들에게는 1월에 본다는 통보는 너무 가혹합니다.\\\\n제발  원래대로12월 16일날 국시를 볼수 있도록  도와주세요  제발 다시 정정 해주세요.\\\\n부탁드립니다.\\\\n꼭  끝까지  읽어보셨으면 좋겠습니다.'"
      ]
     },
     "execution_count": 18,
     "metadata": {},
     "output_type": "execute_result"
    }
   ],
   "source": [
    "# 전처리 전 샘플 데이터 \n",
    "sample_content = petitions['content'][sample_index]\n",
    "sample_content"
   ]
  },
  {
   "cell_type": "markdown",
   "metadata": {
    "id": "z3HWXdrYt0zc"
   },
   "source": [
    "# 전처리 하기 "
   ]
  },
  {
   "cell_type": "code",
   "execution_count": 19,
   "metadata": {
    "id": "COgoYusHt0zd"
   },
   "outputs": [],
   "source": [
    "# 전처리를 진행하는 함수를 제작합니다. 전처리를 하는 이유는 결측치나 노이즈를 제거해줌으로써 온전한 예측을 진행하기 위해서입니다.\n",
    "def preprocessing(text):\n",
    "    # 우선 개행문자를 제거한다.\n",
    "    text= str(text)\n",
    "    text = re.sub('\\\\\\\\n', ' ', text)\n",
    "    \n",
    "    # 그 다음 한글, 영문만 남기고 모두 제거하도록 합니다. '가'부터 '힣'까지, 'ㅏ' 부터 'ㅣ' 까지, 대소문자 a부터 z까지만 남기고 제거합니다.\n",
    "    text = re.sub('[^가-힣ㄱ-ㅎㅏ-ㅣa-zA-Z]', ' ', text)\n",
    "    return text"
   ]
  },
  {
   "cell_type": "code",
   "execution_count": 20,
   "metadata": {
    "id": "Wdomu75mt0zg"
   },
   "outputs": [],
   "source": [
    "# 예측에 도움이 되지 않는 불용어를 제거하는 함수를 제작합니다.\n",
    "def remove_stopwords(text):\n",
    "    tokens = text.split(' ')\n",
    "    stops = ['수', '현', '있는', '있습니다', '그', '년도', '합니다', '하는', '및', '제', '할', '하고', '더', '대한', '한', '그리고', '월', '저는', '없는', '입니다', '등', '일', '많은', '이런', '것은', '왜','같은', '같습니다', '없습니다', '위해', '한다']\n",
    "    meaningful_words = [w for w in tokens if not w in stops]\n",
    "    return ' '.join(meaningful_words) # stops 가 담기지 않은 문장 내 토큰들은 제거합니다."
   ]
  },
  {
   "cell_type": "code",
   "execution_count": 21,
   "metadata": {
    "id": "dzBqqRz7t0zh"
   },
   "outputs": [],
   "source": [
    "# 위 샘플데이터에 그대로 전처리 적용\n",
    "pre_sample_content = preprocessing(sample_content)"
   ]
  },
  {
   "cell_type": "code",
   "execution_count": 22,
   "metadata": {
    "id": "95yMeIm1t0zj"
   },
   "outputs": [],
   "source": [
    "pre_sample_content = remove_stopwords(pre_sample_content)"
   ]
  },
  {
   "cell_type": "code",
   "execution_count": 23,
   "metadata": {
    "colab": {
     "base_uri": "https://localhost:8080/",
     "height": 55
    },
    "id": "BJfd8GDSt0zl",
    "outputId": "16310d99-4e55-4d24-ec11-217740244b49"
   },
   "outputs": [
    {
     "data": {
      "text/plain": [
       "'안녕하십니까  대통령님 간단하게 제소개 부터 하겠습니다  치위생과  학년 학생입니다  다름이 아니라 너무 억울한 일이 생겨  이렇게 글을 적어봅니다  저희  학년들은 올해 아주 중요한 시험이  있었습니다  년동안 힘들게 고생하여 이제곧 끝난다 조금만 힘을내자 라는 생각으로 견뎌내고 있었는데 갑자기 어제 과 단톡방의  이내용이 사실이냐면서 한장의 사진을 보내주었습니다  그사진은 국시원에서 올린 공지글을 캡쳐한 사진이였습니다 국시원에서 국가고시 날짜가 변경 되었다  그러니 이글을  널리퍼트려줘라라는 의미를 가진 내용이였습니다  그내용을 읽고 너무 황당하고 어이가 없어서 국시원쪽으로 전화를 해보니 자신들은 어쩔수없었다 나라에서 그날 공무원 시험을 봐야한다 하루의  번 국시를 볼수없다 그래서 자신들과 보건복지부에서  다시 날짜를 정했는데 그날이 내년   년   일이다 라는것입니다  말을  듣고 더욱 이해할수가 없었습니다  먼저 그날 시험을 보기로한 국시생은 저희였는데 갑자기 아무런 말도 문자도 없고 그공지글도 그냥 통보였습니다  국가에서보는 시험이 일반 초중고 수행평가도 아니고 갑자기 이런식으로  바뀐다는게 말이 됩니까  고등학생들이 보는 모의고사 수능도 이런식으로  변경 하지않습니다   통보로 날짜를 변경하는건  저희 에비 의료기사들을 무시하는걸로 보입니다  저희학교 교수님들은 학생들에게 자부심을 가져라 치과위생사라는 직업을 아끼고 사랑하고 자부심을 가져도 되는 직업이니깐  당당 해져도 괜찮다고  말씀하셨습니다  하지만  그러지 못할꺼같습니다   아마 저뿐만이아니라 마음 학생들도 자존심도 낮아지고 무시받는다고 생각했을것입니다    년    일날의 시험을 봐야하는  국시생들은 저희 예비 치과위생사들  공무원 시험이 갑자기 잡혀서  봐야한다면 다른날로 정하는게 맞지않을까요  먼저 그날의 시험을 보기로 학생들은 저희입니다 갑자기 저희가 양보해야하고  피해를봐야합니까   저희국시 앞으로  달남은상태였고 지금 학생들이 지쳐지만   월만 참으면 된다 라는 생각으로  견딘 학생들에게는  월에 본다는 통보는 너무 가혹합니다  제발  원래대로    일날 국시를 볼수 있도록  도와주세요  제발 다시 정정 해주세요  부탁드립니다  꼭  끝까지  읽어보셨으면 좋겠습니다 '"
      ]
     },
     "execution_count": 23,
     "metadata": {},
     "output_type": "execute_result"
    }
   ],
   "source": [
    "pre_sample_content"
   ]
  },
  {
   "cell_type": "code",
   "execution_count": 24,
   "metadata": {
    "colab": {
     "base_uri": "https://localhost:8080/",
     "height": 72
    },
    "id": "7GZqVmQQt0zn",
    "outputId": "b35f0127-f5ff-4e04-cf34-3443ef7a09f0"
   },
   "outputs": [
    {
     "name": "stdout",
     "output_type": "stream",
     "text": [
      "Wall time: 582 ms\n"
     ]
    }
   ],
   "source": [
    "# 해당 데이터를 전처리한 뒤 칼럼으로 추가합니다.\n",
    "%time df['content_preprocessing'] = df['content'].apply(preprocessing)"
   ]
  },
  {
   "cell_type": "code",
   "execution_count": 25,
   "metadata": {
    "colab": {
     "base_uri": "https://localhost:8080/",
     "height": 72
    },
    "id": "10tjDPZjt0zq",
    "outputId": "0f300f20-752c-422d-c44f-a30e88368ab7"
   },
   "outputs": [
    {
     "name": "stdout",
     "output_type": "stream",
     "text": [
      "Wall time: 893 ms\n"
     ]
    }
   ],
   "source": [
    "# 해당 데이터의 불용어를 제거한 뒤 칼럼으로 추가합니다.\n",
    "%time df['content_preprocessing2'] = df['content_preprocessing'].apply(remove_stopwords)"
   ]
  },
  {
   "cell_type": "markdown",
   "metadata": {
    "id": "TW7ezgBFt0zs"
   },
   "source": [
    "# 학습세트와 테스트세트 만들기\n",
    "* 학습세트와 테스트세트를 7:3의 비율로 나눠 줍니다."
   ]
  },
  {
   "cell_type": "code",
   "execution_count": 26,
   "metadata": {
    "id": "bwmGTRmrt0zt"
   },
   "outputs": [],
   "source": [
    "# 학습세트와 테스트세트를 7대 3으로 나누어줍니다.\n",
    "df = df.reindex()"
   ]
  },
  {
   "cell_type": "code",
   "execution_count": 27,
   "metadata": {
    "colab": {
     "base_uri": "https://localhost:8080/",
     "height": 35
    },
    "id": "to53_TKAt0zw",
    "outputId": "4254f5e9-6623-47cb-a400-fc5a6f0d1a09"
   },
   "outputs": [
    {
     "data": {
      "text/plain": [
       "(5388, 11)"
      ]
     },
     "execution_count": 27,
     "metadata": {},
     "output_type": "execute_result"
    }
   ],
   "source": [
    "df.shape"
   ]
  },
  {
   "cell_type": "code",
   "execution_count": 28,
   "metadata": {
    "colab": {
     "base_uri": "https://localhost:8080/",
     "height": 35
    },
    "id": "yIIr4nu_t0zy",
    "outputId": "46d04b9f-22e6-4153-ac45-a7115708e591"
   },
   "outputs": [
    {
     "data": {
      "text/plain": [
       "3771"
      ]
     },
     "execution_count": 28,
     "metadata": {},
     "output_type": "execute_result"
    }
   ],
   "source": [
    "split_count = int(df.shape[0] * 0.7) # 2264\n",
    "split_count"
   ]
  },
  {
   "cell_type": "code",
   "execution_count": 29,
   "metadata": {
    "colab": {
     "base_uri": "https://localhost:8080/",
     "height": 35
    },
    "id": "C53UGWANt0z0",
    "outputId": "c83f75a0-890c-43fb-cc7e-c53f8279ca45"
   },
   "outputs": [
    {
     "data": {
      "text/plain": [
       "(3771, 11)"
      ]
     },
     "execution_count": 29,
     "metadata": {},
     "output_type": "execute_result"
    }
   ],
   "source": [
    "df_train = df[:split_count].copy() # 학습세트에 70%를 채워줍니다. \n",
    "df_train.shape"
   ]
  },
  {
   "cell_type": "code",
   "execution_count": 30,
   "metadata": {},
   "outputs": [
    {
     "data": {
      "text/html": [
       "<div>\n",
       "<style scoped>\n",
       "    .dataframe tbody tr th:only-of-type {\n",
       "        vertical-align: middle;\n",
       "    }\n",
       "\n",
       "    .dataframe tbody tr th {\n",
       "        vertical-align: top;\n",
       "    }\n",
       "\n",
       "    .dataframe thead th {\n",
       "        text-align: right;\n",
       "    }\n",
       "</style>\n",
       "<table border=\"1\" class=\"dataframe\">\n",
       "  <thead>\n",
       "    <tr style=\"text-align: right;\">\n",
       "      <th></th>\n",
       "      <th>article_id</th>\n",
       "      <th>start</th>\n",
       "      <th>end</th>\n",
       "      <th>answered</th>\n",
       "      <th>votes</th>\n",
       "      <th>category</th>\n",
       "      <th>title</th>\n",
       "      <th>content</th>\n",
       "      <th>category_pred</th>\n",
       "      <th>content_preprocessing</th>\n",
       "      <th>content_preprocessing2</th>\n",
       "    </tr>\n",
       "  </thead>\n",
       "  <tbody>\n",
       "    <tr>\n",
       "      <th>7</th>\n",
       "      <td>28</td>\n",
       "      <td>2017-08-19</td>\n",
       "      <td>2017-08-26</td>\n",
       "      <td>0</td>\n",
       "      <td>2137</td>\n",
       "      <td>경제민주화</td>\n",
       "      <td>소액주주를 보호해주십시오</td>\n",
       "      <td>**  존경하옵는 문재인대통령님께\\n저는 중국원양자원이라는 KOSPI상장사의 소액 ...</td>\n",
       "      <td>경제민주화</td>\n",
       "      <td>존경하옵는 문재인대통령님께 저는 중국원양자원이라는 KOSPI상장사의 소액 주...</td>\n",
       "      <td>존경하옵는 문재인대통령님께 중국원양자원이라는 KOSPI상장사의 소액 주주입니...</td>\n",
       "    </tr>\n",
       "    <tr>\n",
       "      <th>13</th>\n",
       "      <td>34</td>\n",
       "      <td>2017-08-19</td>\n",
       "      <td>2017-09-18</td>\n",
       "      <td>0</td>\n",
       "      <td>679</td>\n",
       "      <td>기타</td>\n",
       "      <td>『국가유공자 등 예우 및 지원에 관한법률』상「6.25전몰군경 자녀수당」의 불합리한 ...</td>\n",
       "      <td>(현황)\\n우리들 아버지께서는 67여년전 북의 남침으로 조국이 위기에 처했을 때 젊...</td>\n",
       "      <td>기타</td>\n",
       "      <td>현황  우리들 아버지께서는   여년전 북의 남침으로 조국이 위기에 처했을 때 젊은...</td>\n",
       "      <td>현황  우리들 아버지께서는   여년전 북의 남침으로 조국이 위기에 처했을 때 젊은...</td>\n",
       "    </tr>\n",
       "    <tr>\n",
       "      <th>21</th>\n",
       "      <td>43</td>\n",
       "      <td>2017-08-19</td>\n",
       "      <td>2017-09-18</td>\n",
       "      <td>0</td>\n",
       "      <td>11293</td>\n",
       "      <td>육아/교육</td>\n",
       "      <td>기간제 교사의 정규직화를 반대합니다.</td>\n",
       "      <td>대통령님, 안녕하세요. 저는 임용을 준비하고 수험생입니다. 처음 기간제 정규직화 된...</td>\n",
       "      <td>육아/교육</td>\n",
       "      <td>대통령님  안녕하세요  저는 임용을 준비하고 수험생입니다  처음 기간제 정규직화 된...</td>\n",
       "      <td>대통령님  안녕하세요  임용을 준비하고 수험생입니다  처음 기간제 정규직화 된다고 ...</td>\n",
       "    </tr>\n",
       "    <tr>\n",
       "      <th>24</th>\n",
       "      <td>46</td>\n",
       "      <td>2017-08-19</td>\n",
       "      <td>2017-09-18</td>\n",
       "      <td>0</td>\n",
       "      <td>1933</td>\n",
       "      <td>육아/교육</td>\n",
       "      <td>기간제교사의 정규직화를 반대합니다.</td>\n",
       "      <td>대통령님, 안녕하세요. 저는 임용을 준비하고 수험생입니다. 처음 기간제 정규직화 된...</td>\n",
       "      <td>육아/교육</td>\n",
       "      <td>대통령님  안녕하세요  저는 임용을 준비하고 수험생입니다  처음 기간제 정규직화 된...</td>\n",
       "      <td>대통령님  안녕하세요  임용을 준비하고 수험생입니다  처음 기간제 정규직화 된다고 ...</td>\n",
       "    </tr>\n",
       "    <tr>\n",
       "      <th>28</th>\n",
       "      <td>50</td>\n",
       "      <td>2017-08-19</td>\n",
       "      <td>2017-10-18</td>\n",
       "      <td>0</td>\n",
       "      <td>1251</td>\n",
       "      <td>일자리</td>\n",
       "      <td>치과위생사 국가고시 날짜 변경 억울합니다</td>\n",
       "      <td>안녕하십니까? 대통령님 간단하게 제소개 부터 하겠습니다. 저는 치위생과 3학년 학생...</td>\n",
       "      <td>일자리</td>\n",
       "      <td>안녕하십니까  대통령님 간단하게 제소개 부터 하겠습니다  저는 치위생과  학년 학생...</td>\n",
       "      <td>안녕하십니까  대통령님 간단하게 제소개 부터 하겠습니다  치위생과  학년 학생입니다...</td>\n",
       "    </tr>\n",
       "  </tbody>\n",
       "</table>\n",
       "</div>"
      ],
      "text/plain": [
       "    article_id      start        end  answered  votes category  \\\n",
       "7           28 2017-08-19 2017-08-26         0   2137    경제민주화   \n",
       "13          34 2017-08-19 2017-09-18         0    679       기타   \n",
       "21          43 2017-08-19 2017-09-18         0  11293    육아/교육   \n",
       "24          46 2017-08-19 2017-09-18         0   1933    육아/교육   \n",
       "28          50 2017-08-19 2017-10-18         0   1251      일자리   \n",
       "\n",
       "                                                title  \\\n",
       "7                                       소액주주를 보호해주십시오   \n",
       "13  『국가유공자 등 예우 및 지원에 관한법률』상「6.25전몰군경 자녀수당」의 불합리한 ...   \n",
       "21                               기간제 교사의 정규직화를 반대합니다.   \n",
       "24                                기간제교사의 정규직화를 반대합니다.   \n",
       "28                             치과위생사 국가고시 날짜 변경 억울합니다   \n",
       "\n",
       "                                              content category_pred  \\\n",
       "7   **  존경하옵는 문재인대통령님께\\n저는 중국원양자원이라는 KOSPI상장사의 소액 ...         경제민주화   \n",
       "13  (현황)\\n우리들 아버지께서는 67여년전 북의 남침으로 조국이 위기에 처했을 때 젊...            기타   \n",
       "21  대통령님, 안녕하세요. 저는 임용을 준비하고 수험생입니다. 처음 기간제 정규직화 된...         육아/교육   \n",
       "24  대통령님, 안녕하세요. 저는 임용을 준비하고 수험생입니다. 처음 기간제 정규직화 된...         육아/교육   \n",
       "28  안녕하십니까? 대통령님 간단하게 제소개 부터 하겠습니다. 저는 치위생과 3학년 학생...           일자리   \n",
       "\n",
       "                                content_preprocessing  \\\n",
       "7       존경하옵는 문재인대통령님께 저는 중국원양자원이라는 KOSPI상장사의 소액 주...   \n",
       "13   현황  우리들 아버지께서는   여년전 북의 남침으로 조국이 위기에 처했을 때 젊은...   \n",
       "21  대통령님  안녕하세요  저는 임용을 준비하고 수험생입니다  처음 기간제 정규직화 된...   \n",
       "24  대통령님  안녕하세요  저는 임용을 준비하고 수험생입니다  처음 기간제 정규직화 된...   \n",
       "28  안녕하십니까  대통령님 간단하게 제소개 부터 하겠습니다  저는 치위생과  학년 학생...   \n",
       "\n",
       "                               content_preprocessing2  \n",
       "7       존경하옵는 문재인대통령님께 중국원양자원이라는 KOSPI상장사의 소액 주주입니...  \n",
       "13   현황  우리들 아버지께서는   여년전 북의 남침으로 조국이 위기에 처했을 때 젊은...  \n",
       "21  대통령님  안녕하세요  임용을 준비하고 수험생입니다  처음 기간제 정규직화 된다고 ...  \n",
       "24  대통령님  안녕하세요  임용을 준비하고 수험생입니다  처음 기간제 정규직화 된다고 ...  \n",
       "28  안녕하십니까  대통령님 간단하게 제소개 부터 하겠습니다  치위생과  학년 학생입니다...  "
      ]
     },
     "execution_count": 30,
     "metadata": {},
     "output_type": "execute_result"
    }
   ],
   "source": [
    "# 학습세트의 상위 5개 항목만 출력해봅니다. \n",
    "df_train.head()"
   ]
  },
  {
   "cell_type": "code",
   "execution_count": 31,
   "metadata": {
    "colab": {
     "base_uri": "https://localhost:8080/",
     "height": 35
    },
    "id": "Z_yGqh8gt0z9",
    "outputId": "9772a45a-543e-48b9-f12a-2d5a82299549"
   },
   "outputs": [
    {
     "data": {
      "text/plain": [
       "(1617, 11)"
      ]
     },
     "execution_count": 31,
     "metadata": {},
     "output_type": "execute_result"
    }
   ],
   "source": [
    "df_test = df[split_count:].copy() # 훈련세트에 나머지 30%를 채워줍니다. \n",
    "df_test.shape"
   ]
  },
  {
   "cell_type": "code",
   "execution_count": 32,
   "metadata": {},
   "outputs": [
    {
     "data": {
      "text/html": [
       "<div>\n",
       "<style scoped>\n",
       "    .dataframe tbody tr th:only-of-type {\n",
       "        vertical-align: middle;\n",
       "    }\n",
       "\n",
       "    .dataframe tbody tr th {\n",
       "        vertical-align: top;\n",
       "    }\n",
       "\n",
       "    .dataframe thead th {\n",
       "        text-align: right;\n",
       "    }\n",
       "</style>\n",
       "<table border=\"1\" class=\"dataframe\">\n",
       "  <thead>\n",
       "    <tr style=\"text-align: right;\">\n",
       "      <th></th>\n",
       "      <th>article_id</th>\n",
       "      <th>start</th>\n",
       "      <th>end</th>\n",
       "      <th>answered</th>\n",
       "      <th>votes</th>\n",
       "      <th>category</th>\n",
       "      <th>title</th>\n",
       "      <th>content</th>\n",
       "      <th>category_pred</th>\n",
       "      <th>content_preprocessing</th>\n",
       "      <th>content_preprocessing2</th>\n",
       "    </tr>\n",
       "  </thead>\n",
       "  <tbody>\n",
       "    <tr>\n",
       "      <th>278676</th>\n",
       "      <td>361769</td>\n",
       "      <td>2018-08-31</td>\n",
       "      <td>2018-09-30</td>\n",
       "      <td>0</td>\n",
       "      <td>661</td>\n",
       "      <td>육아/교육</td>\n",
       "      <td>제아이를 착을수 있게 도와주세요. (국제아동탈취)</td>\n",
       "      <td>Sensitive\\nDear #############.\\nI am #########...</td>\n",
       "      <td>육아/교육</td>\n",
       "      <td>Sensitive Dear                I am            ...</td>\n",
       "      <td>Sensitive Dear                I am            ...</td>\n",
       "    </tr>\n",
       "    <tr>\n",
       "      <th>278697</th>\n",
       "      <td>361808</td>\n",
       "      <td>2018-08-31</td>\n",
       "      <td>2018-09-30</td>\n",
       "      <td>0</td>\n",
       "      <td>922</td>\n",
       "      <td>보건복지</td>\n",
       "      <td>성매매 여성에게 2260만원 지원 조례를 폐기해 주세요</td>\n",
       "      <td>성매매 여성에게 1인당 최대 2,260만원을 지원한다는 조례를 인천시가 제정중입니다...</td>\n",
       "      <td>보건복지</td>\n",
       "      <td>성매매 여성에게  인당 최대      만원을 지원한다는 조례를 인천시가 제정중입니다...</td>\n",
       "      <td>성매매 여성에게  인당 최대      만원을 지원한다는 조례를 인천시가 제정중입니다...</td>\n",
       "    </tr>\n",
       "    <tr>\n",
       "      <th>278704</th>\n",
       "      <td>361818</td>\n",
       "      <td>2018-08-31</td>\n",
       "      <td>2018-09-30</td>\n",
       "      <td>0</td>\n",
       "      <td>646</td>\n",
       "      <td>농산어촌</td>\n",
       "      <td>일본 방사능 식품을 먹고 싶지 않습니다</td>\n",
       "      <td>저는 일본 방사능에 걱정을 갖고 있는 시민입니다.\\n일본 원전 사태 이후로 일본 식...</td>\n",
       "      <td>농산어촌</td>\n",
       "      <td>저는 일본 방사능에 걱정을 갖고 있는 시민입니다  일본 원전 사태 이후로 일본 식품...</td>\n",
       "      <td>일본 방사능에 걱정을 갖고 시민입니다  일본 원전 사태 이후로 일본 식품은 물론 수...</td>\n",
       "    </tr>\n",
       "    <tr>\n",
       "      <th>278723</th>\n",
       "      <td>361861</td>\n",
       "      <td>2018-09-01</td>\n",
       "      <td>2018-10-01</td>\n",
       "      <td>0</td>\n",
       "      <td>1011</td>\n",
       "      <td>교통/건축/국토</td>\n",
       "      <td>사전 분양제도를 악용하는 악질 건설사 처벌을 청원합니다.</td>\n",
       "      <td>포항 자이, 오포 양우, 화성동탄 부영 등 최근 신축 아파트의 부실시공이 연일 언론...</td>\n",
       "      <td>교통/건축/국토</td>\n",
       "      <td>포항 자이  오포 양우  화성동탄 부영 등 최근 신축 아파트의 부실시공이 연일 언론...</td>\n",
       "      <td>포항 자이  오포 양우  화성동탄 부영 최근 신축 아파트의 부실시공이 연일 언론을 ...</td>\n",
       "    </tr>\n",
       "    <tr>\n",
       "      <th>278822</th>\n",
       "      <td>361999</td>\n",
       "      <td>2018-09-01</td>\n",
       "      <td>2018-10-01</td>\n",
       "      <td>0</td>\n",
       "      <td>1215</td>\n",
       "      <td>안전/환경</td>\n",
       "      <td>부산 영도(구)해사고 해경특공대 훈련시설 반대합니다</td>\n",
       "      <td>부산 영도 (구)해사고 해경특공대 훈련시설 반대 청원\\n남해지방해양경찰청은 부산 영...</td>\n",
       "      <td>안전/환경</td>\n",
       "      <td>부산 영도  구 해사고 해경특공대 훈련시설 반대 청원 남해지방해양경찰청은 부산 영도...</td>\n",
       "      <td>부산 영도  구 해사고 해경특공대 훈련시설 반대 청원 남해지방해양경찰청은 부산 영도...</td>\n",
       "    </tr>\n",
       "  </tbody>\n",
       "</table>\n",
       "</div>"
      ],
      "text/plain": [
       "        article_id      start        end  answered  votes  category  \\\n",
       "278676      361769 2018-08-31 2018-09-30         0    661     육아/교육   \n",
       "278697      361808 2018-08-31 2018-09-30         0    922      보건복지   \n",
       "278704      361818 2018-08-31 2018-09-30         0    646      농산어촌   \n",
       "278723      361861 2018-09-01 2018-10-01         0   1011  교통/건축/국토   \n",
       "278822      361999 2018-09-01 2018-10-01         0   1215     안전/환경   \n",
       "\n",
       "                                  title  \\\n",
       "278676      제아이를 착을수 있게 도와주세요. (국제아동탈취)   \n",
       "278697   성매매 여성에게 2260만원 지원 조례를 폐기해 주세요   \n",
       "278704            일본 방사능 식품을 먹고 싶지 않습니다   \n",
       "278723  사전 분양제도를 악용하는 악질 건설사 처벌을 청원합니다.   \n",
       "278822     부산 영도(구)해사고 해경특공대 훈련시설 반대합니다   \n",
       "\n",
       "                                                  content category_pred  \\\n",
       "278676  Sensitive\\nDear #############.\\nI am #########...         육아/교육   \n",
       "278697  성매매 여성에게 1인당 최대 2,260만원을 지원한다는 조례를 인천시가 제정중입니다...          보건복지   \n",
       "278704  저는 일본 방사능에 걱정을 갖고 있는 시민입니다.\\n일본 원전 사태 이후로 일본 식...          농산어촌   \n",
       "278723  포항 자이, 오포 양우, 화성동탄 부영 등 최근 신축 아파트의 부실시공이 연일 언론...      교통/건축/국토   \n",
       "278822  부산 영도 (구)해사고 해경특공대 훈련시설 반대 청원\\n남해지방해양경찰청은 부산 영...         안전/환경   \n",
       "\n",
       "                                    content_preprocessing  \\\n",
       "278676  Sensitive Dear                I am            ...   \n",
       "278697  성매매 여성에게  인당 최대      만원을 지원한다는 조례를 인천시가 제정중입니다...   \n",
       "278704  저는 일본 방사능에 걱정을 갖고 있는 시민입니다  일본 원전 사태 이후로 일본 식품...   \n",
       "278723  포항 자이  오포 양우  화성동탄 부영 등 최근 신축 아파트의 부실시공이 연일 언론...   \n",
       "278822  부산 영도  구 해사고 해경특공대 훈련시설 반대 청원 남해지방해양경찰청은 부산 영도...   \n",
       "\n",
       "                                   content_preprocessing2  \n",
       "278676  Sensitive Dear                I am            ...  \n",
       "278697  성매매 여성에게  인당 최대      만원을 지원한다는 조례를 인천시가 제정중입니다...  \n",
       "278704  일본 방사능에 걱정을 갖고 시민입니다  일본 원전 사태 이후로 일본 식품은 물론 수...  \n",
       "278723  포항 자이  오포 양우  화성동탄 부영 최근 신축 아파트의 부실시공이 연일 언론을 ...  \n",
       "278822  부산 영도  구 해사고 해경특공대 훈련시설 반대 청원 남해지방해양경찰청은 부산 영도...  "
      ]
     },
     "execution_count": 32,
     "metadata": {},
     "output_type": "execute_result"
    }
   ],
   "source": [
    "# 테스트세트의 상위 5개 항목만 출력해봅니다. \n",
    "df_test.head()"
   ]
  },
  {
   "cell_type": "markdown",
   "metadata": {
    "id": "iXQ4-fp8t00F"
   },
   "source": [
    "## 카테고리 "
   ]
  },
  {
   "cell_type": "code",
   "execution_count": 33,
   "metadata": {
    "colab": {
     "base_uri": "https://localhost:8080/",
     "height": 1595
    },
    "id": "l17Ky-xOt00F",
    "outputId": "364d6134-2d31-4cef-eb73-ee8a497d1b03"
   },
   "outputs": [
    {
     "data": {
      "text/html": [
       "<div>\n",
       "<style scoped>\n",
       "    .dataframe tbody tr th:only-of-type {\n",
       "        vertical-align: middle;\n",
       "    }\n",
       "\n",
       "    .dataframe tbody tr th {\n",
       "        vertical-align: top;\n",
       "    }\n",
       "\n",
       "    .dataframe thead th {\n",
       "        text-align: right;\n",
       "    }\n",
       "</style>\n",
       "<table border=\"1\" class=\"dataframe\">\n",
       "  <thead>\n",
       "    <tr style=\"text-align: right;\">\n",
       "      <th></th>\n",
       "      <th>category_x</th>\n",
       "      <th>category_y</th>\n",
       "    </tr>\n",
       "  </thead>\n",
       "  <tbody>\n",
       "    <tr>\n",
       "      <th>인권/성평등</th>\n",
       "      <td>486</td>\n",
       "      <td>0.128878</td>\n",
       "    </tr>\n",
       "    <tr>\n",
       "      <th>육아/교육</th>\n",
       "      <td>413</td>\n",
       "      <td>0.109520</td>\n",
       "    </tr>\n",
       "    <tr>\n",
       "      <th>정치개혁</th>\n",
       "      <td>373</td>\n",
       "      <td>0.098913</td>\n",
       "    </tr>\n",
       "    <tr>\n",
       "      <th>안전/환경</th>\n",
       "      <td>368</td>\n",
       "      <td>0.097587</td>\n",
       "    </tr>\n",
       "    <tr>\n",
       "      <th>보건복지</th>\n",
       "      <td>332</td>\n",
       "      <td>0.088040</td>\n",
       "    </tr>\n",
       "    <tr>\n",
       "      <th>기타</th>\n",
       "      <td>299</td>\n",
       "      <td>0.079289</td>\n",
       "    </tr>\n",
       "    <tr>\n",
       "      <th>교통/건축/국토</th>\n",
       "      <td>295</td>\n",
       "      <td>0.078229</td>\n",
       "    </tr>\n",
       "    <tr>\n",
       "      <th>문화/예술/체육/언론</th>\n",
       "      <td>236</td>\n",
       "      <td>0.062583</td>\n",
       "    </tr>\n",
       "    <tr>\n",
       "      <th>행정</th>\n",
       "      <td>196</td>\n",
       "      <td>0.051976</td>\n",
       "    </tr>\n",
       "    <tr>\n",
       "      <th>외교/통일/국방</th>\n",
       "      <td>184</td>\n",
       "      <td>0.048793</td>\n",
       "    </tr>\n",
       "    <tr>\n",
       "      <th>일자리</th>\n",
       "      <td>177</td>\n",
       "      <td>0.046937</td>\n",
       "    </tr>\n",
       "    <tr>\n",
       "      <th>경제민주화</th>\n",
       "      <td>142</td>\n",
       "      <td>0.037656</td>\n",
       "    </tr>\n",
       "    <tr>\n",
       "      <th>반려동물</th>\n",
       "      <td>118</td>\n",
       "      <td>0.031291</td>\n",
       "    </tr>\n",
       "    <tr>\n",
       "      <th>미래</th>\n",
       "      <td>64</td>\n",
       "      <td>0.016972</td>\n",
       "    </tr>\n",
       "    <tr>\n",
       "      <th>성장동력</th>\n",
       "      <td>40</td>\n",
       "      <td>0.010607</td>\n",
       "    </tr>\n",
       "    <tr>\n",
       "      <th>저출산/고령화대책</th>\n",
       "      <td>28</td>\n",
       "      <td>0.007425</td>\n",
       "    </tr>\n",
       "    <tr>\n",
       "      <th>농산어촌</th>\n",
       "      <td>20</td>\n",
       "      <td>0.005304</td>\n",
       "    </tr>\n",
       "  </tbody>\n",
       "</table>\n",
       "</div>"
      ],
      "text/plain": [
       "             category_x  category_y\n",
       "인권/성평등              486    0.128878\n",
       "육아/교육               413    0.109520\n",
       "정치개혁                373    0.098913\n",
       "안전/환경               368    0.097587\n",
       "보건복지                332    0.088040\n",
       "기타                  299    0.079289\n",
       "교통/건축/국토            295    0.078229\n",
       "문화/예술/체육/언론         236    0.062583\n",
       "행정                  196    0.051976\n",
       "외교/통일/국방            184    0.048793\n",
       "일자리                 177    0.046937\n",
       "경제민주화               142    0.037656\n",
       "반려동물                118    0.031291\n",
       "미래                   64    0.016972\n",
       "성장동력                 40    0.010607\n",
       "저출산/고령화대책            28    0.007425\n",
       "농산어촌                 20    0.005304"
      ]
     },
     "execution_count": 33,
     "metadata": {},
     "output_type": "execute_result"
    }
   ],
   "source": [
    "# 학습세트의 모습을 테스트세트의 카테고리, 그리고 해당 카테고리의 비율로 이루어진 데이터로 만듭니다.\n",
    "df_train_category_value = pd.DataFrame(df_train['category'].value_counts())\n",
    "df_train_category_percent = pd.DataFrame(df_train['category'].value_counts(normalize=True))\n",
    "df_train_category_value.merge(df_train_category_percent, left_index=True, right_index=True)"
   ]
  },
  {
   "cell_type": "code",
   "execution_count": 34,
   "metadata": {
    "colab": {
     "base_uri": "https://localhost:8080/",
     "height": 1595
    },
    "id": "Ejqr2j0Rt00I",
    "outputId": "df36e207-434f-4f95-8a92-bf9a93ff54f9"
   },
   "outputs": [
    {
     "data": {
      "text/html": [
       "<div>\n",
       "<style scoped>\n",
       "    .dataframe tbody tr th:only-of-type {\n",
       "        vertical-align: middle;\n",
       "    }\n",
       "\n",
       "    .dataframe tbody tr th {\n",
       "        vertical-align: top;\n",
       "    }\n",
       "\n",
       "    .dataframe thead th {\n",
       "        text-align: right;\n",
       "    }\n",
       "</style>\n",
       "<table border=\"1\" class=\"dataframe\">\n",
       "  <thead>\n",
       "    <tr style=\"text-align: right;\">\n",
       "      <th></th>\n",
       "      <th>category_x</th>\n",
       "      <th>category_y</th>\n",
       "    </tr>\n",
       "  </thead>\n",
       "  <tbody>\n",
       "    <tr>\n",
       "      <th>인권/성평등</th>\n",
       "      <td>213</td>\n",
       "      <td>0.131725</td>\n",
       "    </tr>\n",
       "    <tr>\n",
       "      <th>교통/건축/국토</th>\n",
       "      <td>208</td>\n",
       "      <td>0.128633</td>\n",
       "    </tr>\n",
       "    <tr>\n",
       "      <th>육아/교육</th>\n",
       "      <td>193</td>\n",
       "      <td>0.119357</td>\n",
       "    </tr>\n",
       "    <tr>\n",
       "      <th>보건복지</th>\n",
       "      <td>160</td>\n",
       "      <td>0.098949</td>\n",
       "    </tr>\n",
       "    <tr>\n",
       "      <th>안전/환경</th>\n",
       "      <td>158</td>\n",
       "      <td>0.097712</td>\n",
       "    </tr>\n",
       "    <tr>\n",
       "      <th>기타</th>\n",
       "      <td>145</td>\n",
       "      <td>0.089672</td>\n",
       "    </tr>\n",
       "    <tr>\n",
       "      <th>정치개혁</th>\n",
       "      <td>93</td>\n",
       "      <td>0.057514</td>\n",
       "    </tr>\n",
       "    <tr>\n",
       "      <th>외교/통일/국방</th>\n",
       "      <td>77</td>\n",
       "      <td>0.047619</td>\n",
       "    </tr>\n",
       "    <tr>\n",
       "      <th>일자리</th>\n",
       "      <td>73</td>\n",
       "      <td>0.045145</td>\n",
       "    </tr>\n",
       "    <tr>\n",
       "      <th>문화/예술/체육/언론</th>\n",
       "      <td>72</td>\n",
       "      <td>0.044527</td>\n",
       "    </tr>\n",
       "    <tr>\n",
       "      <th>행정</th>\n",
       "      <td>68</td>\n",
       "      <td>0.042053</td>\n",
       "    </tr>\n",
       "    <tr>\n",
       "      <th>경제민주화</th>\n",
       "      <td>49</td>\n",
       "      <td>0.030303</td>\n",
       "    </tr>\n",
       "    <tr>\n",
       "      <th>반려동물</th>\n",
       "      <td>42</td>\n",
       "      <td>0.025974</td>\n",
       "    </tr>\n",
       "    <tr>\n",
       "      <th>미래</th>\n",
       "      <td>22</td>\n",
       "      <td>0.013605</td>\n",
       "    </tr>\n",
       "    <tr>\n",
       "      <th>저출산/고령화대책</th>\n",
       "      <td>16</td>\n",
       "      <td>0.009895</td>\n",
       "    </tr>\n",
       "    <tr>\n",
       "      <th>농산어촌</th>\n",
       "      <td>16</td>\n",
       "      <td>0.009895</td>\n",
       "    </tr>\n",
       "    <tr>\n",
       "      <th>성장동력</th>\n",
       "      <td>12</td>\n",
       "      <td>0.007421</td>\n",
       "    </tr>\n",
       "  </tbody>\n",
       "</table>\n",
       "</div>"
      ],
      "text/plain": [
       "             category_x  category_y\n",
       "인권/성평등              213    0.131725\n",
       "교통/건축/국토            208    0.128633\n",
       "육아/교육               193    0.119357\n",
       "보건복지                160    0.098949\n",
       "안전/환경               158    0.097712\n",
       "기타                  145    0.089672\n",
       "정치개혁                 93    0.057514\n",
       "외교/통일/국방             77    0.047619\n",
       "일자리                  73    0.045145\n",
       "문화/예술/체육/언론          72    0.044527\n",
       "행정                   68    0.042053\n",
       "경제민주화                49    0.030303\n",
       "반려동물                 42    0.025974\n",
       "미래                   22    0.013605\n",
       "저출산/고령화대책            16    0.009895\n",
       "농산어촌                 16    0.009895\n",
       "성장동력                 12    0.007421"
      ]
     },
     "execution_count": 34,
     "metadata": {},
     "output_type": "execute_result"
    }
   ],
   "source": [
    "# 테스트세트의 모습을 위와 동일하게 제작합니다.\n",
    "df_test_category_value = pd.DataFrame(df_test['category'].value_counts())\n",
    "df_test_category_percent = pd.DataFrame(df_test['category'].value_counts(normalize=True))\n",
    "df_test_category_value.merge(df_test_category_percent, left_index=True, right_index=True)"
   ]
  },
  {
   "cell_type": "code",
   "execution_count": 35,
   "metadata": {
    "colab": {
     "base_uri": "https://localhost:8080/",
     "height": 701
    },
    "id": "-z-keU8zt00K",
    "outputId": "4f53def2-c4ed-4ca3-a885-1b0e2b2dec58"
   },
   "outputs": [
    {
     "data": {
      "text/plain": [
       "<matplotlib.axes._subplots.AxesSubplot at 0x2160149eac8>"
      ]
     },
     "execution_count": 35,
     "metadata": {},
     "output_type": "execute_result"
    },
    {
     "data": {
      "image/png": "[encoded data removed]",
      "text/plain": [
       "<Figure size 432x288 with 1 Axes>"
      ]
     },
     "metadata": {
      "image/png": {
       "height": 323,
       "width": 373
      },
      "needs_background": "light"
     },
     "output_type": "display_data"
    },
    {
     "data": {
      "image/png": "[encoded data removed]",
      "text/plain": [
       "<Figure size 432x288 with 1 Axes>"
      ]
     },
     "metadata": {
      "image/png": {
       "height": 323,
       "width": 373
      },
      "needs_background": "light"
     },
     "output_type": "display_data"
    }
   ],
   "source": [
    "# 그리고 두 세트를 bar plot으로 출력합니다.\n",
    "df_train_category_value.plot(kind='bar')\n",
    "df_test_category_value.plot(kind='bar')"
   ]
  },
  {
   "cell_type": "markdown",
   "metadata": {
    "id": "lXbYgIwzt00M"
   },
   "source": [
    "# 단어 벡터화 하기"
   ]
  },
  {
   "cell_type": "code",
   "execution_count": 36,
   "metadata": {
    "colab": {
     "base_uri": "https://localhost:8080/",
     "height": 141
    },
    "id": "A8wDI1vht00M",
    "outputId": "f52d51fe-a49d-4541-88ab-cf8d4ede29ac"
   },
   "outputs": [
    {
     "data": {
      "text/plain": [
       "CountVectorizer(analyzer='word', binary=False, decode_error='strict',\n",
       "                dtype=<class 'numpy.int64'>, encoding='utf-8', input='content',\n",
       "                lowercase=True, max_df=1.0, max_features=2000, min_df=2,\n",
       "                ngram_range=(1, 3), preprocessor=None, stop_words=None,\n",
       "                strip_accents=None, token_pattern='(?u)\\\\b\\\\w\\\\w+\\\\b',\n",
       "                tokenizer=None, vocabulary=None)"
      ]
     },
     "execution_count": 36,
     "metadata": {},
     "output_type": "execute_result"
    }
   ],
   "source": [
    "# 학습과 분류를 시키기 위해 먼저 벡터화를 하기로 합니다. 학습이나 분류 전에 텍스트는 컴퓨터가 알아먹을 수 없으므로 벡터화를 진행합니다. (vectorizer를 생성합니다.)\n",
    "from sklearn.feature_extraction.text import CountVectorizer\n",
    "\n",
    "vectorizer = CountVectorizer(analyzer = 'word', # 캐릭터 단위로 벡터화 할 수도 있습니다.\n",
    "                             tokenizer = None, # 토크나이저를 따로 지정해 줄 수도 있습니다.\n",
    "                             preprocessor = None, # 전처리 도구\n",
    "                             stop_words = None, # 불용어 nltk등의 도구를 사용할 수도 있습니다.\n",
    "                             min_df = 2, # 토큰이 나타날 최소 문서 개수로 오타나 자주 나오지 않는 특수한 전문용어 제거에 좋다. \n",
    "                             ngram_range=(1, 3), # BOW의 단위를 1~3개로 지정합니다.\n",
    "                             max_features = 2000 # 만들 피처의 수, 단어의 수가 된다.\n",
    "                            )\n",
    "vectorizer"
   ]
  },
  {
   "cell_type": "code",
   "execution_count": 37,
   "metadata": {
    "colab": {
     "base_uri": "https://localhost:8080/",
     "height": 72
    },
    "id": "DbyBKIFEt00P",
    "outputId": "269980d2-7e32-4daf-e8d1-3a7070abe5a2"
   },
   "outputs": [
    {
     "name": "stdout",
     "output_type": "stream",
     "text": [
      "Wall time: 10.7 s\n"
     ]
    },
    {
     "data": {
      "text/plain": [
       "(3771, 2000)"
      ]
     },
     "execution_count": 37,
     "metadata": {},
     "output_type": "execute_result"
    }
   ],
   "source": [
    "%%time \n",
    "# 학습세트와 테스트세트를 CounterVectorizer를 이용해 벡터 정규화합니다(fit -> Transform). 정규화하는 이유는 Feature들 끼리 다른 스케일을 통일 시켜주는 역할을 합니다. \n",
    "train_feature_vector = vectorizer.fit_transform(df_train['content_preprocessing2'])\n",
    "train_feature_vector.shape"
   ]
  },
  {
   "cell_type": "code",
   "execution_count": 38,
   "metadata": {
    "colab": {
     "base_uri": "https://localhost:8080/",
     "height": 72
    },
    "id": "XqPkzrgWt00R",
    "outputId": "9772e1fb-44f8-4856-eeb8-92904c2501ff"
   },
   "outputs": [
    {
     "name": "stdout",
     "output_type": "stream",
     "text": [
      "Wall time: 5.84 s\n"
     ]
    },
    {
     "data": {
      "text/plain": [
       "(1617, 2000)"
      ]
     },
     "execution_count": 38,
     "metadata": {},
     "output_type": "execute_result"
    }
   ],
   "source": [
    "%%time \n",
    "test_feature_vector = vectorizer.fit_transform(df_test['content_preprocessing2'])\n",
    "test_feature_vector.shape"
   ]
  },
  {
   "cell_type": "code",
   "execution_count": 39,
   "metadata": {
    "colab": {
     "base_uri": "https://localhost:8080/",
     "height": 228
    },
    "id": "Sgdf7tQnt00U",
    "outputId": "a70a8129-9162-4562-f106-0037d877c1a6"
   },
   "outputs": [
    {
     "name": "stdout",
     "output_type": "stream",
     "text": [
      "2000\n"
     ]
    },
    {
     "data": {
      "text/plain": [
       "['aid',\n",
       " 'article',\n",
       " 'articleview',\n",
       " 'a는',\n",
       " 'a의',\n",
       " 'a형',\n",
       " 'b형',\n",
       " 'cctv',\n",
       " 'cctv를',\n",
       " 'cj']"
      ]
     },
     "execution_count": 39,
     "metadata": {},
     "output_type": "execute_result"
    }
   ],
   "source": [
    "vocab = vectorizer.get_feature_names()\n",
    "print(len(vocab))\n",
    "vocab[:10]"
   ]
  },
  {
   "cell_type": "code",
   "execution_count": 40,
   "metadata": {
    "colab": {
     "base_uri": "https://localhost:8080/",
     "height": 250
    },
    "id": "FnQYvfWAt00W",
    "outputId": "5a8589e6-1eac-4c71-e592-48d8d898d587"
   },
   "outputs": [
    {
     "data": {
      "text/html": [
       "<div>\n",
       "<style scoped>\n",
       "    .dataframe tbody tr th:only-of-type {\n",
       "        vertical-align: middle;\n",
       "    }\n",
       "\n",
       "    .dataframe tbody tr th {\n",
       "        vertical-align: top;\n",
       "    }\n",
       "\n",
       "    .dataframe thead th {\n",
       "        text-align: right;\n",
       "    }\n",
       "</style>\n",
       "<table border=\"1\" class=\"dataframe\">\n",
       "  <thead>\n",
       "    <tr style=\"text-align: right;\">\n",
       "      <th></th>\n",
       "      <th>aid</th>\n",
       "      <th>article</th>\n",
       "      <th>articleview</th>\n",
       "      <th>a는</th>\n",
       "      <th>a의</th>\n",
       "      <th>a형</th>\n",
       "      <th>b형</th>\n",
       "      <th>cctv</th>\n",
       "      <th>cctv를</th>\n",
       "      <th>cj</th>\n",
       "      <th>...</th>\n",
       "      <th>후에도</th>\n",
       "      <th>훨씬</th>\n",
       "      <th>희망을</th>\n",
       "      <th>힘든</th>\n",
       "      <th>힘들게</th>\n",
       "      <th>힘들고</th>\n",
       "      <th>힘들어</th>\n",
       "      <th>힘없는</th>\n",
       "      <th>힘을</th>\n",
       "      <th>힘이</th>\n",
       "    </tr>\n",
       "  </thead>\n",
       "  <tbody>\n",
       "    <tr>\n",
       "      <th>0</th>\n",
       "      <td>140</td>\n",
       "      <td>141</td>\n",
       "      <td>89</td>\n",
       "      <td>113</td>\n",
       "      <td>89</td>\n",
       "      <td>89</td>\n",
       "      <td>57</td>\n",
       "      <td>61</td>\n",
       "      <td>296</td>\n",
       "      <td>288</td>\n",
       "      <td>...</td>\n",
       "      <td>79</td>\n",
       "      <td>133</td>\n",
       "      <td>85</td>\n",
       "      <td>224</td>\n",
       "      <td>136</td>\n",
       "      <td>64</td>\n",
       "      <td>64</td>\n",
       "      <td>59</td>\n",
       "      <td>130</td>\n",
       "      <td>112</td>\n",
       "    </tr>\n",
       "  </tbody>\n",
       "</table>\n",
       "<p>1 rows × 2000 columns</p>\n",
       "</div>"
      ],
      "text/plain": [
       "   aid  article  articleview   a는  a의  a형  b형  cctv  cctv를   cj ...   후에도  \\\n",
       "0  140      141           89  113  89  89  57    61    296  288 ...    79   \n",
       "\n",
       "    훨씬  희망을   힘든  힘들게  힘들고  힘들어  힘없는   힘을   힘이  \n",
       "0  133   85  224  136   64   64   59  130  112  \n",
       "\n",
       "[1 rows x 2000 columns]"
      ]
     },
     "execution_count": 40,
     "metadata": {},
     "output_type": "execute_result"
    }
   ],
   "source": [
    "dist = np.sum(train_feature_vector, axis=0)\n",
    "\n",
    "pd.DataFrame(dist, columns=vocab)"
   ]
  },
  {
   "cell_type": "code",
   "execution_count": 41,
   "metadata": {
    "colab": {
     "base_uri": "https://localhost:8080/",
     "height": 72
    },
    "id": "zoMQQvcft00Y",
    "outputId": "b844a496-f248-4b63-f100-2045ee5ec270"
   },
   "outputs": [
    {
     "data": {
      "text/plain": [
       "TfidfTransformer(norm='l2', smooth_idf=False, sublinear_tf=False, use_idf=True)"
      ]
     },
     "execution_count": 41,
     "metadata": {},
     "output_type": "execute_result"
    }
   ],
   "source": [
    "# 추가로 TF-IDF 를 이용해 벡터 정규화를 진행합니다. TF-IDF은 통계적 수치 중 하나인데, TF(단어 빈도수)와 IDF(역 - 문서 빈도수)를 곱한 값이다. 이 점수가 높은 단어일 수록 다른 문서에는 많지 않고 해당 문서에서 자주 등장하는 단어를 의미합니다. 반대로 단어의 중요도가 낮다는 것은 하나의 문서에서 많이 나오지 않고 다른 문서에서 자주 등장하는 단어라는 의미를 갖습니다.\n",
    "from sklearn.feature_extraction.text import TfidfTransformer # TF-IDF로 가중치를 먹여 벡터를 정규화 합니다. (간단하게 한다)\n",
    "transformer = TfidfTransformer(smooth_idf=False) # 피처를 만들 때 0으로 나오는 항목에 대해 작은 값을 더해서(스무딩을 해서) 피처를 만들지 아니면 그냥 생성할지를 결정합니다. 결국 이 코드에서는 그냥 생성하는 것으로 결정(False)\n",
    "transformer"
   ]
  },
  {
   "cell_type": "code",
   "execution_count": 42,
   "metadata": {
    "colab": {
     "base_uri": "https://localhost:8080/",
     "height": 72
    },
    "id": "X5YduNwHt00b",
    "outputId": "df12ef9c-39fc-470e-93ee-7924851efb2d"
   },
   "outputs": [
    {
     "name": "stdout",
     "output_type": "stream",
     "text": [
      "Wall time: 35 ms\n"
     ]
    },
    {
     "data": {
      "text/plain": [
       "(3771, 2000)"
      ]
     },
     "execution_count": 42,
     "metadata": {},
     "output_type": "execute_result"
    }
   ],
   "source": [
    "%%time \n",
    "train_feature_tfidf = transformer.fit_transform(train_feature_vector)\n",
    "train_feature_tfidf.shape"
   ]
  },
  {
   "cell_type": "code",
   "execution_count": 43,
   "metadata": {
    "colab": {
     "base_uri": "https://localhost:8080/",
     "height": 72
    },
    "id": "4YMLzW_Ut00d",
    "outputId": "f0e1172c-bd55-4319-f71c-b941ba72b5b5"
   },
   "outputs": [
    {
     "name": "stdout",
     "output_type": "stream",
     "text": [
      "Wall time: 14 ms\n"
     ]
    },
    {
     "data": {
      "text/plain": [
       "(1617, 2000)"
      ]
     },
     "execution_count": 43,
     "metadata": {},
     "output_type": "execute_result"
    }
   ],
   "source": [
    "%%time \n",
    "test_feature_tfidf = transformer.fit_transform(test_feature_vector)\n",
    "test_feature_tfidf.shape"
   ]
  },
  {
   "cell_type": "code",
   "execution_count": 44,
   "metadata": {
    "colab": {
     "base_uri": "https://localhost:8080/",
     "height": 55
    },
    "id": "3fneDxSBt00i",
    "outputId": "a5209427-abff-4560-c8ff-3756e8df85d5"
   },
   "outputs": [
    {
     "data": {
      "text/plain": [
       "(1617, 2000)"
      ]
     },
     "execution_count": 44,
     "metadata": {},
     "output_type": "execute_result"
    }
   ],
   "source": [
    "test_feature_tfidf.shape"
   ]
  },
  {
   "cell_type": "markdown",
   "metadata": {
    "id": "eRmOcniRt00m"
   },
   "source": [
    "# 랜덤 포레스트로 학습시키기\n",
    "* 공식문서 : http://scikit-learn.org/stable/modules/generated/sklearn.ensemble.RandomForestClassifier.html"
   ]
  },
  {
   "cell_type": "code",
   "execution_count": 45,
   "metadata": {
    "colab": {
     "base_uri": "https://localhost:8080/",
     "height": 139
    },
    "id": "xSEe8bUFt00m",
    "outputId": "2c6bf8b7-f84d-4eff-aa62-3bb3ffa318e0"
   },
   "outputs": [
    {
     "data": {
      "text/plain": [
       "RandomForestClassifier(bootstrap=True, ccp_alpha=0.0, class_weight=None,\n",
       "                       criterion='gini', max_depth=None, max_features='auto',\n",
       "                       max_leaf_nodes=None, max_samples=None,\n",
       "                       min_impurity_decrease=0.0, min_impurity_split=None,\n",
       "                       min_samples_leaf=1, min_samples_split=2,\n",
       "                       min_weight_fraction_leaf=0.0, n_estimators=100,\n",
       "                       n_jobs=-1, oob_score=False, random_state=2018, verbose=0,\n",
       "                       warm_start=False)"
      ]
     },
     "execution_count": 45,
     "metadata": {},
     "output_type": "execute_result"
    }
   ],
   "source": [
    "from sklearn.ensemble import RandomForestClassifier\n",
    "\n",
    "# 랜덤포레스트 분류기를 사용해서 분류를 합니다. \n",
    "forest = RandomForestClassifier(\n",
    "    n_estimators = 100, n_jobs = -1, random_state=2018)\n",
    "forest"
   ]
  },
  {
   "cell_type": "code",
   "execution_count": 46,
   "metadata": {
    "colab": {
     "base_uri": "https://localhost:8080/",
     "height": 52
    },
    "id": "jXmfdPoDt00r",
    "outputId": "1a81cb60-af38-422d-9e3e-1725197009d6"
   },
   "outputs": [
    {
     "name": "stdout",
     "output_type": "stream",
     "text": [
      "Wall time: 1.79 s\n"
     ]
    }
   ],
   "source": [
    "# 학습에 사용할 y_label 을 넣어줍니다.\n",
    "# 어떤 분야의 청원인지 예측할 것이기 때문에 category를 넣어줍니다.\n",
    "y_label = df_train['category']\n",
    "%time forest = forest.fit(train_feature_tfidf, y_label)"
   ]
  },
  {
   "cell_type": "markdown",
   "metadata": {
    "id": "M9u6sKOet00v"
   },
   "source": [
    "# 학습이 잘 되었는지 평가하기"
   ]
  },
  {
   "cell_type": "code",
   "execution_count": 47,
   "metadata": {
    "colab": {
     "base_uri": "https://localhost:8080/",
     "height": 69
    },
    "id": "-CIOuMRCt00v",
    "outputId": "f3da3715-ab66-4796-fab0-9380f7303af6"
   },
   "outputs": [
    {
     "name": "stdout",
     "output_type": "stream",
     "text": [
      "Wall time: 8.01 s\n"
     ]
    },
    {
     "data": {
      "text/plain": [
       "array([0.42384106, 0.41246684, 0.38461538, 0.40981432, 0.38196286])"
      ]
     },
     "execution_count": 47,
     "metadata": {},
     "output_type": "execute_result"
    }
   ],
   "source": [
    "# 이제 학습이 잘 되었는 지를 확인합니다. 성능지표는 교차검증(cross-validation)을 통한 accuracy를 확인할 것입니다. 교차검증이란, 선택한 비율만큼 훈련세트와 테스트세트를 분할하여 표본을 만들어준 뒤, 이 표본을 교차하면서 검증하는 모델 평가 방법입니다.\n",
    "# K-fold 교차검증이란, 데이터를 K개로 쪼개어 하나는 검증 데이터, 나머지(k-1)는 훈련 데이터로 사용되며 검증이 끝나면 검증 데이터를 쪼갠 다른 데이터로 교체 후 검증하는 것을 K번 반복하는 것입니다. 그리고 K번의 성능을 평균으로 구합니다.\n",
    "from sklearn.model_selection import KFold\n",
    "from sklearn.model_selection import cross_val_score\n",
    "k_fold = KFold(n_splits=5, shuffle=True, random_state=0)\n",
    "\n",
    "scoring = 'accuracy'\n",
    "# cross_val_score 의 파라미터는 (모델명, 훈련데이터, 타겟, cv(k-flod), options)입니다.\n",
    "%time score = cross_val_score(forest, train_feature_vector, y_label, cv=k_fold, n_jobs=-1, scoring=scoring)\n",
    "score"
   ]
  },
  {
   "cell_type": "code",
   "execution_count": 48,
   "metadata": {
    "colab": {
     "base_uri": "https://localhost:8080/",
     "height": 35
    },
    "id": "Tnzp0LHEt00y",
    "outputId": "fae48884-b64c-4d8b-c11f-d6e9e24eb532"
   },
   "outputs": [
    {
     "data": {
      "text/plain": [
       "40.25"
      ]
     },
     "execution_count": 48,
     "metadata": {},
     "output_type": "execute_result"
    }
   ],
   "source": [
    "# 성능지표를 평균으로 뽑고 이를 백분율로 나오게끔 수치를 뽑아봅니다.\n",
    "round(np.mean(score)*100,2)\n",
    "# 높지 않은 성능지표가 나왔습니다. "
   ]
  },
  {
   "cell_type": "markdown",
   "metadata": {
    "id": "nqJ8PZ8Nt006"
   },
   "source": [
    "# 예측"
   ]
  },
  {
   "cell_type": "code",
   "execution_count": 49,
   "metadata": {
    "colab": {
     "base_uri": "https://localhost:8080/",
     "height": 35
    },
    "id": "fgbYa1kbt007",
    "outputId": "28ceb92c-d08c-4d42-d010-c13ea621f3df"
   },
   "outputs": [
    {
     "data": {
      "text/plain": [
       "array(['일자리', '교통/건축/국토', '기타'], dtype=object)"
      ]
     },
     "execution_count": 49,
     "metadata": {},
     "output_type": "execute_result"
    }
   ],
   "source": [
    "# 고찰하기 위해 테스트 데이터를 넣고 예측합니다.\n",
    "y_pred = forest.predict(test_feature_vector)\n",
    "y_pred[:3]"
   ]
  },
  {
   "cell_type": "code",
   "execution_count": 50,
   "metadata": {
    "colab": {
     "base_uri": "https://localhost:8080/",
     "height": 35
    },
    "id": "ZIkjk2RMt00-",
    "outputId": "93561e39-3d02-4fd1-d5e7-e17e27524975"
   },
   "outputs": [
    {
     "data": {
      "text/plain": [
       "(1617,)"
      ]
     },
     "execution_count": 50,
     "metadata": {},
     "output_type": "execute_result"
    }
   ],
   "source": [
    "y_pred.shape"
   ]
  },
  {
   "cell_type": "code",
   "execution_count": 51,
   "metadata": {
    "colab": {
     "base_uri": "https://localhost:8080/",
     "height": 202
    },
    "id": "TF6oSPTNt01A",
    "outputId": "52068fc6-3c95-4cb5-c7e7-c2ca7d19da91"
   },
   "outputs": [
    {
     "data": {
      "text/html": [
       "<div>\n",
       "<style scoped>\n",
       "    .dataframe tbody tr th:only-of-type {\n",
       "        vertical-align: middle;\n",
       "    }\n",
       "\n",
       "    .dataframe tbody tr th {\n",
       "        vertical-align: top;\n",
       "    }\n",
       "\n",
       "    .dataframe thead th {\n",
       "        text-align: right;\n",
       "    }\n",
       "</style>\n",
       "<table border=\"1\" class=\"dataframe\">\n",
       "  <thead>\n",
       "    <tr style=\"text-align: right;\">\n",
       "      <th></th>\n",
       "      <th>category_pred</th>\n",
       "    </tr>\n",
       "  </thead>\n",
       "  <tbody>\n",
       "    <tr>\n",
       "      <th>0</th>\n",
       "      <td>일자리</td>\n",
       "    </tr>\n",
       "    <tr>\n",
       "      <th>1</th>\n",
       "      <td>교통/건축/국토</td>\n",
       "    </tr>\n",
       "    <tr>\n",
       "      <th>2</th>\n",
       "      <td>기타</td>\n",
       "    </tr>\n",
       "    <tr>\n",
       "      <th>3</th>\n",
       "      <td>교통/건축/국토</td>\n",
       "    </tr>\n",
       "    <tr>\n",
       "      <th>4</th>\n",
       "      <td>교통/건축/국토</td>\n",
       "    </tr>\n",
       "  </tbody>\n",
       "</table>\n",
       "</div>"
      ],
      "text/plain": [
       "  category_pred\n",
       "0           일자리\n",
       "1      교통/건축/국토\n",
       "2            기타\n",
       "3      교통/건축/국토\n",
       "4      교통/건축/국토"
      ]
     },
     "execution_count": 51,
     "metadata": {},
     "output_type": "execute_result"
    }
   ],
   "source": [
    "# 예측 결과를 저장하기 위해 데이터프레임에 담아 줍니다.\n",
    "output = pd.DataFrame(data={'category_pred':y_pred})\n",
    "output.head()"
   ]
  },
  {
   "cell_type": "code",
   "execution_count": 52,
   "metadata": {
    "colab": {
     "base_uri": "https://localhost:8080/",
     "height": 277
    },
    "id": "MOiHATeJt01D",
    "outputId": "a4a57a94-aeb1-4df4-a9a9-86321176f93d"
   },
   "outputs": [
    {
     "data": {
      "text/plain": [
       "육아/교육          378\n",
       "인권/성평등         274\n",
       "정치개혁           182\n",
       "보건복지           180\n",
       "안전/환경          155\n",
       "교통/건축/국토       142\n",
       "반려동물            90\n",
       "기타              72\n",
       "경제민주화           49\n",
       "일자리             29\n",
       "문화/예술/체육/언론     29\n",
       "외교/통일/국방        28\n",
       "행정               8\n",
       "저출산/고령화대책        1\n",
       "Name: category_pred, dtype: int64"
      ]
     },
     "execution_count": 52,
     "metadata": {},
     "output_type": "execute_result"
    }
   ],
   "source": [
    "# 0과 1이 어떻게 집계 되었는지 확인합니다.\n",
    "# 실제 데이터에는 답변 대상 건이 있는데 없는 것으로 예측되었\n",
    "output['category_pred'].value_counts()"
   ]
  },
  {
   "cell_type": "code",
   "execution_count": 53,
   "metadata": {
    "id": "1jrfcS9Pt01G"
   },
   "outputs": [],
   "source": [
    "# 테스트 데이터에 위에 예측한 값을 칼럼으로 추가하고, 예측값과 같으면 1, 다르면 0을 나타내는 칼럼을 또 하나 추가합니다.\n",
    "df_test['category_pred'] = y_pred"
   ]
  },
  {
   "cell_type": "code",
   "execution_count": 54,
   "metadata": {
    "colab": {
     "base_uri": "https://localhost:8080/",
     "height": 967
    },
    "id": "H7Ukpi7Yt01H",
    "outputId": "c650c826-1287-4d86-9b2d-221cae4985f6"
   },
   "outputs": [
    {
     "data": {
      "text/html": [
       "<div>\n",
       "<style scoped>\n",
       "    .dataframe tbody tr th:only-of-type {\n",
       "        vertical-align: middle;\n",
       "    }\n",
       "\n",
       "    .dataframe tbody tr th {\n",
       "        vertical-align: top;\n",
       "    }\n",
       "\n",
       "    .dataframe thead th {\n",
       "        text-align: right;\n",
       "    }\n",
       "</style>\n",
       "<table border=\"1\" class=\"dataframe\">\n",
       "  <thead>\n",
       "    <tr style=\"text-align: right;\">\n",
       "      <th></th>\n",
       "      <th>article_id</th>\n",
       "      <th>start</th>\n",
       "      <th>end</th>\n",
       "      <th>answered</th>\n",
       "      <th>votes</th>\n",
       "      <th>category</th>\n",
       "      <th>title</th>\n",
       "      <th>content</th>\n",
       "      <th>category_pred</th>\n",
       "      <th>content_preprocessing</th>\n",
       "      <th>content_preprocessing2</th>\n",
       "      <th>pred_diff</th>\n",
       "    </tr>\n",
       "  </thead>\n",
       "  <tbody>\n",
       "    <tr>\n",
       "      <th>278676</th>\n",
       "      <td>361769</td>\n",
       "      <td>2018-08-31</td>\n",
       "      <td>2018-09-30</td>\n",
       "      <td>0</td>\n",
       "      <td>661</td>\n",
       "      <td>육아/교육</td>\n",
       "      <td>제아이를 착을수 있게 도와주세요. (국제아동탈취)</td>\n",
       "      <td>Sensitive\\nDear #############.\\nI am #########...</td>\n",
       "      <td>일자리</td>\n",
       "      <td>Sensitive Dear                I am            ...</td>\n",
       "      <td>Sensitive Dear                I am            ...</td>\n",
       "      <td>0</td>\n",
       "    </tr>\n",
       "    <tr>\n",
       "      <th>278697</th>\n",
       "      <td>361808</td>\n",
       "      <td>2018-08-31</td>\n",
       "      <td>2018-09-30</td>\n",
       "      <td>0</td>\n",
       "      <td>922</td>\n",
       "      <td>보건복지</td>\n",
       "      <td>성매매 여성에게 2260만원 지원 조례를 폐기해 주세요</td>\n",
       "      <td>성매매 여성에게 1인당 최대 2,260만원을 지원한다는 조례를 인천시가 제정중입니다...</td>\n",
       "      <td>교통/건축/국토</td>\n",
       "      <td>성매매 여성에게  인당 최대      만원을 지원한다는 조례를 인천시가 제정중입니다...</td>\n",
       "      <td>성매매 여성에게  인당 최대      만원을 지원한다는 조례를 인천시가 제정중입니다...</td>\n",
       "      <td>0</td>\n",
       "    </tr>\n",
       "    <tr>\n",
       "      <th>278704</th>\n",
       "      <td>361818</td>\n",
       "      <td>2018-08-31</td>\n",
       "      <td>2018-09-30</td>\n",
       "      <td>0</td>\n",
       "      <td>646</td>\n",
       "      <td>농산어촌</td>\n",
       "      <td>일본 방사능 식품을 먹고 싶지 않습니다</td>\n",
       "      <td>저는 일본 방사능에 걱정을 갖고 있는 시민입니다.\\n일본 원전 사태 이후로 일본 식...</td>\n",
       "      <td>기타</td>\n",
       "      <td>저는 일본 방사능에 걱정을 갖고 있는 시민입니다  일본 원전 사태 이후로 일본 식품...</td>\n",
       "      <td>일본 방사능에 걱정을 갖고 시민입니다  일본 원전 사태 이후로 일본 식품은 물론 수...</td>\n",
       "      <td>0</td>\n",
       "    </tr>\n",
       "    <tr>\n",
       "      <th>278723</th>\n",
       "      <td>361861</td>\n",
       "      <td>2018-09-01</td>\n",
       "      <td>2018-10-01</td>\n",
       "      <td>0</td>\n",
       "      <td>1011</td>\n",
       "      <td>교통/건축/국토</td>\n",
       "      <td>사전 분양제도를 악용하는 악질 건설사 처벌을 청원합니다.</td>\n",
       "      <td>포항 자이, 오포 양우, 화성동탄 부영 등 최근 신축 아파트의 부실시공이 연일 언론...</td>\n",
       "      <td>교통/건축/국토</td>\n",
       "      <td>포항 자이  오포 양우  화성동탄 부영 등 최근 신축 아파트의 부실시공이 연일 언론...</td>\n",
       "      <td>포항 자이  오포 양우  화성동탄 부영 최근 신축 아파트의 부실시공이 연일 언론을 ...</td>\n",
       "      <td>1</td>\n",
       "    </tr>\n",
       "    <tr>\n",
       "      <th>278822</th>\n",
       "      <td>361999</td>\n",
       "      <td>2018-09-01</td>\n",
       "      <td>2018-10-01</td>\n",
       "      <td>0</td>\n",
       "      <td>1215</td>\n",
       "      <td>안전/환경</td>\n",
       "      <td>부산 영도(구)해사고 해경특공대 훈련시설 반대합니다</td>\n",
       "      <td>부산 영도 (구)해사고 해경특공대 훈련시설 반대 청원\\n남해지방해양경찰청은 부산 영...</td>\n",
       "      <td>교통/건축/국토</td>\n",
       "      <td>부산 영도  구 해사고 해경특공대 훈련시설 반대 청원 남해지방해양경찰청은 부산 영도...</td>\n",
       "      <td>부산 영도  구 해사고 해경특공대 훈련시설 반대 청원 남해지방해양경찰청은 부산 영도...</td>\n",
       "      <td>0</td>\n",
       "    </tr>\n",
       "  </tbody>\n",
       "</table>\n",
       "</div>"
      ],
      "text/plain": [
       "        article_id      start        end  answered  votes  category  \\\n",
       "278676      361769 2018-08-31 2018-09-30         0    661     육아/교육   \n",
       "278697      361808 2018-08-31 2018-09-30         0    922      보건복지   \n",
       "278704      361818 2018-08-31 2018-09-30         0    646      농산어촌   \n",
       "278723      361861 2018-09-01 2018-10-01         0   1011  교통/건축/국토   \n",
       "278822      361999 2018-09-01 2018-10-01         0   1215     안전/환경   \n",
       "\n",
       "                                  title  \\\n",
       "278676      제아이를 착을수 있게 도와주세요. (국제아동탈취)   \n",
       "278697   성매매 여성에게 2260만원 지원 조례를 폐기해 주세요   \n",
       "278704            일본 방사능 식품을 먹고 싶지 않습니다   \n",
       "278723  사전 분양제도를 악용하는 악질 건설사 처벌을 청원합니다.   \n",
       "278822     부산 영도(구)해사고 해경특공대 훈련시설 반대합니다   \n",
       "\n",
       "                                                  content category_pred  \\\n",
       "278676  Sensitive\\nDear #############.\\nI am #########...           일자리   \n",
       "278697  성매매 여성에게 1인당 최대 2,260만원을 지원한다는 조례를 인천시가 제정중입니다...      교통/건축/국토   \n",
       "278704  저는 일본 방사능에 걱정을 갖고 있는 시민입니다.\\n일본 원전 사태 이후로 일본 식...            기타   \n",
       "278723  포항 자이, 오포 양우, 화성동탄 부영 등 최근 신축 아파트의 부실시공이 연일 언론...      교통/건축/국토   \n",
       "278822  부산 영도 (구)해사고 해경특공대 훈련시설 반대 청원\\n남해지방해양경찰청은 부산 영...      교통/건축/국토   \n",
       "\n",
       "                                    content_preprocessing  \\\n",
       "278676  Sensitive Dear                I am            ...   \n",
       "278697  성매매 여성에게  인당 최대      만원을 지원한다는 조례를 인천시가 제정중입니다...   \n",
       "278704  저는 일본 방사능에 걱정을 갖고 있는 시민입니다  일본 원전 사태 이후로 일본 식품...   \n",
       "278723  포항 자이  오포 양우  화성동탄 부영 등 최근 신축 아파트의 부실시공이 연일 언론...   \n",
       "278822  부산 영도  구 해사고 해경특공대 훈련시설 반대 청원 남해지방해양경찰청은 부산 영도...   \n",
       "\n",
       "                                   content_preprocessing2  pred_diff  \n",
       "278676  Sensitive Dear                I am            ...          0  \n",
       "278697  성매매 여성에게  인당 최대      만원을 지원한다는 조례를 인천시가 제정중입니다...          0  \n",
       "278704  일본 방사능에 걱정을 갖고 시민입니다  일본 원전 사태 이후로 일본 식품은 물론 수...          0  \n",
       "278723  포항 자이  오포 양우  화성동탄 부영 최근 신축 아파트의 부실시공이 연일 언론을 ...          1  \n",
       "278822  부산 영도  구 해사고 해경특공대 훈련시설 반대 청원 남해지방해양경찰청은 부산 영도...          0  "
      ]
     },
     "execution_count": 54,
     "metadata": {},
     "output_type": "execute_result"
    }
   ],
   "source": [
    "df_test['pred_diff'] = 0\n",
    "df_test['pred_diff'] = (df_test['category'] == df_test['category_pred'] ) == 1\n",
    "df_test['pred_diff'] = df_test['pred_diff'].astype(int)\n",
    "df_test.head()"
   ]
  },
  {
   "cell_type": "code",
   "execution_count": 55,
   "metadata": {
    "colab": {
     "base_uri": "https://localhost:8080/",
     "height": 69
    },
    "id": "nXmjvRFRt01I",
    "outputId": "bd439278-4334-42c8-a4fe-ff213a92d649"
   },
   "outputs": [
    {
     "data": {
      "text/plain": [
       "0    1370\n",
       "1     247\n",
       "Name: pred_diff, dtype: int64"
      ]
     },
     "execution_count": 55,
     "metadata": {},
     "output_type": "execute_result"
    }
   ],
   "source": [
    "# 맞게 예측한 청원은 1, 틀린 예측은 0으로 표기해서 확인을 해봅니다. \n",
    "pred_diff = df_test['pred_diff'].value_counts()\n",
    "pred_diff"
   ]
  },
  {
   "cell_type": "code",
   "execution_count": 56,
   "metadata": {
    "colab": {
     "base_uri": "https://localhost:8080/",
     "height": 35
    },
    "id": "UZ6tVFBPt01J",
    "outputId": "be9fc098-5edb-45d9-d62c-d13ff8f79875"
   },
   "outputs": [
    {
     "name": "stdout",
     "output_type": "stream",
     "text": [
      "전체 1617건의 데이터 중 247건 예측\n"
     ]
    }
   ],
   "source": [
    "print('전체 {}건의 데이터 중 {}건 예측'.format(y_pred.shape[0], pred_diff[1]))"
   ]
  },
  {
   "cell_type": "code",
   "execution_count": 57,
   "metadata": {
    "colab": {
     "base_uri": "https://localhost:8080/",
     "height": 35
    },
    "id": "rVg3paKyt01O",
    "outputId": "fa07ffbb-493c-4532-c9e8-53187b899536"
   },
   "outputs": [
    {
     "name": "stdout",
     "output_type": "stream",
     "text": [
      "예측 비율 15.275200989486704\n"
     ]
    }
   ],
   "source": [
    "# 예측이 성공한 비율을 확인해봅니다.\n",
    "acc = ( pred_diff[1] / y_pred.shape[0] )*100 \n",
    "print('예측 비율 {}'.format(acc))"
   ]
  },
  {
   "cell_type": "code",
   "execution_count": 58,
   "metadata": {
    "colab": {
     "base_uri": "https://localhost:8080/",
     "height": 1175
    },
    "id": "SM9-2Jzpt01P",
    "outputId": "eea66e03-c3ea-4ae4-f6b9-d7ea91104de1"
   },
   "outputs": [
    {
     "data": {
      "text/html": [
       "<div>\n",
       "<style scoped>\n",
       "    .dataframe tbody tr th:only-of-type {\n",
       "        vertical-align: middle;\n",
       "    }\n",
       "\n",
       "    .dataframe tbody tr th {\n",
       "        vertical-align: top;\n",
       "    }\n",
       "\n",
       "    .dataframe thead th {\n",
       "        text-align: right;\n",
       "    }\n",
       "</style>\n",
       "<table border=\"1\" class=\"dataframe\">\n",
       "  <thead>\n",
       "    <tr style=\"text-align: right;\">\n",
       "      <th></th>\n",
       "      <th>article_id</th>\n",
       "      <th>start</th>\n",
       "      <th>end</th>\n",
       "      <th>answered</th>\n",
       "      <th>votes</th>\n",
       "      <th>category</th>\n",
       "      <th>title</th>\n",
       "      <th>content</th>\n",
       "      <th>category_pred</th>\n",
       "      <th>content_preprocessing</th>\n",
       "      <th>content_preprocessing2</th>\n",
       "      <th>pred_diff</th>\n",
       "    </tr>\n",
       "  </thead>\n",
       "  <tbody>\n",
       "    <tr>\n",
       "      <th>278723</th>\n",
       "      <td>361861</td>\n",
       "      <td>2018-09-01</td>\n",
       "      <td>2018-10-01</td>\n",
       "      <td>0</td>\n",
       "      <td>1011</td>\n",
       "      <td>교통/건축/국토</td>\n",
       "      <td>사전 분양제도를 악용하는 악질 건설사 처벌을 청원합니다.</td>\n",
       "      <td>포항 자이, 오포 양우, 화성동탄 부영 등 최근 신축 아파트의 부실시공이 연일 언론...</td>\n",
       "      <td>교통/건축/국토</td>\n",
       "      <td>포항 자이  오포 양우  화성동탄 부영 등 최근 신축 아파트의 부실시공이 연일 언론...</td>\n",
       "      <td>포항 자이  오포 양우  화성동탄 부영 최근 신축 아파트의 부실시공이 연일 언론을 ...</td>\n",
       "      <td>1</td>\n",
       "    </tr>\n",
       "    <tr>\n",
       "      <th>279705</th>\n",
       "      <td>363136</td>\n",
       "      <td>2018-09-02</td>\n",
       "      <td>2018-10-02</td>\n",
       "      <td>0</td>\n",
       "      <td>7036</td>\n",
       "      <td>인권/성평등</td>\n",
       "      <td>성매매 피해자 여성 지원금 반대합니다.</td>\n",
       "      <td>안녕하세요. 저는 평범한 직장에 다니고있는 20대 남성입니다. 얼마전에 뉴스기사를 ...</td>\n",
       "      <td>인권/성평등</td>\n",
       "      <td>안녕하세요  저는 평범한 직장에 다니고있는   대 남성입니다  얼마전에 뉴스기사를 ...</td>\n",
       "      <td>안녕하세요  평범한 직장에 다니고있는   대 남성입니다  얼마전에 뉴스기사를 보고 ...</td>\n",
       "      <td>1</td>\n",
       "    </tr>\n",
       "    <tr>\n",
       "      <th>281476</th>\n",
       "      <td>365511</td>\n",
       "      <td>2018-09-04</td>\n",
       "      <td>2018-10-04</td>\n",
       "      <td>0</td>\n",
       "      <td>2203</td>\n",
       "      <td>인권/성평등</td>\n",
       "      <td>양성평등 징병제를 청원합니다.</td>\n",
       "      <td>남성이 당하는 성차별에 대해서는 사회적으로 둔감한 경향이 있습니다.\\n대한민국에서 ...</td>\n",
       "      <td>인권/성평등</td>\n",
       "      <td>남성이 당하는 성차별에 대해서는 사회적으로 둔감한 경향이 있습니다  대한민국에서 현...</td>\n",
       "      <td>남성이 당하는 성차별에 대해서는 사회적으로 둔감한 경향이  대한민국에서 현재 남성들...</td>\n",
       "      <td>1</td>\n",
       "    </tr>\n",
       "    <tr>\n",
       "      <th>281763</th>\n",
       "      <td>365887</td>\n",
       "      <td>2018-09-04</td>\n",
       "      <td>2018-10-04</td>\n",
       "      <td>0</td>\n",
       "      <td>734</td>\n",
       "      <td>육아/교육</td>\n",
       "      <td>고등학교 교사와 자녀가 같은 학교에 있는(있었던)경우 내신과 대학입시가  공정했는지...</td>\n",
       "      <td>현재 고등학교 교사 자녀와 쌍둥이 자녀가 같은 학교에 있으면서 내신의 공정성이 의심...</td>\n",
       "      <td>육아/교육</td>\n",
       "      <td>현재 고등학교 교사 자녀와 쌍둥이 자녀가 같은 학교에 있으면서 내신의 공정성이 의심...</td>\n",
       "      <td>현재 고등학교 교사 자녀와 쌍둥이 자녀가 학교에 있으면서 내신의 공정성이 의심되는 ...</td>\n",
       "      <td>1</td>\n",
       "    </tr>\n",
       "    <tr>\n",
       "      <th>282396</th>\n",
       "      <td>366704</td>\n",
       "      <td>2018-09-05</td>\n",
       "      <td>2018-10-05</td>\n",
       "      <td>0</td>\n",
       "      <td>627</td>\n",
       "      <td>육아/교육</td>\n",
       "      <td>교육청 ‘분당 단가’를 현실화 시켜주세요</td>\n",
       "      <td>교육청에서 정하는 과목별 ‘분당단가’를 현실에 맞게 고쳐주세요.\\n저는 아동미술 교...</td>\n",
       "      <td>육아/교육</td>\n",
       "      <td>교육청에서 정하는 과목별  분당단가 를 현실에 맞게 고쳐주세요  저는 아동미술 교습...</td>\n",
       "      <td>교육청에서 정하는 과목별  분당단가 를 현실에 맞게 고쳐주세요  아동미술 교습소를 ...</td>\n",
       "      <td>1</td>\n",
       "    </tr>\n",
       "  </tbody>\n",
       "</table>\n",
       "</div>"
      ],
      "text/plain": [
       "        article_id      start        end  answered  votes  category  \\\n",
       "278723      361861 2018-09-01 2018-10-01         0   1011  교통/건축/국토   \n",
       "279705      363136 2018-09-02 2018-10-02         0   7036    인권/성평등   \n",
       "281476      365511 2018-09-04 2018-10-04         0   2203    인권/성평등   \n",
       "281763      365887 2018-09-04 2018-10-04         0    734     육아/교육   \n",
       "282396      366704 2018-09-05 2018-10-05         0    627     육아/교육   \n",
       "\n",
       "                                                    title  \\\n",
       "278723                    사전 분양제도를 악용하는 악질 건설사 처벌을 청원합니다.   \n",
       "279705                              성매매 피해자 여성 지원금 반대합니다.   \n",
       "281476                                   양성평등 징병제를 청원합니다.   \n",
       "281763  고등학교 교사와 자녀가 같은 학교에 있는(있었던)경우 내신과 대학입시가  공정했는지...   \n",
       "282396                             교육청 ‘분당 단가’를 현실화 시켜주세요   \n",
       "\n",
       "                                                  content category_pred  \\\n",
       "278723  포항 자이, 오포 양우, 화성동탄 부영 등 최근 신축 아파트의 부실시공이 연일 언론...      교통/건축/국토   \n",
       "279705  안녕하세요. 저는 평범한 직장에 다니고있는 20대 남성입니다. 얼마전에 뉴스기사를 ...        인권/성평등   \n",
       "281476  남성이 당하는 성차별에 대해서는 사회적으로 둔감한 경향이 있습니다.\\n대한민국에서 ...        인권/성평등   \n",
       "281763  현재 고등학교 교사 자녀와 쌍둥이 자녀가 같은 학교에 있으면서 내신의 공정성이 의심...         육아/교육   \n",
       "282396  교육청에서 정하는 과목별 ‘분당단가’를 현실에 맞게 고쳐주세요.\\n저는 아동미술 교...         육아/교육   \n",
       "\n",
       "                                    content_preprocessing  \\\n",
       "278723  포항 자이  오포 양우  화성동탄 부영 등 최근 신축 아파트의 부실시공이 연일 언론...   \n",
       "279705  안녕하세요  저는 평범한 직장에 다니고있는   대 남성입니다  얼마전에 뉴스기사를 ...   \n",
       "281476  남성이 당하는 성차별에 대해서는 사회적으로 둔감한 경향이 있습니다  대한민국에서 현...   \n",
       "281763  현재 고등학교 교사 자녀와 쌍둥이 자녀가 같은 학교에 있으면서 내신의 공정성이 의심...   \n",
       "282396  교육청에서 정하는 과목별  분당단가 를 현실에 맞게 고쳐주세요  저는 아동미술 교습...   \n",
       "\n",
       "                                   content_preprocessing2  pred_diff  \n",
       "278723  포항 자이  오포 양우  화성동탄 부영 최근 신축 아파트의 부실시공이 연일 언론을 ...          1  \n",
       "279705  안녕하세요  평범한 직장에 다니고있는   대 남성입니다  얼마전에 뉴스기사를 보고 ...          1  \n",
       "281476  남성이 당하는 성차별에 대해서는 사회적으로 둔감한 경향이  대한민국에서 현재 남성들...          1  \n",
       "281763  현재 고등학교 교사 자녀와 쌍둥이 자녀가 학교에 있으면서 내신의 공정성이 의심되는 ...          1  \n",
       "282396  교육청에서 정하는 과목별  분당단가 를 현실에 맞게 고쳐주세요  아동미술 교습소를 ...          1  "
      ]
     },
     "execution_count": 58,
     "metadata": {},
     "output_type": "execute_result"
    }
   ],
   "source": [
    "# 예측이 된 것과 안 된 것을 비교하기 위해 먼저 제대로 예측한 카테고리 데이터와 예측이 안 된 데이터를 변수로 만들어 담습니다.\n",
    "predict_correct = df_test.loc[df_test['pred_diff'] == 1]\n",
    "predict_correct.head()"
   ]
  },
  {
   "cell_type": "code",
   "execution_count": 59,
   "metadata": {
    "colab": {
     "base_uri": "https://localhost:8080/",
     "height": 950
    },
    "id": "V9uZ4X5Dt01R",
    "outputId": "d428d27d-7037-44ab-e4dd-a8aaa34d6f27"
   },
   "outputs": [
    {
     "data": {
      "text/html": [
       "<div>\n",
       "<style scoped>\n",
       "    .dataframe tbody tr th:only-of-type {\n",
       "        vertical-align: middle;\n",
       "    }\n",
       "\n",
       "    .dataframe tbody tr th {\n",
       "        vertical-align: top;\n",
       "    }\n",
       "\n",
       "    .dataframe thead th {\n",
       "        text-align: right;\n",
       "    }\n",
       "</style>\n",
       "<table border=\"1\" class=\"dataframe\">\n",
       "  <thead>\n",
       "    <tr style=\"text-align: right;\">\n",
       "      <th></th>\n",
       "      <th>article_id</th>\n",
       "      <th>start</th>\n",
       "      <th>end</th>\n",
       "      <th>answered</th>\n",
       "      <th>votes</th>\n",
       "      <th>category</th>\n",
       "      <th>title</th>\n",
       "      <th>content</th>\n",
       "      <th>category_pred</th>\n",
       "      <th>content_preprocessing</th>\n",
       "      <th>content_preprocessing2</th>\n",
       "      <th>pred_diff</th>\n",
       "    </tr>\n",
       "  </thead>\n",
       "  <tbody>\n",
       "    <tr>\n",
       "      <th>278676</th>\n",
       "      <td>361769</td>\n",
       "      <td>2018-08-31</td>\n",
       "      <td>2018-09-30</td>\n",
       "      <td>0</td>\n",
       "      <td>661</td>\n",
       "      <td>육아/교육</td>\n",
       "      <td>제아이를 착을수 있게 도와주세요. (국제아동탈취)</td>\n",
       "      <td>Sensitive\\nDear #############.\\nI am #########...</td>\n",
       "      <td>일자리</td>\n",
       "      <td>Sensitive Dear                I am            ...</td>\n",
       "      <td>Sensitive Dear                I am            ...</td>\n",
       "      <td>0</td>\n",
       "    </tr>\n",
       "    <tr>\n",
       "      <th>278697</th>\n",
       "      <td>361808</td>\n",
       "      <td>2018-08-31</td>\n",
       "      <td>2018-09-30</td>\n",
       "      <td>0</td>\n",
       "      <td>922</td>\n",
       "      <td>보건복지</td>\n",
       "      <td>성매매 여성에게 2260만원 지원 조례를 폐기해 주세요</td>\n",
       "      <td>성매매 여성에게 1인당 최대 2,260만원을 지원한다는 조례를 인천시가 제정중입니다...</td>\n",
       "      <td>교통/건축/국토</td>\n",
       "      <td>성매매 여성에게  인당 최대      만원을 지원한다는 조례를 인천시가 제정중입니다...</td>\n",
       "      <td>성매매 여성에게  인당 최대      만원을 지원한다는 조례를 인천시가 제정중입니다...</td>\n",
       "      <td>0</td>\n",
       "    </tr>\n",
       "    <tr>\n",
       "      <th>278704</th>\n",
       "      <td>361818</td>\n",
       "      <td>2018-08-31</td>\n",
       "      <td>2018-09-30</td>\n",
       "      <td>0</td>\n",
       "      <td>646</td>\n",
       "      <td>농산어촌</td>\n",
       "      <td>일본 방사능 식품을 먹고 싶지 않습니다</td>\n",
       "      <td>저는 일본 방사능에 걱정을 갖고 있는 시민입니다.\\n일본 원전 사태 이후로 일본 식...</td>\n",
       "      <td>기타</td>\n",
       "      <td>저는 일본 방사능에 걱정을 갖고 있는 시민입니다  일본 원전 사태 이후로 일본 식품...</td>\n",
       "      <td>일본 방사능에 걱정을 갖고 시민입니다  일본 원전 사태 이후로 일본 식품은 물론 수...</td>\n",
       "      <td>0</td>\n",
       "    </tr>\n",
       "    <tr>\n",
       "      <th>278822</th>\n",
       "      <td>361999</td>\n",
       "      <td>2018-09-01</td>\n",
       "      <td>2018-10-01</td>\n",
       "      <td>0</td>\n",
       "      <td>1215</td>\n",
       "      <td>안전/환경</td>\n",
       "      <td>부산 영도(구)해사고 해경특공대 훈련시설 반대합니다</td>\n",
       "      <td>부산 영도 (구)해사고 해경특공대 훈련시설 반대 청원\\n남해지방해양경찰청은 부산 영...</td>\n",
       "      <td>교통/건축/국토</td>\n",
       "      <td>부산 영도  구 해사고 해경특공대 훈련시설 반대 청원 남해지방해양경찰청은 부산 영도...</td>\n",
       "      <td>부산 영도  구 해사고 해경특공대 훈련시설 반대 청원 남해지방해양경찰청은 부산 영도...</td>\n",
       "      <td>0</td>\n",
       "    </tr>\n",
       "    <tr>\n",
       "      <th>278978</th>\n",
       "      <td>362185</td>\n",
       "      <td>2018-09-01</td>\n",
       "      <td>2018-10-01</td>\n",
       "      <td>0</td>\n",
       "      <td>593</td>\n",
       "      <td>경제민주화</td>\n",
       "      <td>삼성바이오로직스 회계 사기 수사해 주십시오.</td>\n",
       "      <td>삼성바이오로직스 기업 가치평가 회계 사기 꼭 수사해 주십시오.\\n말도 안되는 근거조...</td>\n",
       "      <td>정치개혁</td>\n",
       "      <td>삼성바이오로직스 기업 가치평가 회계 사기 꼭 수사해 주십시오  말도 안되는 근거조작...</td>\n",
       "      <td>삼성바이오로직스 기업 가치평가 회계 사기 꼭 수사해 주십시오  말도 안되는 근거조작...</td>\n",
       "      <td>0</td>\n",
       "    </tr>\n",
       "  </tbody>\n",
       "</table>\n",
       "</div>"
      ],
      "text/plain": [
       "        article_id      start        end  answered  votes category  \\\n",
       "278676      361769 2018-08-31 2018-09-30         0    661    육아/교육   \n",
       "278697      361808 2018-08-31 2018-09-30         0    922     보건복지   \n",
       "278704      361818 2018-08-31 2018-09-30         0    646     농산어촌   \n",
       "278822      361999 2018-09-01 2018-10-01         0   1215    안전/환경   \n",
       "278978      362185 2018-09-01 2018-10-01         0    593    경제민주화   \n",
       "\n",
       "                                 title  \\\n",
       "278676     제아이를 착을수 있게 도와주세요. (국제아동탈취)   \n",
       "278697  성매매 여성에게 2260만원 지원 조례를 폐기해 주세요   \n",
       "278704           일본 방사능 식품을 먹고 싶지 않습니다   \n",
       "278822    부산 영도(구)해사고 해경특공대 훈련시설 반대합니다   \n",
       "278978        삼성바이오로직스 회계 사기 수사해 주십시오.   \n",
       "\n",
       "                                                  content category_pred  \\\n",
       "278676  Sensitive\\nDear #############.\\nI am #########...           일자리   \n",
       "278697  성매매 여성에게 1인당 최대 2,260만원을 지원한다는 조례를 인천시가 제정중입니다...      교통/건축/국토   \n",
       "278704  저는 일본 방사능에 걱정을 갖고 있는 시민입니다.\\n일본 원전 사태 이후로 일본 식...            기타   \n",
       "278822  부산 영도 (구)해사고 해경특공대 훈련시설 반대 청원\\n남해지방해양경찰청은 부산 영...      교통/건축/국토   \n",
       "278978  삼성바이오로직스 기업 가치평가 회계 사기 꼭 수사해 주십시오.\\n말도 안되는 근거조...          정치개혁   \n",
       "\n",
       "                                    content_preprocessing  \\\n",
       "278676  Sensitive Dear                I am            ...   \n",
       "278697  성매매 여성에게  인당 최대      만원을 지원한다는 조례를 인천시가 제정중입니다...   \n",
       "278704  저는 일본 방사능에 걱정을 갖고 있는 시민입니다  일본 원전 사태 이후로 일본 식품...   \n",
       "278822  부산 영도  구 해사고 해경특공대 훈련시설 반대 청원 남해지방해양경찰청은 부산 영도...   \n",
       "278978  삼성바이오로직스 기업 가치평가 회계 사기 꼭 수사해 주십시오  말도 안되는 근거조작...   \n",
       "\n",
       "                                   content_preprocessing2  pred_diff  \n",
       "278676  Sensitive Dear                I am            ...          0  \n",
       "278697  성매매 여성에게  인당 최대      만원을 지원한다는 조례를 인천시가 제정중입니다...          0  \n",
       "278704  일본 방사능에 걱정을 갖고 시민입니다  일본 원전 사태 이후로 일본 식품은 물론 수...          0  \n",
       "278822  부산 영도  구 해사고 해경특공대 훈련시설 반대 청원 남해지방해양경찰청은 부산 영도...          0  \n",
       "278978  삼성바이오로직스 기업 가치평가 회계 사기 꼭 수사해 주십시오  말도 안되는 근거조작...          0  "
      ]
     },
     "execution_count": 59,
     "metadata": {},
     "output_type": "execute_result"
    }
   ],
   "source": [
    "predict_incorrect = df_test.loc[df_test['pred_diff'] == 0].copy()\n",
    "predict_incorrect.head()"
   ]
  },
  {
   "cell_type": "code",
   "execution_count": 60,
   "metadata": {
    "colab": {
     "base_uri": "https://localhost:8080/",
     "height": 329
    },
    "id": "19dauZBlt01T",
    "outputId": "7a27412f-578e-45e0-a832-5e7ba8bd4fb2"
   },
   "outputs": [
    {
     "data": {
      "text/plain": [
       "교통/건축/국토       181\n",
       "인권/성평등         154\n",
       "안전/환경          139\n",
       "기타             136\n",
       "보건복지           131\n",
       "육아/교육          113\n",
       "정치개혁            80\n",
       "외교/통일/국방        73\n",
       "일자리             71\n",
       "문화/예술/체육/언론     71\n",
       "행정              67\n",
       "경제민주화           46\n",
       "반려동물            42\n",
       "미래              22\n",
       "저출산/고령화대책       16\n",
       "농산어촌            16\n",
       "성장동력            12\n",
       "Name: category, dtype: int64"
      ]
     },
     "execution_count": 60,
     "metadata": {},
     "output_type": "execute_result"
    }
   ],
   "source": [
    "# 항목 당 잘못 예측된 경우를 찾아봅니다.\n",
    "predict_incorrect_value = predict_incorrect['category'].value_counts()\n",
    "predict_incorrect_value"
   ]
  },
  {
   "cell_type": "code",
   "execution_count": 61,
   "metadata": {
    "colab": {
     "base_uri": "https://localhost:8080/",
     "height": 358
    },
    "id": "kzW0yPVzt01V",
    "outputId": "4421625f-5bd3-4ee7-8009-cfaeae18cec6"
   },
   "outputs": [
    {
     "data": {
      "text/plain": [
       "<matplotlib.axes._subplots.AxesSubplot at 0x2164ea770c8>"
      ]
     },
     "execution_count": 61,
     "metadata": {},
     "output_type": "execute_result"
    },
    {
     "data": {
      "image/png": "[encoded data removed]",
      "text/plain": [
       "<Figure size 432x288 with 1 Axes>"
      ]
     },
     "metadata": {
      "image/png": {
       "height": 323,
       "width": 373
      },
      "needs_background": "light"
     },
     "output_type": "display_data"
    }
   ],
   "source": [
    "# 잘못 예측한 데이터를 bar-plot으로 뽑아보면 교통/건축/국토 항목이 제일 많습니다.\n",
    "predict_incorrect_value.plot(kind='bar')"
   ]
  },
  {
   "cell_type": "markdown",
   "metadata": {
    "id": "2MX3Uafzt01Y"
   },
   "source": [
    "# 왜 예측의 정확도가 낮을까요?\n",
    "* 청원을 입력하는 사람마다 카테고리 분류 기준이 정확하지 않은 것 같습니다.\n",
    "* 기타로 예측한 분류도 특정 카테고리로 분류해도 될 것으로 보여집니다."
   ]
  },
  {
   "cell_type": "code",
   "execution_count": 62,
   "metadata": {
    "colab": {
     "base_uri": "https://localhost:8080/",
     "height": 1883
    },
    "id": "CIT34Dj3t01Z",
    "outputId": "5ba98cab-8fa3-4560-8fd3-ecd4f4597073"
   },
   "outputs": [
    {
     "data": {
      "text/html": [
       "<div>\n",
       "<style scoped>\n",
       "    .dataframe tbody tr th:only-of-type {\n",
       "        vertical-align: middle;\n",
       "    }\n",
       "\n",
       "    .dataframe tbody tr th {\n",
       "        vertical-align: top;\n",
       "    }\n",
       "\n",
       "    .dataframe thead th {\n",
       "        text-align: right;\n",
       "    }\n",
       "</style>\n",
       "<table border=\"1\" class=\"dataframe\">\n",
       "  <thead>\n",
       "    <tr style=\"text-align: right;\">\n",
       "      <th></th>\n",
       "      <th>category</th>\n",
       "      <th>category_pred</th>\n",
       "      <th>title</th>\n",
       "      <th>content</th>\n",
       "    </tr>\n",
       "  </thead>\n",
       "  <tbody>\n",
       "    <tr>\n",
       "      <th>278676</th>\n",
       "      <td>육아/교육</td>\n",
       "      <td>일자리</td>\n",
       "      <td>제아이를 착을수 있게 도와주세요. (국제아동탈취)</td>\n",
       "      <td>Sensitive\\nDear #############.\\nI am #########...</td>\n",
       "    </tr>\n",
       "    <tr>\n",
       "      <th>278697</th>\n",
       "      <td>보건복지</td>\n",
       "      <td>교통/건축/국토</td>\n",
       "      <td>성매매 여성에게 2260만원 지원 조례를 폐기해 주세요</td>\n",
       "      <td>성매매 여성에게 1인당 최대 2,260만원을 지원한다는 조례를 인천시가 제정중입니다...</td>\n",
       "    </tr>\n",
       "    <tr>\n",
       "      <th>278704</th>\n",
       "      <td>농산어촌</td>\n",
       "      <td>기타</td>\n",
       "      <td>일본 방사능 식품을 먹고 싶지 않습니다</td>\n",
       "      <td>저는 일본 방사능에 걱정을 갖고 있는 시민입니다.\\n일본 원전 사태 이후로 일본 식...</td>\n",
       "    </tr>\n",
       "    <tr>\n",
       "      <th>278822</th>\n",
       "      <td>안전/환경</td>\n",
       "      <td>교통/건축/국토</td>\n",
       "      <td>부산 영도(구)해사고 해경특공대 훈련시설 반대합니다</td>\n",
       "      <td>부산 영도 (구)해사고 해경특공대 훈련시설 반대 청원\\n남해지방해양경찰청은 부산 영...</td>\n",
       "    </tr>\n",
       "    <tr>\n",
       "      <th>278978</th>\n",
       "      <td>경제민주화</td>\n",
       "      <td>정치개혁</td>\n",
       "      <td>삼성바이오로직스 회계 사기 수사해 주십시오.</td>\n",
       "      <td>삼성바이오로직스 기업 가치평가 회계 사기 꼭 수사해 주십시오.\\n말도 안되는 근거조...</td>\n",
       "    </tr>\n",
       "    <tr>\n",
       "      <th>279111</th>\n",
       "      <td>외교/통일/국방</td>\n",
       "      <td>인권/성평등</td>\n",
       "      <td>진선미 여성가족부 장관 지명자 철회를 청원합니다.</td>\n",
       "      <td>[ 진선미 여성가족부 장관 지명자 철회를 촉구하며 ]\\n군동성애 허용을 주장하는 진...</td>\n",
       "    </tr>\n",
       "    <tr>\n",
       "      <th>279121</th>\n",
       "      <td>인권/성평등</td>\n",
       "      <td>육아/교육</td>\n",
       "      <td>대통령할아버지! 국립 인천 해사고 3학년 해기사 실습생의 한을 풀어주세여!</td>\n",
       "      <td>대통령 할아버지께\\n저는 국립 인천해사고 3학년 학생입니다. 좋은 선장이 되겠다는 ...</td>\n",
       "    </tr>\n",
       "    <tr>\n",
       "      <th>279248</th>\n",
       "      <td>문화/예술/체육/언론</td>\n",
       "      <td>정치개혁</td>\n",
       "      <td>김대용 축구국제심판 박탈하라</td>\n",
       "      <td>베트남과 아랍에미리트 아시안게임의 3,4위전에서 보인 오심의 정도는 정말 축구의 기...</td>\n",
       "    </tr>\n",
       "    <tr>\n",
       "      <th>279252</th>\n",
       "      <td>행정</td>\n",
       "      <td>경제민주화</td>\n",
       "      <td>무책임한 119 대원들을고발합니다.</td>\n",
       "      <td>2018년 8월 29일 제 동생이 병원 입원을 하러 가야 했습니다. 제 동생의 병명...</td>\n",
       "    </tr>\n",
       "    <tr>\n",
       "      <th>279284</th>\n",
       "      <td>문화/예술/체육/언론</td>\n",
       "      <td>육아/교육</td>\n",
       "      <td>오지환 선수의 군면제 특혜 철회와 앞으로 아시안게임의 프로선수 차출금지를 요구합니다</td>\n",
       "      <td>오늘 9월 1일 자카르타 아시안게임에서 대한민국이 일본을 상대로 승리하면서 야구 국...</td>\n",
       "    </tr>\n",
       "  </tbody>\n",
       "</table>\n",
       "</div>"
      ],
      "text/plain": [
       "           category category_pred  \\\n",
       "278676        육아/교육           일자리   \n",
       "278697         보건복지      교통/건축/국토   \n",
       "278704         농산어촌            기타   \n",
       "278822        안전/환경      교통/건축/국토   \n",
       "278978        경제민주화          정치개혁   \n",
       "279111     외교/통일/국방        인권/성평등   \n",
       "279121       인권/성평등         육아/교육   \n",
       "279248  문화/예술/체육/언론          정치개혁   \n",
       "279252           행정         경제민주화   \n",
       "279284  문화/예술/체육/언론         육아/교육   \n",
       "\n",
       "                                                 title  \\\n",
       "278676                     제아이를 착을수 있게 도와주세요. (국제아동탈취)   \n",
       "278697                  성매매 여성에게 2260만원 지원 조례를 폐기해 주세요   \n",
       "278704                           일본 방사능 식품을 먹고 싶지 않습니다   \n",
       "278822                    부산 영도(구)해사고 해경특공대 훈련시설 반대합니다   \n",
       "278978                        삼성바이오로직스 회계 사기 수사해 주십시오.   \n",
       "279111                     진선미 여성가족부 장관 지명자 철회를 청원합니다.   \n",
       "279121       대통령할아버지! 국립 인천 해사고 3학년 해기사 실습생의 한을 풀어주세여!   \n",
       "279248                                 김대용 축구국제심판 박탈하라   \n",
       "279252                             무책임한 119 대원들을고발합니다.   \n",
       "279284  오지환 선수의 군면제 특혜 철회와 앞으로 아시안게임의 프로선수 차출금지를 요구합니다   \n",
       "\n",
       "                                                  content  \n",
       "278676  Sensitive\\nDear #############.\\nI am #########...  \n",
       "278697  성매매 여성에게 1인당 최대 2,260만원을 지원한다는 조례를 인천시가 제정중입니다...  \n",
       "278704  저는 일본 방사능에 걱정을 갖고 있는 시민입니다.\\n일본 원전 사태 이후로 일본 식...  \n",
       "278822  부산 영도 (구)해사고 해경특공대 훈련시설 반대 청원\\n남해지방해양경찰청은 부산 영...  \n",
       "278978  삼성바이오로직스 기업 가치평가 회계 사기 꼭 수사해 주십시오.\\n말도 안되는 근거조...  \n",
       "279111  [ 진선미 여성가족부 장관 지명자 철회를 촉구하며 ]\\n군동성애 허용을 주장하는 진...  \n",
       "279121  대통령 할아버지께\\n저는 국립 인천해사고 3학년 학생입니다. 좋은 선장이 되겠다는 ...  \n",
       "279248  베트남과 아랍에미리트 아시안게임의 3,4위전에서 보인 오심의 정도는 정말 축구의 기...  \n",
       "279252  2018년 8월 29일 제 동생이 병원 입원을 하러 가야 했습니다. 제 동생의 병명...  \n",
       "279284  오늘 9월 1일 자카르타 아시안게임에서 대한민국이 일본을 상대로 승리하면서 야구 국...  "
      ]
     },
     "execution_count": 62,
     "metadata": {},
     "output_type": "execute_result"
    }
   ],
   "source": [
    "\n",
    "predict_incorrect[['category', 'category_pred', 'title', 'content']].head(10)"
   ]
  },
  {
   "cell_type": "code",
   "execution_count": 63,
   "metadata": {
    "colab": {
     "base_uri": "https://localhost:8080/",
     "height": 1814
    },
    "id": "vE8eaLzkt01c",
    "outputId": "f98799be-0b48-40e9-fb30-ec2cca9bc021"
   },
   "outputs": [
    {
     "data": {
      "text/html": [
       "<div>\n",
       "<style scoped>\n",
       "    .dataframe tbody tr th:only-of-type {\n",
       "        vertical-align: middle;\n",
       "    }\n",
       "\n",
       "    .dataframe tbody tr th {\n",
       "        vertical-align: top;\n",
       "    }\n",
       "\n",
       "    .dataframe thead th {\n",
       "        text-align: right;\n",
       "    }\n",
       "</style>\n",
       "<table border=\"1\" class=\"dataframe\">\n",
       "  <thead>\n",
       "    <tr style=\"text-align: right;\">\n",
       "      <th></th>\n",
       "      <th>category</th>\n",
       "      <th>category_pred</th>\n",
       "      <th>title</th>\n",
       "      <th>content</th>\n",
       "    </tr>\n",
       "  </thead>\n",
       "  <tbody>\n",
       "    <tr>\n",
       "      <th>279819</th>\n",
       "      <td>기타</td>\n",
       "      <td>인권/성평등</td>\n",
       "      <td>전통적 가정제도 부정하는 진선미 의원의 여가부 장관 지명 철회를 청원합니다</td>\n",
       "      <td>대한민국에서 보편적인 혼인, 가족관으로 두 자녀를 키우고 있는 국민입니다. 그런데,...</td>\n",
       "    </tr>\n",
       "    <tr>\n",
       "      <th>279982</th>\n",
       "      <td>기타</td>\n",
       "      <td>정치개혁</td>\n",
       "      <td>스포츠토토(베트맨) 국민 피 빨아먹는 짓 중단하게 해주세요</td>\n",
       "      <td>현재 한국의 스포츠토토는 10년이 훌쩍 지난 것으로 알고 있습니다. 하지만 최근에 ...</td>\n",
       "    </tr>\n",
       "    <tr>\n",
       "      <th>282811</th>\n",
       "      <td>기타</td>\n",
       "      <td>인권/성평등</td>\n",
       "      <td>주택임대사업자에 대한 지원정책 폐지후 보유세(종부세)를 강화하여야 합니다.</td>\n",
       "      <td>주택임대사업자 세제지원 정책을 폐지 한 후에 종부세를 강화하여야 종부세 강화의 실효...</td>\n",
       "    </tr>\n",
       "    <tr>\n",
       "      <th>284420</th>\n",
       "      <td>기타</td>\n",
       "      <td>경제민주화</td>\n",
       "      <td>도시공원해제 헌법재판소 판결을 따르라</td>\n",
       "      <td>도시공원은 세금은 꼬바꼬박 내면서도 개인의 재산권을 행사하지 못하게 국가에서 묶어 ...</td>\n",
       "    </tr>\n",
       "    <tr>\n",
       "      <th>287152</th>\n",
       "      <td>기타</td>\n",
       "      <td>인권/성평등</td>\n",
       "      <td>9.17 -18 인천 아시아드 신천지행사를 불허해주십시요</td>\n",
       "      <td>9월17~18일에 인천아시아드 경기장에서 평화행사를 빙자한 반사회적 단체인 신천지의...</td>\n",
       "    </tr>\n",
       "    <tr>\n",
       "      <th>287766</th>\n",
       "      <td>기타</td>\n",
       "      <td>반려동물</td>\n",
       "      <td>대대적인 사기극에 휘말린것 같습니다.</td>\n",
       "      <td>대대적익 사기극에 휘말린거같아 민원드립니다.\\n피해 본사람만해도 수백명입니다.\\n리...</td>\n",
       "    </tr>\n",
       "    <tr>\n",
       "      <th>288502</th>\n",
       "      <td>기타</td>\n",
       "      <td>보건복지</td>\n",
       "      <td>의료사고로피눈물을흘리는사연들주세요</td>\n",
       "      <td>진   정   서\\n수 신 : 문재인 대통령님\\n참 조 : 비서실장님\\n발 신 : ...</td>\n",
       "    </tr>\n",
       "    <tr>\n",
       "      <th>289043</th>\n",
       "      <td>기타</td>\n",
       "      <td>육아/교육</td>\n",
       "      <td>친애하는 대통령님께  꼭한번 봐주세요</td>\n",
       "      <td>조카는 이제 겨우 22살 이에여\\n요번에 8월 27일날 군대에 입대 해서 9월10일...</td>\n",
       "    </tr>\n",
       "    <tr>\n",
       "      <th>289388</th>\n",
       "      <td>기타</td>\n",
       "      <td>외교/통일/국방</td>\n",
       "      <td>유투버 이환의 유튜브활동을 금지해주세요.</td>\n",
       "      <td>온갖 잘못을 저지르고도 반성하기는 커녕 당당히 영상을 올리는 추악한 이환의 유투버 ...</td>\n",
       "    </tr>\n",
       "    <tr>\n",
       "      <th>289705</th>\n",
       "      <td>기타</td>\n",
       "      <td>정치개혁</td>\n",
       "      <td>대한민국 언론의 직무유기를 처벌해주세요!</td>\n",
       "      <td>9월 10일 월요일\\n조코 위도도 인도네시아 대통령님이 방한하셨습니다\\n그러나 이에...</td>\n",
       "    </tr>\n",
       "  </tbody>\n",
       "</table>\n",
       "</div>"
      ],
      "text/plain": [
       "       category category_pred                                      title  \\\n",
       "279819       기타        인권/성평등  전통적 가정제도 부정하는 진선미 의원의 여가부 장관 지명 철회를 청원합니다   \n",
       "279982       기타          정치개혁           스포츠토토(베트맨) 국민 피 빨아먹는 짓 중단하게 해주세요   \n",
       "282811       기타        인권/성평등  주택임대사업자에 대한 지원정책 폐지후 보유세(종부세)를 강화하여야 합니다.   \n",
       "284420       기타         경제민주화                       도시공원해제 헌법재판소 판결을 따르라   \n",
       "287152       기타        인권/성평등            9.17 -18 인천 아시아드 신천지행사를 불허해주십시요   \n",
       "287766       기타          반려동물                       대대적인 사기극에 휘말린것 같습니다.   \n",
       "288502       기타          보건복지                         의료사고로피눈물을흘리는사연들주세요   \n",
       "289043       기타         육아/교육                       친애하는 대통령님께  꼭한번 봐주세요   \n",
       "289388       기타      외교/통일/국방                     유투버 이환의 유튜브활동을 금지해주세요.   \n",
       "289705       기타          정치개혁                     대한민국 언론의 직무유기를 처벌해주세요!   \n",
       "\n",
       "                                                  content  \n",
       "279819  대한민국에서 보편적인 혼인, 가족관으로 두 자녀를 키우고 있는 국민입니다. 그런데,...  \n",
       "279982  현재 한국의 스포츠토토는 10년이 훌쩍 지난 것으로 알고 있습니다. 하지만 최근에 ...  \n",
       "282811  주택임대사업자 세제지원 정책을 폐지 한 후에 종부세를 강화하여야 종부세 강화의 실효...  \n",
       "284420  도시공원은 세금은 꼬바꼬박 내면서도 개인의 재산권을 행사하지 못하게 국가에서 묶어 ...  \n",
       "287152  9월17~18일에 인천아시아드 경기장에서 평화행사를 빙자한 반사회적 단체인 신천지의...  \n",
       "287766  대대적익 사기극에 휘말린거같아 민원드립니다.\\n피해 본사람만해도 수백명입니다.\\n리...  \n",
       "288502  진   정   서\\n수 신 : 문재인 대통령님\\n참 조 : 비서실장님\\n발 신 : ...  \n",
       "289043  조카는 이제 겨우 22살 이에여\\n요번에 8월 27일날 군대에 입대 해서 9월10일...  \n",
       "289388  온갖 잘못을 저지르고도 반성하기는 커녕 당당히 영상을 올리는 추악한 이환의 유투버 ...  \n",
       "289705  9월 10일 월요일\\n조코 위도도 인도네시아 대통령님이 방한하셨습니다\\n그러나 이에...  "
      ]
     },
     "execution_count": 63,
     "metadata": {},
     "output_type": "execute_result"
    }
   ],
   "source": [
    "# 원래 데이터 중 기타로 분류되었으나 분류기가 다르게 예측한 청원을 확인합니다. \n",
    "predict_incorrect_etc = predict_incorrect.loc[predict_incorrect['category'] == '기타'].copy()\n",
    "predict_incorrect_etc[['category', 'category_pred', 'title', 'content']].head(10)\n",
    "\n",
    "# 밑을 보면 기타로 분류되었지만 사실상 예측된 카테고리 분류는 다른 쪽으로 된 것을 확인할 수 있습니다. "
   ]
  },
  {
   "cell_type": "code",
   "execution_count": null,
   "metadata": {},
   "outputs": [],
   "source": []
  }
 ],
 "metadata": {
  "colab": {
   "collapsed_sections": [
    "z3HWXdrYt0zc",
    "TW7ezgBFt0zs",
    "iXQ4-fp8t00F",
    "lXbYgIwzt00M",
    "eRmOcniRt00m",
    "M9u6sKOet00v",
    "nqJ8PZ8Nt006",
    "2MX3Uafzt01Y",
    "qtBaHB1Bt01c"
   ],
   "name": "05 국민청원 카테고리 분류",
   "provenance": []
  },
  "kernelspec": {
   "display_name": "Python 3",
   "language": "python",
   "name": "python3"
  },
  "language_info": {
   "codemirror_mode": {
    "name": "ipython",
    "version": 3
   },
   "file_extension": ".py",
   "mimetype": "text/x-python",
   "name": "python",
   "nbconvert_exporter": "python",
   "pygments_lexer": "ipython3",
   "version": "3.7.7"
  }
 },
 "nbformat": 4,
 "nbformat_minor": 1
}
